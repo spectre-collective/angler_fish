{
 "cells": [
  {
   "cell_type": "code",
   "execution_count": 1,
   "metadata": {},
   "outputs": [],
   "source": [
    "import io\n",
    "\n",
    "def ascii_filter(x):\n",
    "    temp = \"\"\n",
    "    for i in range(len(x)):\n",
    "        t = x[i]\n",
    "        g = ord(t)\n",
    "        if( g < 0 or g > 127):\n",
    "            temp += '#'\n",
    "        else: temp+= x[i]    \n",
    "    return x    "
   ]
  },
  {
   "cell_type": "code",
   "execution_count": 2,
   "metadata": {},
   "outputs": [],
   "source": [
    "fraud = open(\"fraud.txt\", \"w+\")\n",
    "\n",
    "temp = []\n",
    "\n",
    "with io.open(\"fradulent_emails.txt\", 'r', encoding=\"utf-8\", errors=\"surrogateescape\") as suspect:\n",
    "    for line in suspect:\n",
    "        temp.append(line)\n",
    "\n",
    "clean = []\n",
    "\n",
    "for item in temp:\n",
    "    if len(item) != 0:\n",
    "        clean.append(ascii_filter(item))\n",
    "        \n",
    "for item in clean:\n",
    "    res = all(ord(c) < 128 for c in item)\n",
    "    if res == True: fraud.write(item)        "
   ]
  },
  {
   "cell_type": "code",
   "execution_count": null,
   "metadata": {},
   "outputs": [],
   "source": []
  }
 ],
 "metadata": {
  "kernelspec": {
   "display_name": "Python 3",
   "language": "python",
   "name": "python3"
  },
  "language_info": {
   "codemirror_mode": {
    "name": "ipython",
    "version": 3
   },
   "file_extension": ".py",
   "mimetype": "text/x-python",
   "name": "python",
   "nbconvert_exporter": "python",
   "pygments_lexer": "ipython3",
   "version": "3.6.5"
  }
 },
 "nbformat": 4,
 "nbformat_minor": 2
}

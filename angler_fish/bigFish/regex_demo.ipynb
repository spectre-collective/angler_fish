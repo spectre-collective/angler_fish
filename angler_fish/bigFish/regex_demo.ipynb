{
 "cells": [
  {
   "cell_type": "code",
   "execution_count": 1,
   "metadata": {},
   "outputs": [],
   "source": [
    "import re"
   ]
  },
  {
   "cell_type": "code",
   "execution_count": 2,
   "metadata": {},
   "outputs": [],
   "source": [
    "f = open('fraud.txt', 'r')"
   ]
  },
  {
   "cell_type": "code",
   "execution_count": 3,
   "metadata": {},
   "outputs": [],
   "source": [
    "corpus = [item for item in f]\n",
    "\n",
    "sample = [corpus[i] for i in range(100)]"
   ]
  },
  {
   "cell_type": "markdown",
   "metadata": {},
   "source": [
    "# BEGIN REGEX"
   ]
  },
  {
   "cell_type": "code",
   "execution_count": 4,
   "metadata": {},
   "outputs": [],
   "source": [
    "sample_string = str(sample[0:2])\n",
    "\n",
    "pattern = '<.*>'\n",
    "\n",
    "replace = '<entity>'\n",
    "\n",
    "result = re.sub(pattern, replace , sample_string)"
   ]
  },
  {
   "cell_type": "markdown",
   "metadata": {},
   "source": [
    "# RESULT OF PATTERN #1"
   ]
  },
  {
   "cell_type": "code",
   "execution_count": 5,
   "metadata": {},
   "outputs": [
    {
     "name": "stdout",
     "output_type": "stream",
     "text": [
      "ORIGINAL: ['From r  Wed Oct 30 21:41:56 2002\\n', 'Return-Path: <james_ngola2002@maktoob.com>\\n']\n",
      "RESULT: ['From r  Wed Oct 30 21:41:56 2002\\n', 'Return-Path: <entity>\\n']\n"
     ]
    }
   ],
   "source": [
    "print('ORIGINAL: {}'.format(sample_string))\n",
    "print('RESULT: {}'.format(result))"
   ]
  },
  {
   "cell_type": "code",
   "execution_count": 6,
   "metadata": {},
   "outputs": [],
   "source": [
    "sample_string = str(sample[0:2])\n",
    "\n",
    "pattern = '(@[^\\.]*)(.{4})'\n",
    "\n",
    "replace = '*EMAIL*'\n",
    "\n",
    "result = re.sub(pattern, replace, sample_string)"
   ]
  },
  {
   "cell_type": "markdown",
   "metadata": {},
   "source": [
    "# RESULT OF PATTERN #2"
   ]
  },
  {
   "cell_type": "code",
   "execution_count": 7,
   "metadata": {},
   "outputs": [
    {
     "name": "stdout",
     "output_type": "stream",
     "text": [
      "ORIGINAL: ['From r  Wed Oct 30 21:41:56 2002\\n', 'Return-Path: <james_ngola2002@maktoob.com>\\n']\n",
      "RESULT: ['From r  Wed Oct 30 21:41:56 2002\\n', 'Return-Path: <james_ngola2002*EMAIL*>\\n']\n"
     ]
    }
   ],
   "source": [
    "print('ORIGINAL: {}'.format(sample_string))\n",
    "print('RESULT: {}'.format(result))"
   ]
  },
  {
   "cell_type": "markdown",
   "metadata": {},
   "source": [
    "# SEARCH ENTIRE SAMPLE FOR \"ACCOUNT \" + L&R CONTEXT"
   ]
  },
  {
   "cell_type": "code",
   "execution_count": 8,
   "metadata": {},
   "outputs": [],
   "source": [
    "temp = \"\"\n",
    "\n",
    "for item in sample: temp += item\n",
    "    \n",
    "pattern = '(\\w+) (([Aa]ccount)|(ACCOUNT)) (\\w+)'\n",
    "\n",
    "match = re.search(pattern, temp)"
   ]
  },
  {
   "cell_type": "markdown",
   "metadata": {},
   "source": [
    "# RESULT OF PATTERN #3"
   ]
  },
  {
   "cell_type": "code",
   "execution_count": 9,
   "metadata": {},
   "outputs": [
    {
     "name": "stdout",
     "output_type": "stream",
     "text": [
      "MATCH FOUND: BANK ACCOUNT THE\n"
     ]
    }
   ],
   "source": [
    "if(match): print('MATCH FOUND: {}'.format(match.group()))"
   ]
  },
  {
   "cell_type": "markdown",
   "metadata": {},
   "source": [
    "# EXPERIMENTAL , MATCH ENTIRE SENTENCE W/ \"ACCOUNT\""
   ]
  },
  {
   "cell_type": "code",
   "execution_count": 10,
   "metadata": {},
   "outputs": [
    {
     "name": "stdout",
     "output_type": "stream",
     "text": [
      "MATCH FOUND: . IF THE PROPOSAL IS ACCEPTABLE TO YOU PLEASE CONTACT ME IMMEDIATELY THROUGH THE ABOVE TELEPHONE AND E-MAIL, TO ENABLE ME ARRANGE FACE TO FACE MEETING WITH YOU IN GHANA FOR THE CLEARANCE OF THE FUNDS BEFORE TRANSFRING IT TO YOUR BANK ACCOUNT AS SEEING IS BELIEVING.\n"
     ]
    }
   ],
   "source": [
    "temp = \"\"\n",
    "\n",
    "for item in sample: temp += item\n",
    "    \n",
    "pattern = '(\\..*) (([Aa]ccount)|(ACCOUNT)) (.*\\.)'\n",
    "\n",
    "match = re.search(pattern, temp)\n",
    "\n",
    "if(match): print('MATCH FOUND: {}'.format(match.group()))"
   ]
  },
  {
   "cell_type": "code",
   "execution_count": null,
   "metadata": {},
   "outputs": [],
   "source": []
  }
 ],
 "metadata": {
  "kernelspec": {
   "display_name": "Python 3",
   "language": "python",
   "name": "python3"
  },
  "language_info": {
   "codemirror_mode": {
    "name": "ipython",
    "version": 3
   },
   "file_extension": ".py",
   "mimetype": "text/x-python",
   "name": "python",
   "nbconvert_exporter": "python",
   "pygments_lexer": "ipython3",
   "version": "3.6.5"
  }
 },
 "nbformat": 4,
 "nbformat_minor": 2
}

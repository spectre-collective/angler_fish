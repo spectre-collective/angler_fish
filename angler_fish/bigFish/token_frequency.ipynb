{
 "cells": [
  {
   "cell_type": "code",
   "execution_count": 67,
   "metadata": {},
   "outputs": [],
   "source": [
    "import nltk\n",
    "import re"
   ]
  },
  {
   "cell_type": "code",
   "execution_count": 68,
   "metadata": {},
   "outputs": [],
   "source": [
    "def sort_dict(dl):\n",
    "    greatest = 0\n",
    "    clean = []\n",
    "    while(len(dl) != 0):\n",
    "        temp = dl[0]\n",
    "        greatest = 0\n",
    "        for i in range(len(dl)):\n",
    "            if dl[i][1] > temp[1]:\n",
    "                temp = dl[i]\n",
    "                greatest = i\n",
    "        clean.append(temp)\n",
    "        dl.pop(greatest)\n",
    "    return clean    "
   ]
  },
  {
   "cell_type": "code",
   "execution_count": 69,
   "metadata": {},
   "outputs": [],
   "source": [
    "f = open('fraud.txt', 'r')"
   ]
  },
  {
   "cell_type": "code",
   "execution_count": 70,
   "metadata": {},
   "outputs": [],
   "source": [
    "temp = []\n",
    "\n",
    "for item in f:\n",
    "    temp.append(item)\n",
    "    \n",
    "tempstr = \"\"\n",
    "\n",
    "for item in temp: tempstr += item"
   ]
  },
  {
   "cell_type": "code",
   "execution_count": 71,
   "metadata": {},
   "outputs": [],
   "source": [
    "from nltk.probability import ConditionalFreqDist\n",
    "from nltk.tokenize import word_tokenize\n",
    "sent = tempstr\n",
    "cfdist = ConditionalFreqDist()\n",
    "for word in word_tokenize(sent):\n",
    "    condition = len(word)\n",
    "    cfdist[condition][word] += 1"
   ]
  },
  {
   "cell_type": "code",
   "execution_count": 72,
   "metadata": {},
   "outputs": [
    {
     "name": "stdout",
     "output_type": "stream",
     "text": [
      "<class 'nltk.probability.ConditionalFreqDist'>\n"
     ]
    }
   ],
   "source": [
    "print(type(cfdist))"
   ]
  },
  {
   "cell_type": "code",
   "execution_count": 73,
   "metadata": {},
   "outputs": [
    {
     "name": "stdout",
     "output_type": "stream",
     "text": [
      "160\n"
     ]
    }
   ],
   "source": [
    "print(len(cfdist))"
   ]
  },
  {
   "cell_type": "code",
   "execution_count": 74,
   "metadata": {},
   "outputs": [],
   "source": [
    "d_list = []\n",
    "\n",
    "for i in range(len(cfdist)):\n",
    "    d_list.append(dict(cfdist[i]))"
   ]
  },
  {
   "cell_type": "code",
   "execution_count": 76,
   "metadata": {},
   "outputs": [
    {
     "ename": "IndexError",
     "evalue": "string index out of range",
     "output_type": "error",
     "traceback": [
      "\u001b[0;31m---------------------------------------------------------------------------\u001b[0m",
      "\u001b[0;31mIndexError\u001b[0m                                Traceback (most recent call last)",
      "\u001b[0;32m<ipython-input-76-5aa991b1a72c>\u001b[0m in \u001b[0;36m<module>\u001b[0;34m\u001b[0m\n\u001b[1;32m      4\u001b[0m     \u001b[0mtemp\u001b[0m \u001b[0;34m=\u001b[0m \u001b[0;34m[\u001b[0m\u001b[0;34m]\u001b[0m\u001b[0;34m\u001b[0m\u001b[0m\n\u001b[1;32m      5\u001b[0m     \u001b[0;32mfor\u001b[0m \u001b[0mitem\u001b[0m \u001b[0;32min\u001b[0m \u001b[0md_list\u001b[0m\u001b[0;34m[\u001b[0m\u001b[0mi\u001b[0m\u001b[0;34m]\u001b[0m\u001b[0;34m.\u001b[0m\u001b[0mitems\u001b[0m\u001b[0;34m(\u001b[0m\u001b[0;34m)\u001b[0m\u001b[0;34m:\u001b[0m\u001b[0;34m\u001b[0m\u001b[0m\n\u001b[0;32m----> 6\u001b[0;31m         \u001b[0mtemp\u001b[0m\u001b[0;34m.\u001b[0m\u001b[0mappend\u001b[0m\u001b[0;34m(\u001b[0m\u001b[0msort_dict\u001b[0m\u001b[0;34m(\u001b[0m\u001b[0mitem\u001b[0m\u001b[0;34m)\u001b[0m\u001b[0;34m)\u001b[0m\u001b[0;34m\u001b[0m\u001b[0m\n\u001b[0m\u001b[1;32m      7\u001b[0m     \u001b[0mclean\u001b[0m\u001b[0;34m.\u001b[0m\u001b[0mappend\u001b[0m\u001b[0;34m(\u001b[0m\u001b[0mtemp\u001b[0m\u001b[0;34m)\u001b[0m\u001b[0;34m\u001b[0m\u001b[0m\n\u001b[1;32m      8\u001b[0m \u001b[0;34m\u001b[0m\u001b[0m\n",
      "\u001b[0;32m<ipython-input-68-71ad39c19067>\u001b[0m in \u001b[0;36msort_dict\u001b[0;34m(dl)\u001b[0m\n\u001b[1;32m      6\u001b[0m         \u001b[0mgreatest\u001b[0m \u001b[0;34m=\u001b[0m \u001b[0;36m0\u001b[0m\u001b[0;34m\u001b[0m\u001b[0m\n\u001b[1;32m      7\u001b[0m         \u001b[0;32mfor\u001b[0m \u001b[0mi\u001b[0m \u001b[0;32min\u001b[0m \u001b[0mrange\u001b[0m\u001b[0;34m(\u001b[0m\u001b[0mlen\u001b[0m\u001b[0;34m(\u001b[0m\u001b[0mdl\u001b[0m\u001b[0;34m)\u001b[0m\u001b[0;34m)\u001b[0m\u001b[0;34m:\u001b[0m\u001b[0;34m\u001b[0m\u001b[0m\n\u001b[0;32m----> 8\u001b[0;31m             \u001b[0;32mif\u001b[0m \u001b[0mdl\u001b[0m\u001b[0;34m[\u001b[0m\u001b[0mi\u001b[0m\u001b[0;34m]\u001b[0m\u001b[0;34m[\u001b[0m\u001b[0;36m1\u001b[0m\u001b[0;34m]\u001b[0m \u001b[0;34m>\u001b[0m \u001b[0mtemp\u001b[0m\u001b[0;34m[\u001b[0m\u001b[0;36m1\u001b[0m\u001b[0;34m]\u001b[0m\u001b[0;34m:\u001b[0m\u001b[0;34m\u001b[0m\u001b[0m\n\u001b[0m\u001b[1;32m      9\u001b[0m                 \u001b[0mtemp\u001b[0m \u001b[0;34m=\u001b[0m \u001b[0mdl\u001b[0m\u001b[0;34m[\u001b[0m\u001b[0mi\u001b[0m\u001b[0;34m]\u001b[0m\u001b[0;34m\u001b[0m\u001b[0m\n\u001b[1;32m     10\u001b[0m                 \u001b[0mgreatest\u001b[0m \u001b[0;34m=\u001b[0m \u001b[0mi\u001b[0m\u001b[0;34m\u001b[0m\u001b[0m\n",
      "\u001b[0;31mIndexError\u001b[0m: string index out of range"
     ]
    }
   ],
   "source": [
    "clean = []\n",
    "\n",
    "for i in range(len(d_list)):\n",
    "    temp = []\n",
    "    for item in d_list[i].items():\n",
    "        temp.append(sort_dict(item))\n",
    "    clean.append(temp)    \n",
    "    "
   ]
  },
  {
   "cell_type": "code",
   "execution_count": 59,
   "metadata": {},
   "outputs": [],
   "source": [
    "#x = dict(cfdist)"
   ]
  },
  {
   "cell_type": "code",
   "execution_count": 60,
   "metadata": {},
   "outputs": [],
   "source": [
    "#q = []\n",
    "\n",
    "\n",
    "#for item in x.items():\n",
    "    #q.append(item)"
   ]
  },
  {
   "cell_type": "code",
   "execution_count": 61,
   "metadata": {},
   "outputs": [
    {
     "name": "stdout",
     "output_type": "stream",
     "text": [
      "(4, FreqDist({'this': 26732, 'your': 22474, 'that': 19080, 'will': 18786, 'with': 13922, 'nbsp': 11353, 'have': 10945, 'From': 8895, 'from': 7984, 'bank': 5212, ...}))\n"
     ]
    }
   ],
   "source": [
    "#print(q[0])"
   ]
  },
  {
   "cell_type": "code",
   "execution_count": 62,
   "metadata": {},
   "outputs": [
    {
     "name": "stdout",
     "output_type": "stream",
     "text": [
      "(145, FreqDist({'//answers.yahoo.com/dir/_ylc=X3oDMTI5MGx2aThyBF9TAzIxMTU1MDAzNTIEX3MDMzk2NTQ1MTAzBHNlYwNCQUJwaWxsYXJfTklfMzYwBHNsawNQcm9kdWN0X3F1ZXN0aW9uX3BhZ2U-': 4}))\n"
     ]
    }
   ],
   "source": [
    "s = sort_dict(q)\n",
    "\n",
    "print(s[0])"
   ]
  },
  {
   "cell_type": "code",
   "execution_count": 63,
   "metadata": {},
   "outputs": [
    {
     "name": "stdout",
     "output_type": "stream",
     "text": [
      "(145, FreqDist({'//answers.yahoo.com/dir/_ylc=X3oDMTI5MGx2aThyBF9TAzIxMTU1MDAzNTIEX3MDMzk2NTQ1MTAzBHNlYwNCQUJwaWxsYXJfTklfMzYwBHNsawNQcm9kdWN0X3F1ZXN0aW9uX3BhZ2U-': 4}))\n",
      "(200, FreqDist({'VEdqSFQVM1kOlkygof1SqUVkAnlIsZU2lj.OOuizYAkuEqKVHaEoSKTZhG40ZlyhAr4ml.apzbv0WKlK.odhgatFrv7mc3vkW29Z0uM49NUg0kyOVq4WRoSIJ0JeerX6JXM5OwItzxemxjOZEdK.tt9K1oyATz46nue3P4CrEXHfu9nma8Um4_Kss801TFdLpw8lyDQ-': 1}))\n",
      "(122, FreqDist({'\\\\DOCUME~1\\\\user\\\\LOCALS~1\\\\Temp\\\\__SkypeIEToolbar_Cache\\\\e70d95847a8f5723cfca6b3fd9946506\\\\static\\\\inactive_a.compat.stat.w16.gif': 2}))\n",
      "(94, FreqDist({'fI0jeRwVM1lPUeoA6GEU9Lx9G0vqoJs4eRsi_Hl5.IT2ikCjUK6XMnKkTADNyVXPr_jQZ2RQGK9jZcFm1wTf8mOSkVlzlg': 2}))\n",
      "(148, FreqDist({'Details=2E=2E=2E=2E=2E=2E=2E=2E=2E=2E=2E=2E=2E=2E=2E=2E=2E=2E=2E=2E=2E=2E=2E=2E=2E=2E=2E=2E=2E=2E=2E=2E=2E=2E=2E=2E=2E=2E=2E=2E=2E=2E=2E=2E=2E=2E=2E': 1}))\n",
      "(153, FreqDist({'2=2ENationality=2E=2E=2E=2E=2E=2E=2E=2E=2E=2E=2E=2E=2E=2E=2E=2E=2E=2E=2E=2E=2E=2E=2E=2E=2E=2E=2E=2E=2E=2E=2E=2E=2E=2E=2E=2E=2E=2E=2E=2E=2E=2E=2E=2E=2E=2E': 1}))\n",
      "(121, FreqDist({'Name=2E=2E=2E=2E=2E=2E=2E=2E=2E=2E=2E=2E=2E=2E=2E=2E=2E=2E=2E=2E=2E=2E=2E=2E=2E=2E=2E=2E=2E=2E=2E=2E=2E=2E=2E=2E=2E=2E=2E': 1}))\n",
      "(300, FreqDist({'|~||~||~||~||~||~||~||~||~||~||~||~||~||~||~||~||~||~||~||~||~||~||~||~||~||~||~||~||~||~||~||~||~||~||~||~||~||~||~||~||~||~||~||~||~||~||~||~||~||~||~||~||~||~||~||~||~||~||~||~||~||~||~||~||~||~||~||~||~||~||~||~||~||~||~||~||~||~||~||~||~||~||~||~||~||~||~||~||~||~||~||~||~||~||~||~||~||~||~||~|': 2}))\n",
      "(134, FreqDist({'GJULQV8VM1ksiI72kPSsGH182dJJBfe_mMqaDS5ungPtQukh9nh5Cmf1zhG1WvUDcG2S2k9ggvmwlyP8M0in7PnXZaq6cyzk7r2AKks44kkv5qd1443.KxCQULQ6iZbth_TJVw': 1}))\n",
      "(142, FreqDist({'NAME=2E=2E=2E=2E=2E=2E=2E=2E=2E=2E=2E=2E=2E=2E=2E=2E=2E=2E=2E=2E=2E=2E=2E=2E=2E=2E=2E=2E=2E=2E=2E=2E=2E=2E=2E=2E=2E=2E=2E=2E=2E=2E=2E=2E=2E=2E': 1}))\n",
      "(195, FreqDist({'AGE=2E=2E=2E=2E=2E=2E=2E=2E=2E=2E=2E=2E=2E=2E=2E=2E=2E=2E=2E=2E=2E=2E=2E=2E=2E=2E=2E=2E=2E=2E=2E=2E=2E=2E=2E=2E=2E=2E=2E=2E=2E=2E=2E=2E=2E=2E=2E=2E=2E=2E=2E=2E=2E=2E=2E=2E=2E=2E=2E=2E=2E=2E=2E=2E': 1}))\n",
      "(132, FreqDist({'NUMBER=2E=2E=2E=2E=2E=2E=2E=2E=2E=2E=2E=2E=2E=2E=2E=2E=2E=2E=2E=2E=2E=2E=2E=2E=2E=2E=2E=2E=2E=2E=2E=2E=2E=2E=2E=2E=2E=2E=2E=2E=2E=2E': 1}))\n",
      "(140, FreqDist({'l0oQofIVM1m8iSIDQD0o_Z_uX.OALfmn3NM6w7vEwUJ9qPyjpeRAOFQR_1KTPC7dIC.fgnNZW_aKVauts6.emf7NmZ6ndTiqHnWEPdKbTmfHz.dsUIj2bDtJ8zhgnv7uGbm1p3KB0MJ0': 2, 'N=3B0=2E=2E=2E=2E=2E=2E=2E=2E=2E=2E=2E=2E=2E=2E=2E=2E=2E=2E=2E=2E=2E=2E=2E=2E=2E=2E=2E=2E=2E=2E=2E=2E=2E=2E=2E=2E=2E=2E=2E=2E=2E=2E=2E=2E=2E': 1, 'quhMmn0VM1n_sUDmzistUUBGeKoOdAX9P0rx.NSY3wL5YF8mN_bAkWvey8mKIkW65bL5gwyvjaq0ya3XBwDr6m236xFE1GvSKOXSXxNGKhRFRNvwC2u_INbVqxCxRq4DWrt3o8VzV8pm': 1}))\n",
      "(160, FreqDist({'NAME=2E=2E=2E=2E=2E=2E=2E=2E=2E=2E=2E=2E=2E=2E=2E=2E=2E=2E=2E=2E=2E=2E=2E=2E=2E=2E=2E=2E=2E=2E=2E=2E=2E=2E=2E=2E=2E=2E=2E=2E=2E=2E=2E=2E=2E=2E=2E=2E=2E=2E=2E=2E': 1}))\n",
      "(112, FreqDist({'NAME=2E=2E=2E=2E=2E=2E=2E=2E=2E=2E=2E=2E=2E=2E=2E=2E=2E=2E=2E=2E=2E=2E=2E=2E=2E=2E=2E=2E=2E=2E=2E=2E=2E=2E=2E=2E': 1}))\n",
      "(204, FreqDist({'=3Chttp=3A=2F=2Fnews=2Ebbc=2Eco=2Euk=2F2=2Fhi=2Fin=5Fdepth=2Fafrica=2F2004=2Fsudan=2Fdefault=2Estm=3E=3Chttp=3A=2F=2Fnews=2Ebbc=2Eco=2Euk=2F2=2Fhi=2Fin=5Fdepth=2Fafrica=2F2004=2Fsudan=2Fdefault=2Estmt=3Et': 1}))\n",
      "(117, FreqDist({'=3Chttp=3A=2F=2Fmail=2Eyahoo=2Ecom=2Fconfig=2Flogin=3F=2Fym=2FCompose=3FTo=3Dmm=5Fm=5F17johnson=40yahoo=2Ecom=2Eau=3E': 1, 'Sex=2E=2E=2E=2E=2E=2E=2E=2E=2E=2E=2E=2E=2E=2E=2E=2E=2E=2E=2E=2E=2E=2E=2E=2E=2E=2E=2E=2E=2E=2E=2E=2E=2E=2E=2E=2E=2E=2E': 1}))\n",
      "(128, FreqDist({'5eb47c4d13b991673cf965acf3ce773794f5150ab1c16ac04be4f309a0cc41dd43fa37d18275e69cb047146e862595bf350badd9bab72f9c350badd9bab72f9c': 1, 'o5zF8agVM1kf2ZRHeJhE9L.9FfycGHhAYGCciwwXk.dA7F_9us4NYZejoTZKwDh3DhhZcebUFvnyMsXOPJAP6..zMyVev.ejbTE4n5IQXepCIvUgMhDDHeE.iy1FLUI-': 1}))\n",
      "(123, FreqDist({'STATE=2FCOUNTRY=2E=2E=2E=2E=2E=2E=2E=2E=2E=2E=2E=2E=2E=2E=2E=2E=2E=2E=2E=2E=2E=2E=2E=2E=2E=2E=2E=2E=2E=2E=2E=2E=2E=2E=2E=2E': 3, '\\\\DOCUME~1\\\\green\\\\LOCALS~1\\\\Temp\\\\__SkypeIEToolbar_Cache\\\\e70d95847a8f5723cfca6b3fd9946506\\\\static\\\\inactive_a.compat.stat.w16.gif': 2}))\n",
      "(159, FreqDist({'STATUS=3A=2E=2E=2E=2E=2E=2E=2E=2E=2E=2E=2E=2E=2E=2E=2E=2E=2E=2E=2E=2E=2E=2E=2E=2E=2E=2E=2E=2E=2E=2E=2E=2E=2E=2E=2E=2E=2E=2E=2E=2E=2E=2E=2E=2E=2E=2E=2E=2E=2E=2E': 3}))\n",
      "(171, FreqDist({'AGE=3A=2E=2E=2E=2E=2E=2E=2E=2E=2E=2E=2E=2E=2E=2E=2E=2E=2E=2E=2E=2E=2E=2E=2E=2E=2E=2E=2E=2E=2E=2E=2E=2E=2E=2E=2E=2E=2E=2E=2E=2E=2E=2E=2E=2E=2E=2E=2E=2E=2E=2E=2E=2E=2E=2E=2E': 3, 'NUMBER=2E=2E=2E=2E=2E=2E=2E=2E=2E=2E=2E=2E=2E=2E=2E=2E=2E=2E=2E=2E=2E=2E=2E=2E=2E=2E=2E=2E=2E=2E=2E=2E=2E=2E=2E=2E=2E=2E=2E=2E=2E=2E=2E=2E=2E=2E=2E=2E=2E=2E=2E=2E=2E=2E=2E': 1}))\n",
      "(109, FreqDist({'ADDRESS=2E=2E=2E=2E=2E=2E=2E=2E=2E=2E=2E=2E=2E=2E=2E=2E=2E=2E=2E=2E=2E=2E=2E=2E=2E=2E=2E=2E=2E=2E=2E=2E=2E=2E': 2, '\\\\DOCUME~1\\\\green\\\\LOCALS~1\\\\Temp\\\\__SkypeIEToolbar_Cache\\\\e70d95847a8f5723cfca6b3fd9946506\\\\static\\\\famfamfam/CI.gif': 2}))\n",
      "(166, FreqDist({'NAME=2E=2E=2E=2E=2E=2E=2E=2E=2E=2E=2E=2E=2E=2E=2E=2E=2E=2E=2E=2E=2E=2E=2E=2E=2E=2E=2E=2E=2E=2E=2E=2E=2E=2E=2E=2E=2E=2E=2E=2E=2E=2E=2E=2E=2E=2E=2E=2E=2E=2E=2E=2E=2E=2E': 2}))\n",
      "(130, FreqDist({'b=i34uqQV6MMzpyVl4G8kwNbv1ERXCrshHjC11MQgb1a3Su2GVtLVHV9L4bnVBrYBZV1cDzcMWbgirHOV7xN31Sw/YdFhI1+5ZZ9vtpYMlK9po/5gtiSKMNFB+zcMd+EF5': 1, 'b=kazvoxkoRTQiLqvXd1GnxOvcA5f8vd2I9VnacqeNgsru+YzlMBoO4sFTR2XshChzLtHqWvOJWTkqieFBx/lEuhM1FrVL1x+air8hbsdrbLTUZG5i2M3izo+/3GAWUtLM': 1, 'b=LzYKlOX/DYlPDkGIzuKlr6iqyEyzsIKpH5G0NBLwK7YdS2q+GL5ct7qQL392ZeHKfVmEVtlwcqhNKmTleTLsPdHJVvDSbG7MbFdNCHarZuiCX38wyNH1KtQjlSd/r7NH': 1, 'b=qR+KOvQphlEa8OwzqPMRJah/8IJCJGIUdAByi6fIEi2+PqoLwcLMh+oXBHi4/OSaltup01OrB8l3M84RnqECAe2iatHaes6848AtgDkPp15Je8LGjzr8G+ngrsW7Iskq': 1, 'b=gv5ePGs3udxr3NR3o7BBzL+79cvKCI0btzEF2rH9jdw/L8okeGA0qTZdW/Rj/xK17tjI27g5L2syTtaxS6txbHHF6xqusl6iFF+Z4TWVNMS9+ZMr2bXZbA4iJPsokWcZ': 1, 'b=TIX66aONsyDJatC2TDvaVB7/P7lzBNHjFUmvHF3QT1yXQH78ZMSjRYRAqVjSZo6EAkfskGEh9Cj0ZgmCI+5T7BFqrwzSEwdENwL4UXMdjtZ1IwWxX8xx0X/Zf1G69VMg': 1, 'b=szVnkjsZ6oAmoUhKFrJsxpAPiC3pYezhJPqBMaWVT9eXK0S66w2xH0AdsdoFTCScn7BK2PkMjJ08qt0oBvnQsqQ/yDX4pseVe/w98oMNqViGuZ2LJ/7PkGicQkGojjVA': 1, 'b=QpZBqF49vOIaABwCqZUn4WaOcBXYz6esiqiJTmYE19H637obkkW1xBS30yp0QzgmLsqYYiJ+mK75Eps/1HAJ3UmBN2tSyrq3mGZDsaUJhS9CjOI6rDUOq3lrEgY5Oo+h': 1, 'b=XNT2jj8E6tGDBawpoc9CPqN9V7THBRlO4YFv9tY/j0SYVFl3xal2JomWm0FFVXF0Rczxsy9omyP9j4AucoQ9Kyg3FpL7DRHawbB9NDfBEy4iMHwdP1T1hAfwLvyDi6S6': 1, 'b=Yc+fD2ssLDCvI7KV2NNcLwhQsr1G7BRINingSp77h1HgaMJnbhs9ml2TsfdTUTp1w/bjX4iT2aRZpdZSlKXgEF3XrZhikI9jD33yfXY/J+1lHavXw8/JqdypG3+k+wKu': 1, ...}))\n",
      "(73, FreqDist({'=5F=5F=5F=5F=5F=5F=5F=5F=5F=5F=5F=5F=5F=5F=5F=5F=5F=5F=5F=5F=5F=5F=5F=5F=': 6, 'DETAILS=2E=2E=2E=2E=2E=2E=2E=2E=2E=2E=2E=2E=2E=2E=2E=2E=2E=2E=2E=2E=2E=2E': 2, '_ylc=X3oDMTE2bzVzaHJtBF9TAzk1OTQ5NjM2BHNlYwNtYWlsdGFnBHNsawNob2xpZGF5LTA1': 1, 'i-bin/AdWorks/sigimpress.cgi/www.rediff.com/signature-home.htm/1963059423': 1, 'color=2Ehttp=3A=2F=2Fwww=2Eunwire=2Eorg=2FUNWire=2F20030716=2F449=5F66=3E': 1, '_ylc=X3oDMTE1YW1jcXJ2BF9TAzk3MTA3MDc2BHNlYwNtYWlsdGFncwRzbGsDbmV3LWNhcnM-': 1, '=A0=A0=A0=A0=A0=A0=A0=A0=A0=A0=A0=A0=A0=A0=A0=A0=A0=A0=A0=A0=A0=A0=A0=A0=': 1}))\n",
      "(120, FreqDist({'AGE=3A=2E=2E=2E=2E=2E=2E=2E=2E=2E=2E=2E=2E=2E=2E=2E=2E=2E=2E=2E=2E=2E=2E=2E=2E=2E=2E=2E=2E=2E=2E=2E=2E=2E=2E=2E=2E=2E=2E': 1, 'iw1PdBoVM1luUopYwMSAgCUpEUthgRhvcD2EUcp0rZPih55xS_u7I4jS6Gg3BTJ3XBjHAfP.WREuT1MDUy2pds9SGO1zY49h2nrtXcKDrBNekR3kPtMS2ug-': 1, 'Tb.fKo8VM1l7KDGq9wk9Hm1jbPEGN5kRveVcGdLn7COfDWtZMxneiR4kCJTo.mprPgMCBHeSt21FuQ3Udclh5U36LQcJiOLezC98dpn2.KXxeYXmQCTJh94-': 1, '=2E=2E=2E=2E=2E=2E=2E=2E=2E=2E=2E=2E=2E=2E=2E=2E=2E=2E=2E=2E=2E=2E=2E=2E=2E=2E=2E=2E=2E=2E=2E=2E=2E=2E=2E=2E=2E=2E=2E=2E': 1, 'HfqMN1UVM1k834UK9b77nZ8Z7LsLPSCeKVd9.tYtemG19ZJw.aJqcMEXK.BjvUYrMOudBUHR07pA1OdTeDNk.ggj9VBY3TBV1rT_dCEGWI.9xtj56nRrnM8-': 1, 'SU78I3wVM1nyvEEWH2Zi_.fnySv9OZTSGpckVJbPjtn2c9mvsLMkkUaZD0SMMeIliGmAr2JHMTPvqWjYx3.ESiJ.Iz23ZznY_PPNa9xxqOZwctoGbzxX3aQ-': 1}))\n",
      "(118, FreqDist({'NAME=2E=2E=2E=2E=2E=2E=2E=2E=2E=2E=2E=2E=2E=2E=2E=2E=2E=2E=2E=2E=2E=2E=2E=2E=2E=2E=2E=2E=2E=2E=2E=2E=2E=2E=2E=2E=2E=2E': 1}))\n",
      "(79, FreqDist({'_ylc=X3oDMTFhN2hucjlpBF9TAzk3NDA3NTg5BHBvcwM1BHNlYwNncm91cHMEc2xrA2VtYWlsLW5jbQ': 2, 'http=3A=2F=2Fwww=2Eusatoday=2Ecom=2Fnews=2Fworld=2F2003-07-15-liberia=5Fx=2Ehtm': 1, 'UK=3Ahttp=3A=2F=2Fnews=2Ebbc=2Eco=2Euk=2F1=2Fhi=2Fworld=2Feurope=2F859479=2Estm': 1, 'NAME=2E=2E=2E=2E=2E=2E=2E=2E=2E=2E=2E=2E=2E=2E=2E=2E=2E=2E=2E=2E=2E=2E=2E=2E=2E': 1, 'site=3A=3Chttp=3A=2F=2Fwww=2Erte=2Eie=2Fnews=2F2000=2F0418=2Fzimbabwe=2Ehtml=3E': 1}))\n",
      "(77, FreqDist({'website=3Ahttp=3A=2F=2Fnews=2Ebbc=2Eco=2Euk=2F2=2Fhi=2Fafrica=2F2269238=2Estm': 4, '_ylc=X3oDMTE5cDF2bXZzBF9TAzk3MTA3MDc2BHNlYwNtYWlsdGFncwRzbGsDZ3JlZW4tY2VudGVy': 3}))\n",
      "(86, FreqDist({'=3Chttp=3A=2F=2Fwww=2Ecnn=2Ecom=2F2000=2FUS=2F02=2F01=2Falaska=2Eairlines=2Elist=2F=3E': 2}))\n",
      "(89, FreqDist({'Iran=28http=3A=2F=2Fnews=2Ebbc=2Eco=2Euk=2F1=2Fhi=2Ftalking=5Fpoint=2F3350195=2Estm=29=2E': 1, '122920060920.28687.4594DDCC0001BD110000700F219791332903010CD2079C080C03BF979B9B9A9C039A03': 1}))\n",
      "(126, FreqDist({'STATE=2FCOUNTRY=2E=2E=2E=2E=2E=2E=2E=2E=2E=2E=2E=2E=2E=2E=2E=2E=2E=2E=2E=2E=2E=2E=2E=2E=2E=2E=2E=2E=2E=2E=2E=2E=2E=2E=2E=2E=2E': 1, 'NUMBER=2E=2E=2E=2E=2E=2E=2E=2E=2E=2E=2E=2E=2E=2E=2E=2E=2E=2E=2E=2E=2E=2E=2E=2E=2E=2E=2E=2E=2E=2E=2E=2E=2E=2E=2E=2E=2E=2E=2E=2E': 1, 'sukGaWsVM1lw1RLTLC2eJZR5B_evChNeh85e7bd27WTsVGPGSkETlAuzXvG9pCGVt7wgYgGkiSCxpKWmDiI5VABEddRp3HCVQLbJhK5ZbK1BlJZvA2XftCiAPgffVA': 1, 'yTpMU34VM1nKjqBUXpEXJ5vaa4.5rdR3E4oyIMOKQAxpgcut_9OtRdhubFcivTucaFDYfrAw6ZsLzACKbblmt1Cc839bgDr1MmsqbaZJ1PJMFJV4n_hILjzZ_ANOEw': 1}))\n",
      "(141, FreqDist({'STATUS=3A=2E=2E=2E=2E=2E=2E=2E=2E=2E=2E=2E=2E=2E=2E=2E=2E=2E=2E=2E=2E=2E=2E=2E=2E=2E=2E=2E=2E=2E=2E=2E=2E=2E=2E=2E=2E=2E=2E=2E=2E=2E=2E=2E=2E': 1}))\n",
      "(139, FreqDist({'NAME=2E=2E=2E=2E=2E=2E=2E=2E=2E=2E=2E=2E=2E=2E=2E=2E=2E=2E=2E=2E=2E=2E=2E=2E=2E=2E=2E=2E=2E=2E=2E=2E=2E=2E=2E=2E=2E=2E=2E=2E=2E=2E=2E=2E=2E': 1}))\n",
      "(114, FreqDist({'=3C=3C=3Chttp=3A=2F=2Fwww=2Echannelnewsasia=2Ecom=2Fstories=2Fafp=5Fworld=5Fbusiness=2Fview=2F112302=2F1=2F=2Eh=3E': 2, 'STATUS=3A=2E=2E=2E=2E=2E=2E=2E=2E=2E=2E=2E=2E=2E=2E=2E=2E=2E=2E=2E=2E=2E=2E=2E=2E=2E=2E=2E=2E=2E=2E=2E=2E=2E=2E=2E': 1, 'NUMBER=2E=2E=2E=2E=2E=2E=2E=2E=2E=2E=2E=2E=2E=2E=2E=2E=2E=2E=2E=2E=2E=2E=2E=2E=2E=2E=2E=2E=2E=2E=2E=2E=2E=2E=2E=2E': 1}))\n",
      "(110, FreqDist({'target=3D=5Fblankhttp=3A=2F=2Fwww=2Eforbes=2Ecom=2Fhome=2Ffeeds=2Fap=2F2004=2F10=2F18=2Fap1595717=2Ehtml=3E=3E': 2, 'POSITION=2E=2E=2E=2E=2E=2E=2E=2E=2E=2E=2E=2E=2E=2E=2E=2E=2E=2E=2E=2E=2E=2E=2E=2E=2E=2E=2E=2E=2E=2E=2E=2E=2E=2E': 2, '//us.lrd.yahoo.com/_ylc=X3oDMTFqODRtdXQ4BF9TAzMyOTc1MDIEX3MDOTY2ODgxNjkEcG9zAzEEc2VjA21haWwtZm9vdGVyBHNsawNmYw': 1}))\n",
      "(111, FreqDist({'target=3D=5Fblankhttp=3A=2F=2Fmoney=2Ecnn=2Ecom=2F2004=2F10=2F18=2Fnews=2Finternational=2Fyukos=2Ereut=2F=3E=3E': 2, '//www.chargershop.co.uk/www.bankofamerica.com/www.bankofamerica.com/Update/Securelogin/onlinebanking/index.html': 1}))\n",
      "(107, FreqDist({'=3C=3Chttp=3A=2F=2Fwww=2Emercurynews=2Ecom=2Fmld=2Fmercurynews=2Fnews=2Fbreaking=5Fnews=2F9950187=2Eh=3E=3E': 2, 'N=3B0=2E=2E=2E=2E=2E=2E=2E=2E=2E=2E=2E=2E=2E=2E=2E=2E=2E=2E=2E=2E=2E=2E=2E=2E=2E=2E=2E=2E=2E=2E=2E=2E=2E=2E': 1}))\n",
      "(106, FreqDist({'target=3D=5Fblankhttp=3A=2F=2Fwww=2Emosnews=2Ecom=2Fmoney=2F2004=2F10=2F18=2Fyuganskneftegaz=2Eshtml=3E=3E': 2, 'ADDRESS=2E=2E=2E=2E=2E=2E=2E=2E=2E=2E=2E=2E=2E=2E=2E=2E=2E=2E=2E=2E=2E=2E=2E=2E=2E=2E=2E=2E=2E=2E=2E=2E=2E': 1, 'NAME=2E=2E=2E=2E=2E=2E=2E=2E=2E=2E=2E=2E=2E=2E=2E=2E=2E=2E=2E=2E=2E=2E=2E=2E=2E=2E=2E=2E=2E=2E=2E=2E=2E=2E': 1}))\n",
      "(96, FreqDist({'href=3D=22http=3A=2F=2Fwww=2Emosnews=2Ecom=2Fmoney=2F2004=2F10=2F18=2Fyuganskneftegaz=2Eshtml=22': 2, 'http=3A=2F=2Fwww=2Echinadaily=2Ecom=2Ecn=2Fenglish=2Fdoc=2F2004-11=2F30=2Fcontent=5F396081=2Ehtm': 2, 'NUMBER=2E=2E=2E=2E=2E=2E=2E=2E=2E=2E=2E=2E=2E=2E=2E=2E=2E=2E=2E=2E=2E=2E=2E=2E=2E=2E=2E=2E=2E=2E': 1, 'http=3A=2F=2Fwww=2Echinadaily=2Ecom=2Ecn=2Fenglish=2Fdoc=2F2005-02=2F06=2Fcontent=5F415563=2Ehtm': 1, 'http=3A=2F=2Fwww=2Ecnn=2Ecom=2F2006=2FWORLD=2Fafrica=2F03=2F29=2Ftaylor=2Enigeria=2Findex=2Ehtml': 1}))\n",
      "(85, FreqDist({'href=3D=22http=3A=2F=2Fnewsfromrussia=2Ecom=2Fmain=2F2003=2F11=2F13=2F51215=2Ehtml=22': 2, 'NUMBERS=2E=2E=2E=2E=2E=2E=2E=2E=2E=2E=2E=2E=2E=2E=2E=2E=2E=2E=2E=2E=2E=2E=2E=2E=2E=2E': 1, '=3Chttp=3A=2F=2Fwww=2Enativefederation=2Eorg=2Fhistory=2Fpeople=2FmThompson=2Ehtml=3E': 1}))\n",
      "(97, FreqDist({'=3C=3Chttp=3A=2F=2Fwww=2Ewashingtonpost=2Ecom=2Fwp-dyn=2Farticles=2FA28041-2004Oct12=2Ehtml=3E=3E': 1, '=3Chttp=3A=2F=2Fus=2Ef302=2Email=2Eyahoo=2Ecom=2Fym=2FCompose=3FTo=3Deddy37sure=40she=2Ecom=3E=29': 1}))\n",
      "(108, FreqDist({'target=3D=5Fblankhttp=3A=2F=2Fwww=2Ewashingtonpost=2Ecom=2Fwp-dyn=2Farticles=2FA28041-2004Oct12=2Ehtml=3E=3E': 2, '//banner.eresmas.com/adclick/CID=0000642ec858344d00000000/site=ERESMAS/area=ERESMAS.CORREO/aamsz=PIE_WEBMAIL': 2, '\\\\DOCUME~1\\\\user\\\\LOCALS~1\\\\Temp\\\\__SkypeIEToolbar_Cache\\\\e70d95847a8f5723cfca6b3fd9946506\\\\static\\\\famfamfam/BF.gif': 2, '=3C=3Chttp=3A=2F=2Fwww=2Echannelnewsasia=2Ecom=2Fstories=2Fafp=5Fworld=5Fbusiness=2Fview=2F112302=2F1=2F=2Eh': 1, '//banner.eresmas.com/adclick/CID=0000647cc858344d00000000/site=ERESMAS/area=ERESMAS.CORREO/aamsz=PIE_WEBMAIL': 1, 'AGE=3A=2E=2E=2E=2E=2E=2E=2E=2E=2E=2E=2E=2E=2E=2E=2E=2E=2E=2E=2E=2E=2E=2E=2E=2E=2E=2E=2E=2E=2E=2E=2E=2E=2E=2E': 1, 'NUMBER=2E=2E=2E=2E=2E=2E=2E=2E=2E=2E=2E=2E=2E=2E=2E=2E=2E=2E=2E=2E=2E=2E=2E=2E=2E=2E=2E=2E=2E=2E=2E=2E=2E=2E': 1, 'Status=2E=2E=2E=2E=2E=2E=2E=2E=2E=2E=2E=2E=2E=2E=2E=2E=2E=2E=2E=2E=2E=2E=2E=2E=2E=2E=2E=2E=2E=2E=2E=2E=2E=2E': 1}))\n",
      "(90, FreqDist({'=3C=3Chttp=3A=2F=2Fwww=2Enewratings=2Ecom=2Fanalyst=5Fnews=2Farticle=5F496642=2Ehtml=3E=3E': 1, '//us.lrd.yahoo.com/_ylc=X3oDMTE0bG4ybmRjBF9TAzk1OTQ5NjM2BHNlYwNtYWlsdGFnBHNsawNhdWN0aW9ucw': 1, 'http=3A=2F=2Fwww=2Etimeinc=2Enet=2Fasiaweek=2Fmagazine=2F2000=2F0505=2Fedit=2Eflush=2Ehtml': 1, 'STATE=2FCOUNTRY=2E=2E=2E=2E=2E=2E=2E=2E=2E=2E=2E=2E=2E=2E=2E=2E=2E=2E=2E=2E=2E=2E=2E=2E=2E': 1, 'RPDID=7374723D303030312E30413031303230332E34344437383931452E303032312C73733D322C6667733D30': 1, 'b=CaDFNpqtkzyp2Mu5GMmUT/x+NCx0u9z5hAom7IeqNxwkW5UtvsqXd8mZYenhebuaUeyIix9CD5DKg9DlH6BxLQ==': 1, 'calendar-contact.ifbdu3lsonzg643fl5wwwylnmfptembqfuytcobwguytgojxgy3dgnzqgmytqnbr-rrrrr=UM': 1, 'RPDID=7374723D303030312E30413031303230372E34364242303738452E303046452C73733D312C6667733D30': 1}))\n",
      "(99, FreqDist({'=3Chttp=3A=2F=2Fwww=2Ecnn=2Ecom=2F2003=2FWORLD=2Fafrica=2F07=2F20=2Fkenya=2Ecrash=2Findex=2Ehtml=3E': 2, '=3C=3Chttp=3A=2F=2Fwww=2Eforbes=2Ecom=2Fhome=2Ffeeds=2Fap=2F2004=2F10=2F18=2Fap1595717=2Ehtml=3E=3E': 1}))\n",
      "(81, FreqDist({'=3Chttp=3A=2F=2Fnews=2Ebbc=2Eco=2Euk=2F1=2Fhi=2Fworld=2Fafrica=2F2134220=2Estm=3E': 2, '=3C=3Chttp=3A=2F=2Fnews=2Ebbc=2Eco=2Euk=2F1=2Fhi=2Fbusiness=2F3753804=2Estm=3E=3E': 1, 'http=3A=2F=2Fwww=2Ecnn=2Ecom=2FUS=2F9911=2F02=2Fegyptair990=2Elist=2Findex=2Ehtml': 1}))\n",
      "(101, FreqDist({'href=3D=22http=3A=2F=2Fmoney=2Ecnn=2Ecom=2F2004=2F10=2F18=2Fnews=2Finternational=2Fyukos=2Ereut=2F=22': 2, 'target=3D=5Fblankhttp=3A=2F=2Fwww=2Enewratings=2Ecom=2Fanalyst=5Fnews=2Farticle=5F496642=2Ehtml=3E=3E': 2, '=3Chttp=3A=2F=2Fwww=2Emercurynews=2Ecom=2Fmld=2Fmercurynews=2Fnews=2Fbreaking=5Fnews=2F9950187=2Eh=3E': 1, 'http=3A=2F=2Fnews=2Ebbc=2Eco=2Euk=2Fgo=2Fpr=2Ffr=2F-=2F1=2Fhi=2Fworld=2Fmiddle=5Feast=2F3970619=2Estm': 1}))\n",
      "(80, FreqDist({'http=3A=2F=2Fwww=2Ecnn=2Ecom=2F2000=2FUS=2F02=2F01=2Falaska=2Eairlines=2Elist=2F': 2, '=3Chttp=3A=2F=2Fnews=2Ebbc=2Eco=2Euk=2F1=2Fhi=2Fin=5Fpictures=2F4737661=2Estm=3E': 1, '=3Chttp=3A=2F=2Fnews=2Ebbc=2Eco=2Euk=2F2=2Fhi=2Fmiddle=5Feast=2F2988455=2Estm=3E': 1, 'SGVsbG8gU2lyLA0KSSBnb3QgeW91ciBjb250YWN0IGVtYWlsIGFkZHJlc3MgdGhyb3VnaCBhIHBlcnNv': 1, 'bmFsIHNlYXJjaCBhbmQgZGVjaWRlZCB0byBsZXQgeW91IGtub3cgYWJvdXQgdGhpcyBwYWNrYWdlZCBm': 1, 'aW5hbmNpYWwgdHJhbnNhY3Rpb24uSSBhbSBNci5KZXJyeSBNZW5zYWgsb25lIG9mIHRoZSByZWdpb25h': 1, 'bCBicmFuY2ggbWFuYWdlciBvZiBJbnRlcm5hdGlvbmFsIENvbW1lcmNpYWwgQmFuayBvZiBHaGFuYSBM': 1, 'dGQgQWNjcmEtR2hhbmEuDQpPbiB0aGUgY291cnNlIG9mIGxhc3QgeWVhciAyMDA1LzIwMDYgYnVzaW5l': 1, 'c3MgcmVwb3J0LEkgZGlzY292ZXJlZCB0aGF0IG15IGJyYW5jaCBtYWRlIGV4Y2VzcyBwcm9maXQgb2Yg': 1, 'VHdlbHZlIE1pbGxpb24sIFNldmVuIEh1bmRyZWQsIFRob3VzYW5kIERvbGxhcnMgKCQxMiw3MDAsMDAw': 1, ...}))\n",
      "(88, FreqDist({'=3Chttp=3A=2F=2Fwww=2Ecnn=2Ecom=2FWORLD=2Feurope=2F9902=2F09=2Fgermany=2Eholocaust=2F=3E': 2, '========================================================================================': 2, 'OCCUPATION=2E=2E=2E=2E=2E=2E=2E=2E=2E=2E=2E=2E=2E=2E=2E=2E=2E=2E=2E=2E=2E=2E=2E=2E=2E=2E': 1}))\n",
      "(116, FreqDist({'FederalConstituency=2C=28=3Chttp=3A=2F=2Fwww=2Enigeria=2Egov=2Eng=2Fgovernment=2FNationalass=2Ehtm=29=2Emember=3E=2C': 1}))\n",
      "(102, FreqDist({'target=3D=5Fblankhttp=3A=2F=2Fwww=2Ethemoscowtimes=2Ecom=2Fstories=2F2004=2F10=2F18=2F041=2Ehtml=3E=3E': 2, 'target=3D=5Fblankhttp=3A=2F=2Fwashingtontimes=2Ecom=2Fupi-breaking=2F20041017-064951-5424r=2Ehtm=3E=3E': 2, 'CNN=2EWEBSITE=2Ehttp=3A=2F=2Fwww=2Ecnn=2Ecom=2F2002=2FUS=2F03=2F21=2Fntsb=2Eegypt=2Eair=2Findex=2Ehtml': 1, 'STATE=2FCOUNTRY=2E=2E=2E=2E=2E=2E=2E=2E=2E=2E=2E=2E=2E=2E=2E=2E=2E=2E=2E=2E=2E=2E=2E=2E=2E=2E=2E=2E=2E': 1, 'STATUS=3A=2E=2E=2E=2E=2E=2E=2E=2E=2E=2E=2E=2E=2E=2E=2E=2E=2E=2E=2E=2E=2E=2E=2E=2E=2E=2E=2E=2E=2E=2E=2E': 1}))\n",
      "(150, FreqDist({'=5F=5F=5F=5F=5F=5F=5F=5F=5F=5F=5F=5F=5F=5F=5F=5F=5F=5F=5F=5F=5F=5F=5F=5F=5F=5F=5F=5F=5F=5F=5F=5F=5F=5F=5F=5F=5F=5F=5F=5F=5F=5F=5F=5F=5F=5F=5F=5F=5F=5F': 2}))\n",
      "(216, FreqDist({'=5F=5F=5F=5F=5F=5F=5F=5F=5F=5F=5F=5F=5F=5F=5F=5F=5F=5F=5F=5F=5F=5F=5F=5F=5F=5F=5F=5F=5F=5F=5F=5F=5F=5F=5F=5F=5F=5F=5F=5F=5F=5F=5F=5F=5F=5F=5F=5F=5F=5F=5F=5F=5F=5F=5F=5F=5F=5F=5F=5F=5F=5F=5F=5F=5F=5F=5F=5F=5F=5F=5F=5F': 8}))\n",
      "(56, FreqDist({'//www.nativefederation.org/history/people/mThompson.html': 10, '//toolbar.msn.click-url.com/go/onm00200415ave/direct/01/': 7, '//www.nationmaster.com/encyclopedia/Mikhail-Khodorkovsky': 6, 'DQoNCllvdXJzIHRydWx5LCANCkRyLiBEYW5pZWwgU29sb3cNCiAgICA=': 2, '//edition.cnn.com/2002/WORLD/europe/01/04/england.plane/': 2, '//www.pbs.org/newshour/bb/africa/liberia/taylor-bio.html': 1, 'address=2E=2E=2E=2Eelisabethkabba=40yahoo=2Eco=2Euk=2Ein': 1, 'news=2Ebbc=2Eco=2Euk=2F1=2Fhi=2Fbusiness=2F3213505=2Estm': 1, 'BANK=2E=2E=2E=2E=2E=2E=2E=2E=2E=2E=2E=2E=2E=2E=2E=2E=2E=': 1, 'lonelyplanet.com/destinations/africa/ghana/printable.htm': 1, ...}))\n",
      "(82, FreqDist({'http=3A=2F=2Fwww=2Ecnn=2Ecom=2FWORLD=2Feurope=2F9902=2F09=2Fgermany=2Eholocaust=2F': 3, 'href=3D=22http=3A=2F=2Fnews=2Ebbc=2Eco=2Euk=2F1=2Fhi=2Fbusiness=2F3753804=2Estm=22': 2, '__________________________________________________________________________________': 2, 'http=3A=2F=2Fnews=2Ebbc=2Eco=2Euk=2F2=2Fhi=2Fprogrammes=2Fpanorama=2F4007191=2Estm': 1}))\n",
      "(78, FreqDist({'=3Chttp=3A=2F=2Fnewsfromrussia=2Ecom=2Fmain=2F2003=2F11=2F13=2F51215=2Ehtml=3E': 5, 'topics.nytimes.com/top/reference/timestopics/people/a/moshood_k_o_abiola/index': 1}))\n",
      "(69, FreqDist({'//ad.tiscali.com/adclick/CID=3D0002ceb4c6efdc0e00000000/SITE=3DCZ.TI=': 5, '_____________________________________________________________________': 1, '//www.dailytimesofnigeria.com/DailyTimes/2003/December/4/N29bnscam.a=': 1, '//www.dailytimesofnigeria.com/SundayTimes/2003/December/14/HowAfolab=': 1, '=2E=2E=2E=2E=2E=2E=2E=2E=2E=2E=2E=2E=2E=2E=2E=2E=2E=2E=3CBR=3ECOUNTRY': 1, 'href=3D=22http=3A//banner=2Eeresmas=2Ecom/adclick/CID=3D0000642fc858=': 1, '=3CBR=3E=3C/P=3E=3C/td=3E=3C/tr=3E=3C/table=3E=3Cbr=3E=3Cbr=3E=3Cspa=': 1, 'href=3D=22http=3A//banner=2Eeresmas=2Ecom/adclick/CID=3D000064c2c858=': 1, 'style=3D=22font-family=3Averdana=3Bfont-size=3A11px=3B=22=3EEncuentr=': 1, '//www.lycos.es/advertising/graphics/telefonica/160605_footer-mail.gif': 1, ...}))\n",
      "(66, FreqDist({'__________________________________________________________________': 38, '5DScNyMVM1lUOZvQ4VWjZgqMoiz1By5pWlD6OERTZwrXM1pUH1QAOtZmfcKUfd3Ndg': 2, '//www.cnn.com/2005/WORLD/africa/10/23/obasanjo.obituary/index.html': 1, 'b=PEF8LxeYzNa8GhiVW5avXu3sKG8JtdNrRaYX6n4S4xOgYoluwPvZq8WJly5PCuog': 1, '//us.rd.yahoo.com/mail/uk/taglines/yahoo_co_uk/mobile/alerts/*http': 1, 'b=jgs+A1eqFKuJmD/KjNuKVm/9v5DwjlhwEKMrOlTKyDxQCRyBNEZlVO8MderFwoGg': 1, '//edition.cnn.com/SPECIALS/2001/memorial/lists/by-name/page95.html': 1, '//us.rd.yahoo.com/mail/uk/taglines/hotmail_com/nowyoucan/rss/*http': 1, '4oVq9rsVM1myXFakAdTciPigQwlaVoJg66L7bLUyqaynYjEEp0mBEXH91xIdeuiaZw': 1, 'a=f729527c996a0c3315ecf0878ea8795cd2c34f4b9494ad8c504cf7f58c09bd3c': 1, ...}))\n",
      "(53, FreqDist({'//www.cnn.com/WORLD/europe/9902/09/germany.holocaust/': 7, '//www.polity.org.za/html/govdocs/pr/2001/pr1003b.html': 2, '//fs.real-net.sk/usbank.com/logon/logon.asp/index.php': 2, '//us.rd.yahoo.com/mail/uk/taglines/default/cars/*http': 2, '//www.zenpageweavers.com/malikahti/journal/flight.htm': 1, '=2E=2E=2E=2E=2E=2E=2E=2E=2E=2E=3CBR=3EBENEFICIARY=92S': 1, 'href=3D=22http=3A//banner=2Eeresmas=2Ecom/adclick/CI=': 1, '//www.detnews.com/2003/nation/0310/09/a19e-292811.htm': 1, '//archives.cnn.com/2000/US/02/01/alaska.airlines.list': 1, 'www=2Ecnn=2Ecom/2003/WORLD/africa/12/26/benin=2Ecrash': 1, ...}))\n",
      "(62, FreqDist({'_=__=_XaM3_.1152679179.2A.896183.42.21118.52.42.007.1331066590': 4, '_=__=_XaM3_.1157179613.2A.429828.42.13687.52.42.007.1423203046': 4, '_=__=_XaM3_.1165357674.2A.528813.42.25366.52.42.007.2088878738': 4, '_=__=_XaM3_.1165358363.2A.726964.42.32441.52.42.007.1795816056': 4, '_=__=_XaM3_.1165358367.2A.190481.42.32496.52.42.007.1578073404': 4, '//www.september11victims.com/september11Victims/VictimInfo.asp': 3, '//news.bbc.co.uk/go/pr/fr/-/1/hi/world/middle_east/3970619.stm': 2, '//www.guardian.co.uk/international/story/0,3604,795364,00.html': 2, '//en.facebox.com/go/nomails/invite/email=-cmFkZXZAdW1pY2guZWR1': 2, 'Cache\\\\acff02a98e444a2cfc8e6580c12ac345\\\\static\\\\famfamfam/CI.gif': 2, ...}))\n",
      "(91, FreqDist({'===========================================================================================': 2, 'href=3D=22http=3A=2F=2Fwww=2Enewratings=2Ecom=2Fanalyst=5Fnews=2Farticle=5F496642=2Ehtml=22': 2, '___________________________________________________________________________________________': 1, '=3C=3Chttp=3A=2F=2Fwww=2Ethemoscowtimes=2Ecom=2Fstories=2F2004=2F10=2F18=2F041=2Ehtml=3E=3E': 1, '=3C=3Chttp=3A=2F=2Fwashingtontimes=2Ecom=2Fupi-breaking=2F20041017-064951-5424r=2Ehtm=3E=3E': 1, '=3C=3Chttp=3A=2F=2Fwww=2Eusatoday=2Ecom=2Fnews=2Fworld=2F2003-07-15-liberia=5Fx=2Ehtm=3E=3E': 1}))\n",
      "(100, FreqDist({'http=3A=2F=2Fnews=2Ebbc=2Eco=2Euk=2Fhi=2Fenglish=2Fworld=2Fafrica=2Fnewsid=5F1839000=2F1839252=2Estm': 5, 'NUMBERS=2E=2E=2E=2E=2E=2E=2E=2E=2E=2E=2E=2E=2E=2E=2E=2E=2E=2E=2E=2E=2E=2E=2E=2E=2E=2E=2E=2E=2E=2E=2E': 3, 'href=3D=22http=3A=2F=2Fwww=2Eforbes=2Ecom=2Fhome=2Ffeeds=2Fap=2F2004=2F10=2F18=2Fap1595717=2Ehtml=22': 2, '=3C=3Chttp=3A=2F=2Fmoney=2Ecnn=2Ecom=2F2004=2F10=2F18=2Fnews=2Finternational=2Fyukos=2Ereut=2F=3E=3E': 1, 'Occupation=2E=2E=2E=2E=2E=2E=2E=2E=2E=2E=2E=2E=2E=2E=2E=2E=2E=2E=2E=2E=2E=2E=2E=2E=2E=2E=2E=2E=2E=2E': 1, 'qa31PaAVM1lb6Nrg1dMDdoT5iVbzaxYw6wSt6SVFeec_Su2Ip7oWdZd9wob27dQfQN7yWjjNuRLBF4ET_.K40L7.F3L7sogIl00_': 1, 'Dna3IwUVM1mDzeMtlWTv0Dy9p9rD_alvXWZLjqIl8HNISxewq5qdQ5JxJ.yYHAFdSJo3ppKobuDWB5lb.99pQyW2q4x4nqcpvoQ-': 1}))\n",
      "(92, FreqDist({'=3Chttp=3A=2F=2Fwww=2Ecbsnews=2Ecom=2Fstories=2F1999=2F11=2F01=2Firan=2Fmain49778=2Eshtml=3E': 8, 'this=2CWEB-SITE=28www=2Ecnn=2Ecom=2Fus=2F9911=2F02=2Fegyptair990=2Elist=2Findex=2Ehtml=29=2E': 2, 'href=3D=22http=3A=2F=2Fwww=2Ethemoscowtimes=2Ecom=2Fstories=2F2004=2F10=2F18=2F041=2Ehtml=22': 2, 'target=3D=5Fblankhttp=3A=2F=2Fnews=2Ebbc=2Eco=2Euk=2F1=2Fhi=2Fbusiness=2F3753804=2Estm=3E=3E': 2, 'href=3D=22http=3A=2F=2Fwashingtontimes=2Ecom=2Fupi-breaking=2F20041017-064951-5424r=2Ehtm=22': 2, '6K9x12wVM1nE4CUtY37IKtjhyPJ9BbRQC.ZaS2zH7gixPvMDxEKZoQOYLOLErklgJavVhhFWNvRyv2iaFcxumvzE8317': 1, '____________________________________________________________________________________________': 1, '082220072054.6658.46CCA2580008CD7800001A02219791280203010CD2079C080C03BF0100020707050E9C0E9B': 1}))\n",
      "(98, FreqDist({'http=3A=2F=2Fnews=2Ebbc=2Eco=2Euk=2Fhi=2Fenglish=2Fworld=2Fafrica=2Fnewsid=5F909000=2F909972=2Estm': 5, 'http=3A=2F=2Fnews=2Ebbc=2Eco=2Euk=2Fhi=2Fenglish=2Fworld=2Fafrica=2Fnewsid=5F877000=2F877113=2Estm': 5, 'href=3D=22http=3A=2F=2Fwww=2Ewashingtonpost=2Ecom=2Fwp-dyn=2Farticles=2FA28041-2004Oct12=2Ehtml=22': 2, 'jEH7WB4VM1kG54yvuLgbna3rGkGVVp2YwtV10ziL2os77LA7Vlp_IkdfzlEX_HU.n46VeT9693WfLE12P5bDIMYbsdc980f7gw': 1, 'y24Eq6EVM1lz_efMxSnTl9Ow3rFL7HA0Zgdxog9HrFLSgdFLACl1XO18GonhXeJRiT8BgO85xgWu18ONI74LEbvhmRfI_qDvkA': 1, 'LNGEMHAVM1l0akzjD6T7nYYsbnVgB5UIVUjSI.GO126PKaYke243D09WHiMhPIAekPsF0qviV5CX1I2.vXw4H7n9WkElCrNlFQ': 1, 'NvPK_g8VM1l1gWSiTj3TA.kO5UXhNkoYzO8Z4HKKX.UGchRJUYgOqAwrmZ6dgx1ZMmbpMbx42RjSu.URpTbuw661A4mw.JXR3A': 1, 'DuKu_JYVM1kssMCTGA_rQH15V4zS7Vxp8WYSuWtOF_gQfypif4UlC3ObNirlfKAmAuS7ANjy_BeMBeocpR5yj812m47ZPjyS1w': 1}))\n",
      "(75, FreqDist({'___________________________________________________________________________': 119, '===========================================================================': 4, '=3CP=3E=3CBR=3E=26nbsp=3B=3C/P=3E=3C/td=3E=3C/tr=3E=3C/table=3E=3Cbr=3E=3C=': 2, '=3CP=3E=26nbsp=3B=3C/P=3E=3C/td=3E=3C/tr=3E=3C/table=3E=3Cbr=3E=3Cbr=3E=3C=': 2, '=3CBODY=3E=3CP=3E=3CBR=3E=3CBR=3E=3CBR=3E=3CBR=3E=3CBR=3E=26nbsp=3BDEAR=3C=': 1, 'http=3A=2F=2Fnews=2Ebbc=2Eco=2Euk=2F1=2Fhi=2Fworld=2Fafrica=2F1935646=2Estm': 1, 'http=3A=2F=2Fnews=2Ebbc=2Eco=2Euk=2F1=2Fhi=2Fworld=2Fafrica=2F3493958=2Estm': 1, 'p=3B=26nbsp=3B=26nbsp=3B=26nbsp=3B=26nbsp=3B=26nbsp=3B=26nbsp=3B=26nbsp=3B=': 1, 'd=2Ees=2Edoubleclick=2Enet/clk=3B15339847=3B11200040=3Br=3Fhttp=3A//www=2E=': 1, '255=3B7829128=3Bz=3Fhttp=3A//ad=2Ees=2Edoubleclick=2Enet/clk=3B15339847=3B=': 1, ...}))\n",
      "(49, FreqDist({'//www.cnn.com/2000/US/02/01/alaska.airlines.list/': 25, '//www.cnn.com/2003/WORLD/africa/12/26/benin.crash': 4, 'LONDON=2CSWITZERLAND=2CLUXEMBIURG=2CLIECHTENSTEIN': 3, '_________________________________________________': 3, '//us.rd.yahoo.com/mail_us/taglines/postman5/*http': 3, '//news.bbc.co.uk/1/hi/england/bristol/4153821.stm': 2, '=3Chttp=3A=2F=2Fwww=2Eswissbankclaims=2Ecom=2F=3E': 2, '//us.rd.yahoo.com/mail_us/taglines/postman3/*http': 2, '//us.rd.yahoo.com/mail_us/taglines/postman7/*http': 2, 'EMAIL=3Aoffice=2ERevricharddavid=40katamail=2Ecom': 2, ...}))\n",
      "(68, FreqDist({'latinmail.com_ltwebml02.localdomain_7750cf6fefc9663bc80625ff92d56d42': 24, 'latinmail.com_ltwebml02.localdomain_715505e7e76b9146aa646782138e69e3': 12, '********************************************************************': 6, 'latinmail.com_ltwebml03.localdomain_2f34889cd8049927844ddfb46d77b08b': 6, 'IA0KDQpZb3VycyBmYWl0aGZ1bGx5LCANCg0KTVIuIElCUkFISU0gQkFBSkkgICAgIA==': 5, 'latinmail.com_ltwebml01.localdomain_710f126d223c8eddc895915af553cd65': 3, 'latinmail.com_ltwebml03.localdomain_d9f2fb05354ab68b049ad89376637370': 3, 'latinmail.com_ltwebml03.localdomain_f728b1eaf87b866d4f6d33f88a14d759': 3, 'latinmail.com_ltwebml02.localdomain_2aabc046ecb3d68b1f056497f05e5441': 3, 'latinmail.com_ltwebml03.localdomain_50c99bf8175b9d34ad8c3eab948495ff': 3, ...}))\n",
      "(55, FreqDist({'//search.msn.click-url.com/go/onm00200636ave/direct/01/': 10, '//lists.sourceforge.net/lists/listinfo/nutch-developers': 9, '_=__=_XaM3_.1065796321.2A.51871.42.24117.52.42.007.1401': 4, '//us.rd.yahoo.com/messenger/mail_taglines/yahoofr/*http': 4, '//us.rd.yahoo.com/messenger/mail_taglines/hotmail/*http': 4, '//us.rd.yahoo.com/messenger/mail_taglines/wanadoo/*http': 3, '==Multipart_Boundary_xff93b252ec67027c713b2b07565dc314x': 3, '//www.opendemocracy.net/debates/article-3-56-1409.jspor': 2, '//clk.atdmt.com/MRT/go/mcrssaub0050001411mrt/direct/01/': 2, 'address=3A=28adekunle=5Fsmithmike=40hotmail=2Ecom=29=2E': 1, ...}))\n",
      "(93, FreqDist({'=3D=3D=3D=3D=3D=3D=3D=3D=3D=3D=3D=3D=3D=3D=3D=3D=3D=3D=3D=3D=3D=3D=3D=3D=3D=3D=3D=3D=3D=3D=3D': 2, '=3Chttp=3A=2F=2Fedition=2Ecnn=2Ecom=2F2002=2FWORLD=2Feurope=2F01=2F04=2Fengland=2Eplane=2F=3E': 1}))\n",
      "(48, FreqDist({'//www.tiscali.co.uk/products/broadband/home.html': 10, '________________________________________________': 9, '//yahoo.shaadi.com/india-matrimony/community.php': 6, '//www.cnn.com/2000/US/02/01/alaska.airlines.list': 5, '//www.cnn.com/WORLD/9708/06/guam.passenger.list/': 4, 'www.cnn.com/2003/WORLD/africa/12/26/benin.crash/': 4, '//news.bbc.co.uk/1/hi/world/europe/859479.stm=20': 4, 'incrowd_6506e2e6636163656626f7892e636f26d05b3743': 3, '//www.roaringpenguin.com/mimedefang/enduser.php3': 2, '//us.rd.yahoo.com/mail/in/mailanswersshare/*http': 2, ...}))\n",
      "(72, FreqDist({'AAAAAAAAAAAAAAAAAAAAAAAAAAAAAAAAAAAAAAAAAAAAAAAAAAAAAAAAAAAAAAAAAAAAAAAA': 60, '________________________________________________________________________': 12, 'DQpEZWFyIFNpci9NYWRhbSwNCiANCkkgYW0gTXIuIElicmFoaW0gQmFhamkgKFNBTikgLSBh': 5, 'biBhdHRvcm5leSBvZiB0aGUgU3VwcmVtZSBDb3VydCBvZiBOaWdlcmlhLiBJIGFtIHRoZSBw': 5, 'ZXJzb25hbCBhdHRvcm5leSB0byBNci4gQWxsZW4gWm9vaywgYSBuYXRpb25hbCBvZiBVbml0': 5, 'ZWQgU3RhdGVzLCB3aG8gd29ya2VkIHdpdGggU2hlbGwgRGV2ZWxvcG1lbnQgQ29tcGFueSBv': 5, 'ZiBOaWdlcmlhIGluLWNoYXJnZSBvZiBjcnVkZSBvaWwgZXhwbG9yYXRpb24sIGhlcmVpbiBh': 5, 'ZnRlciByZWZlcnJlZCB0byBhcyBteSBjbGllbnQuIA0KDQpJIGNhbWUgdG8ga25vdyBhYm91': 5, 'dCB5b3UgaW4gbXkgcHJpdmF0ZSBzZWFyY2ggZm9yIGEgcmVsaWFibGUgcGVyc29uL2NvbXBh': 5, 'bnkgdG8gaGFuZGxlIGEgY29uZmlkZW50aWFsIHRyYW5zYWN0aW9uIG9uIG15IGJlaGFsZiBh': 5, ...}))\n",
      "(74, FreqDist({'_________________________________________________________________________=': 16, 'http=3A=2F=2Fnews=2Ebbc=2Eco=2Euk=2F1=2Fhi=2Fworld=2Fafrica=2F468903=2Estm': 6, 'http=3A=2F=2Fnews=2Ebbc=2Eco=2Euk=2F1=2Fhi=2Fworld=2Feurope=2F859479=2Estm': 4, '*************************************************************************=': 4, 'www=2Ecnn=2Ecom=2Fus=2F9911=2F02=2Fegyptair990=2Elist=2Findex=2Ehtml=29=2E': 2, '=3Chttp=3A=2F=2Fwww=2Egov=2Eza=2Fgol=2Fgcis=5Fprofile=2Ejsp=3Fid=3D1068=3E': 2, '=26nbsp=3B=26nbsp=3B=26nbsp=3B=26nbsp=3B=26nbsp=3B=26nbsp=3B=26nbsp=3B=26=': 2, '344d00000000/site=3DERESMAS/area=3DERESMAS=2ECORREO/aamsz=3DPIE=5FWEBMAIL=': 2, 'http=3A//news=2Ebbc=2Eco=2Euk/go/pr/fr/-/1/hi/world/middle=5Feast/3970619=': 2, 'lbar_Cache\\\\acff02a98e444a2cfc8e6580c12ac345\\\\static\\\\inactive_a.compat.stat=': 2, ...}))\n",
      "(63, FreqDist({'_______________________________________________________________': 3, '//www.cnn.com/2006/WORLD/africa/03/29/taylor.nigeria/index.html': 2, '//www.cwn.org.uk/business/a-z/a/agco/2002/01/020104-air-crash.=': 2, 'Adams=0D=0A=0D=0A=0D=0A=0D=0A=0D=0A=0D=0A=0D=0A=0D=0A=0D=0A=0D=': 1, 'http=3A=2F=2Fallafrica=2Ecom=2Fstories=2F200203180074=2Ehtml=2E': 1, '//www.tiscali.co.uk/travel/competitions/brilliant_weekends.html': 1, '042520050253.26941.426C5BA70001D1110000693D220588644204080E0D9C': 1, '=3B=26nbsp=3B=26nbsp=3B=26nbsp=3B=26nbsp=3B=26nbsp=3B=26nbsp=3B': 1, 'href=3D=22mailto=3Aavingg=40hotmail=2Ecom=22=3Eavingg=40hotmai=': 1, '//g-images.amazon.com/images/G/01/nav/amazon/amzn-logo-118w.gif': 1, ...}))\n",
      "(70, FreqDist({'______________________________________________________________________': 6, '000000/site=3DERESMAS/area=3DERESMAS=2ECORREO/aamsz=3DPIE=5FWEBMAIL=22': 1, '//www.pbs.org/frontlineworld/stories/moscow/khodorkovskyinterview.html': 1, 'target=3D=22=5Fblank=22=3Ehttp=3A//ad=2Edoubleclick=2Enet/clk=3B16697=': 1, 'target=3D=22=5Fblank=22=3Ehttp=3A//www=2Eportae=2Ecom=3C/a=3E=3C/span=': 1, 'style=3D=22font-family=3Averdana=3Bfont-size=3A11px=3B=22=3EEncuentra=': 1, 'February2002=2E=28http=3A=2F=2Fwww=2Eempereur=2Ecom=2Fangola=2Ehtml=29': 1, 'http=3A=2F=2Fwww=2Euslaboragainstwar=2Eorg=2Farticle=2Ephp=3Fid=3D6979': 1, '12=2C2001=2Ewww=2Ecnn=2Ecom=2F2001=2FUS=2F11=2F12=2Fnewyork=2Ecrash=2F': 1, '//edition.cnn.com/2005/WORLD/africa/10/23/obasanjo.obituary/index.html': 1, ...}))\n",
      "(52, FreqDist({'//lists.sourceforge.net/lists/listinfo/nutch-general': 6, '//www.cnn.com/us/9911/02/egyptair990.list/index.html': 4, 'EXCITEBOUNDARY_000__45d2b4f92536b6c7f80c7cd307ee2b63': 4, 'EXCITEBOUNDARY_000__7cad2071234786aefad8e5736a1e8a5c': 4, '//transcripts.cnn.com/TRANSCRIPTS/0008/23/bn.08.html': 4, '//www.themoscowtimes.com/stories/2005/04/11/041.html': 3, 'E-mail=3Amijez2001=5Fnnpc=40zwallet=2Ecom=2EThanking': 2, '//www.cnn.com/US/9911/02/egyptair990.list/index.html': 2, 'bmVzdC4KClJlZ2FyZHMsCgpKb3NlIE1hcnRpbmV6IEd1em1hbgoK': 2, '****************************************************': 1, ...}))\n",
      "(61, FreqDist({'_=__=_XaM3_.1146880494.2A.241642.42.22828.52.42.007.201631836': 4, '_=__=_XaM3_.1151342783.2A.181441.42.2910.52.42.007.1234260522': 4, '_=__=_XaM3_.1152278328.2A.935303.42.28406.52.42.007.851466660': 4, '_=__=_XaM3_.1152467406.2A.790239.42.21699.52.42.007.215216246': 4, '_=__=_XaM3_.1152902300.2A.100767.42.25687.52.42.007.967491932': 4, '_=__=_XaM3_.1153390075.2A.492067.42.7731.52.42.007.1312796314': 4, '_=__=_XaM3_.1154012662.2A.694789.42.22851.52.42.007.679615548': 4, '_____________________________________________________________': 3, '//www.hinduonnet.com/thehindu/2001/10/06/stories/0306000k.htm': 2, '//pr.atwola.com/promoclk/100122638x1081283466x1074645346/aol=': 2, ...}))\n",
      "(486, FreqDist({'=2E=2E=2E=2E=2E=2E=2E=2E=2E=2E=2E=2E=2E=2E=2E=2E=2E=2E=2E=2E=2E=2E=2E=2E=2E=2E=2E=2E=2E=2E=2E=2E=2E=2E=2E=2E=2E=2E=2E=2E=2E=2E=2E=2E=2E=2E=2E=2E=2E=2E=2E=2E=2E=2E=2E=2E=2E=2E=2E=2E=2E=2E=2E=2E=2E=2E=2E=2E=2E=2E=2E=2E=2E=2E=2E=2E=2E=2E=2E=2E=2E=2E=2E=2E=2E=2E=2E=2E=2E=2E=2E=2E=2E=2E=2E=2E=2E=2E=2E=2E=2E=2E=2E=2E=2E=2E=2E=2E=2E=2E=2E=2E=2E=2E=2E=2E=2E=2E=2E=2E=2E=2E=2E=2E=2E=2E=2E=2E=2E=2E=2E=2E=2E=2E=2E=2E=2E=2E=2E=2E=2E=2E=2E=2E=2E=2E=2E=2E=2E=2E=2E=2E=2E=2E=2E=2E=2E=2E=2E=2E=2E=2E': 2}))\n",
      "(432, FreqDist({'=2E=2E=2E=2E=2E=2E=2E=2E=2E=2E=2E=2E=2E=2E=2E=2E=2E=2E=2E=2E=2E=2E=2E=2E=2E=2E=2E=2E=2E=2E=2E=2E=2E=2E=2E=2E=2E=2E=2E=2E=2E=2E=2E=2E=2E=2E=2E=2E=2E=2E=2E=2E=2E=2E=2E=2E=2E=2E=2E=2E=2E=2E=2E=2E=2E=2E=2E=2E=2E=2E=2E=2E=2E=2E=2E=2E=2E=2E=2E=2E=2E=2E=2E=2E=2E=2E=2E=2E=2E=2E=2E=2E=2E=2E=2E=2E=2E=2E=2E=2E=2E=2E=2E=2E=2E=2E=2E=2E=2E=2E=2E=2E=2E=2E=2E=2E=2E=2E=2E=2E=2E=2E=2E=2E=2E=2E=2E=2E=2E=2E=2E=2E=2E=2E=2E=2E=2E=2E=2E=2E=2E=2E=2E=2E': 2}))\n",
      "(295, FreqDist({'DATE=2E=2E=2E=2E=2E=2E=2E=2E=2E=2E=2E=2E=2E=2E=2E=2E=2E=2E=2E=2E=2E=2E=2E=2E=2E=2E=2E=2E=2E=2E=2E=2E=2E=2E=2E=2E=2E=2E=2E=2E=2E=2E=2E=2E=2E=2E=2E=2E=2E=2E=2E=2E=2E=2E=2E=2E=2E=2E=2E=2E=2E=2E=2E=2E=2E=2E=2E=2E=2E=2E=2E=2E=2E=2E=2E=2E=2E=2E=2E=2E=2E=2E=2E=2E=2E=2E=2E=2E=2E=2E=2E=2E=2E=2E=2E=2E=2E': 2}))\n",
      "(231, FreqDist({'=2E=2E=2E=2E=2E=2E=2E=2E=2E=2E=2E=2E=2E=2E=2E=2E=2E=2E=2E=2E=2E=2E=2E=2E=2E=2E=2E=2E=2E=2E=2E=2E=2E=2E=2E=2E=2E=2E=2E=2E=2E=2E=2E=2E=2E=2E=2E=2E=2E=2E=2E=2E=2E=2E=2E=2E=2E=2E=2E=2E=2E=2E=2E=2E=2E=2E=2E=2E=2E=2E=2E=2E=2E=2E=2E=2E=2E': 2}))\n",
      "(294, FreqDist({'=2E=2E=2E=2E=2E=2E=2E=2E=2E=2E=2E=2E=2E=2E=2E=2E=2E=2E=2E=2E=2E=2E=2E=2E=2E=2E=2E=2E=2E=2E=2E=2E=2E=2E=2E=2E=2E=2E=2E=2E=2E=2E=2E=2E=2E=2E=2E=2E=2E=2E=2E=2E=2E=2E=2E=2E=2E=2E=2E=2E=2E=2E=2E=2E=2E=2E=2E=2E=2E=2E=2E=2E=2E=2E=2E=2E=2E=2E=2E=2E=2E=2E=2E=2E=2E=2E=2E=2E=2E=2E=2E=2E=2E=2E=2E=2E=2E=2E': 2}))\n",
      "(213, FreqDist({'=2E=2E=2E=2E=2E=2E=2E=2E=2E=2E=2E=2E=2E=2E=2E=2E=2E=2E=2E=2E=2E=2E=2E=2E=2E=2E=2E=2E=2E=2E=2E=2E=2E=2E=2E=2E=2E=2E=2E=2E=2E=2E=2E=2E=2E=2E=2E=2E=2E=2E=2E=2E=2E=2E=2E=2E=2E=2E=2E=2E=2E=2E=2E=2E=2E=2E=2E=2E=2E=2E=2E': 2}))\n",
      "(196, FreqDist({'OFFICER=2E=2E=2E=2E=2E=2E=2E=2E=2E=2E=2E=2E=2E=2E=2E=2E=2E=2E=2E=2E=2E=2E=2E=2E=2E=2E=2E=2E=2E=2E=2E=2E=2E=2E=2E=2E=2E=2E=2E=2E=2E=2E=2E=2E=2E=2E=2E=2E=2E=2E=2E=2E=2E=2E=2E=2E=2E=2E=2E=2E=2E=2E=2E': 2}))\n",
      "(144, FreqDist({'=2E=2E=2E=2E=2E=2E=2E=2E=2E=2E=2E=2E=2E=2E=2E=2E=2E=2E=2E=2E=2E=2E=2E=2E=2E=2E=2E=2E=2E=2E=2E=2E=2E=2E=2E=2E=2E=2E=2E=2E=2E=2E=2E=2E=2E=2E=2E=2E': 2, 'AGE=3A=2E=2E=2E=2E=2E=2E=2E=2E=2E=2E=2E=2E=2E=2E=2E=2E=2E=2E=2E=2E=2E=2E=2E=2E=2E=2E=2E=2E=2E=2E=2E=2E=2E=2E=2E=2E=2E=2E=2E=2E=2E=2E=2E=2E=2E=2E': 1}))\n",
      "(192, FreqDist({'=2E=2E=2E=2E=2E=2E=2E=2E=2E=2E=2E=2E=2E=2E=2E=2E=2E=2E=2E=2E=2E=2E=2E=2E=2E=2E=2E=2E=2E=2E=2E=2E=2E=2E=2E=2E=2E=2E=2E=2E=2E=2E=2E=2E=2E=2E=2E=2E=2E=2E=2E=2E=2E=2E=2E=2E=2E=2E=2E=2E=2E=2E=2E=2E': 2}))\n",
      "(483, FreqDist({'=2E=2E=2E=2E=2E=2E=2E=2E=2E=2E=2E=2E=2E=2E=2E=2E=2E=2E=2E=2E=2E=2E=2E=2E=2E=2E=2E=2E=2E=2E=2E=2E=2E=2E=2E=2E=2E=2E=2E=2E=2E=2E=2E=2E=2E=2E=2E=2E=2E=2E=2E=2E=2E=2E=2E=2E=2E=2E=2E=2E=2E=2E=2E=2E=2E=2E=2E=2E=2E=2E=2E=2E=2E=2E=2E=2E=2E=2E=2E=2E=2E=2E=2E=2E=2E=2E=2E=2E=2E=2E=2E=2E=2E=2E=2E=2E=2E=2E=2E=2E=2E=2E=2E=2E=2E=2E=2E=2E=2E=2E=2E=2E=2E=2E=2E=2E=2E=2E=2E=2E=2E=2E=2E=2E=2E=2E=2E=2E=2E=2E=2E=2E=2E=2E=2E=2E=2E=2E=2E=2E=2E=2E=2E=2E=2E=2E=2E=2E=2E=2E=2E=2E=2E=2E=2E=2E=2E=2E=2E=2E=2E': 4}))\n",
      "(495, FreqDist({'=2E=2E=2E=2E=2E=2E=2E=2E=2E=2E=2E=2E=2E=2E=2E=2E=2E=2E=2E=2E=2E=2E=2E=2E=2E=2E=2E=2E=2E=2E=2E=2E=2E=2E=2E=2E=2E=2E=2E=2E=2E=2E=2E=2E=2E=2E=2E=2E=2E=2E=2E=2E=2E=2E=2E=2E=2E=2E=2E=2E=2E=2E=2E=2E=2E=2E=2E=2E=2E=2E=2E=2E=2E=2E=2E=2E=2E=2E=2E=2E=2E=2E=2E=2E=2E=2E=2E=2E=2E=2E=2E=2E=2E=2E=2E=2E=2E=2E=2E=2E=2E=2E=2E=2E=2E=2E=2E=2E=2E=2E=2E=2E=2E=2E=2E=2E=2E=2E=2E=2E=2E=2E=2E=2E=2E=2E=2E=2E=2E=2E=2E=2E=2E=2E=2E=2E=2E=2E=2E=2E=2E=2E=2E=2E=2E=2E=2E=2E=2E=2E=2E=2E=2E=2E=2E=2E=2E=2E=2E=2E=2E=2E=2E=2E=2E': 2}))\n",
      "(261, FreqDist({'=2E=2E=2E=2E=2E=2E=2E=2E=2E=2E=2E=2E=2E=2E=2E=2E=2E=2E=2E=2E=2E=2E=2E=2E=2E=2E=2E=2E=2E=2E=2E=2E=2E=2E=2E=2E=2E=2E=2E=2E=2E=2E=2E=2E=2E=2E=2E=2E=2E=2E=2E=2E=2E=2E=2E=2E=2E=2E=2E=2E=2E=2E=2E=2E=2E=2E=2E=2E=2E=2E=2E=2E=2E=2E=2E=2E=2E=2E=2E=2E=2E=2E=2E=2E=2E=2E=2E': 2}))\n",
      "(174, FreqDist({'=2E=2E=2E=2E=2E=2E=2E=2E=2E=2E=2E=2E=2E=2E=2E=2E=2E=2E=2E=2E=2E=2E=2E=2E=2E=2E=2E=2E=2E=2E=2E=2E=2E=2E=2E=2E=2E=2E=2E=2E=2E=2E=2E=2E=2E=2E=2E=2E=2E=2E=2E=2E=2E=2E=2E=2E=2E=2E': 2, 'b=r67mf5Bm3eFE7AyRmOXpMaUOFBQealhGKOvW++mn3rvtdId60Iso1ReoLrU7eS7Tjxf4VtoG7temnHQI56NvIRpsXUwUIU3nqG1jJ1jqOP19/AFrErdKNDSIx445rpqgjlWho401A4rOIyBCOlaVejc6rOZb2aSmtxk7FEE/V68=': 2, 'b=mqJsx2LyhUHFqgI2gKmT5B3hhK2sQ+7sCEqRC0PKNyBQ/U3l+pe/m03vTaUkZApz+qCcnuo6FWEq/QH/hp/2I6y2Mb+ykAhGwsmruYyaXE3AQAyBEizooFCIjeAB0CbDJsgcOAT9Fp5v0cPnqOWrTEXn0poFVoIWJl536XN1hfw=': 2, 'b=Rx9Q2PZipgw/p62txvrznZcknlfoQ39WowUArQl2mbIv7D0IyCVKIxcHZk0qbYDfCCtCVEM7VfRuX0icPQcMYRYMnZjZ1ySyY9uZDmgMbSkEUItV/Wqbxg0orDLNCuovRf4XZUGzdwjv3fFdG0p7SBv62DFmsPa2EjVmq/BcBtE=': 2, 'b=jkQ4fxj1gg3x+Td48K0Eraa+bZamg+4Jo8vPsN7dk94K47WwuITs0zBmWO8zbgy2UbJ7naQOdCheGPGtZdIKIWgGmH2mtF8hKTIy6Gpe1NUXMMLBfKJyhNg9FZeJWO1P5OyeWu6EsukS3QwiCFFIU+GvEj5cTJkEH/0EcFJ/ads=': 2, 'b=IJnyqMd+W4ECml8yLlMLOmfBXrh9c1VFiFMaSLnuslYfSPK4Ht2kAbtuTwwzyUAPWhCZIWjFfW3u/BiTzvcYByACbmiph7GoEUSY53lB64xcaMqYKkcrMghgwOe35HaGXMoq44Y8O/9vMYGOEwNMx89rGGMO5dEaxk42h5YSbJw=': 2, 'b=JUDLlFCHKh7OTexLf10aK8fykm7J1Pp9gaTy0xrueO21F216H3bObmhLWn3YGjW+pYcilQWQK5mu2PVY6w7m397lc1D6hgt/7oYQYSY7RDeR3swiKdWbWqMcn2leQvzQZVx6eH2mZBVD30kFadrIuFxIm3ledH1DVCZlxD079xs=': 2, 'b=sg0wuUiwjU/r1bzQvsteCq7HL1VbtwkZWPKCLiq34mIrkyL3K56NtqedJIdkQeOt3ErNpO6ApCkJtTu6GeImaYCqu/08cB781QQijU52/02o1WNWKj4yHsnKBaOdUyM61JVANto6pje4+P+AEaAB2Rs2iipXMJUsE2m7TwP9yzM=': 2, 'b=sjwdcyJClcssbHIzjMZYwute6h16PaQ/CFLlYZelNVpHBmy7nMu1tLbAWt/YxedqUd86ZRyuFfqR+WMDTRRjKvdfY2igZrbjTkLGaawQFfhRmN+/TRULu5GZHHrooWZuo0x5ZhiLA7lKb8GkAObJBzDtJ5ExGCs3LtvW/yOUfM8=': 1, 'b=rGikztvgyuWWhZF1cnb4aJIH0uNFpEtvJItaBblUEmhUtzFxTd9vQZTpSzS4G51d3IYWeRTX0E5d35m8LxwJSRuCIzUmvqQjx7sPjNNr67jf8FQkhI7ApU4QeaTZ4JfIWXv0NWO64HbvO8L/mCKLh3qCM8u43xFpKiB+kWt45Yo=': 1, ...}))\n",
      "(303, FreqDist({'=2E=2E=2E=2E=2E=2E=2E=2E=2E=2E=2E=2E=2E=2E=2E=2E=2E=2E=2E=2E=2E=2E=2E=2E=2E=2E=2E=2E=2E=2E=2E=2E=2E=2E=2E=2E=2E=2E=2E=2E=2E=2E=2E=2E=2E=2E=2E=2E=2E=2E=2E=2E=2E=2E=2E=2E=2E=2E=2E=2E=2E=2E=2E=2E=2E=2E=2E=2E=2E=2E=2E=2E=2E=2E=2E=2E=2E=2E=2E=2E=2E=2E=2E=2E=2E=2E=2E=2E=2E=2E=2E=2E=2E=2E=2E=2E=2E=2E=2E=2E=2E': 2}))\n",
      "(198, FreqDist({'=2E=2E=2E=2E=2E=2E=2E=2E=2E=2E=2E=2E=2E=2E=2E=2E=2E=2E=2E=2E=2E=2E=2E=2E=2E=2E=2E=2E=2E=2E=2E=2E=2E=2E=2E=2E=2E=2E=2E=2E=2E=2E=2E=2E=2E=2E=2E=2E=2E=2E=2E=2E=2E=2E=2E=2E=2E=2E=2E=2E=2E=2E=2E=2E=2E=2E': 2}))\n",
      "(465, FreqDist({'=2E=2E=2E=2E=2E=2E=2E=2E=2E=2E=2E=2E=2E=2E=2E=2E=2E=2E=2E=2E=2E=2E=2E=2E=2E=2E=2E=2E=2E=2E=2E=2E=2E=2E=2E=2E=2E=2E=2E=2E=2E=2E=2E=2E=2E=2E=2E=2E=2E=2E=2E=2E=2E=2E=2E=2E=2E=2E=2E=2E=2E=2E=2E=2E=2E=2E=2E=2E=2E=2E=2E=2E=2E=2E=2E=2E=2E=2E=2E=2E=2E=2E=2E=2E=2E=2E=2E=2E=2E=2E=2E=2E=2E=2E=2E=2E=2E=2E=2E=2E=2E=2E=2E=2E=2E=2E=2E=2E=2E=2E=2E=2E=2E=2E=2E=2E=2E=2E=2E=2E=2E=2E=2E=2E=2E=2E=2E=2E=2E=2E=2E=2E=2E=2E=2E=2E=2E=2E=2E=2E=2E=2E=2E=2E=2E=2E=2E=2E=2E=2E=2E=2E=2E=2E=2E': 2}))\n",
      "(522, FreqDist({'=2E=2E=2E=2E=2E=2E=2E=2E=2E=2E=2E=2E=2E=2E=2E=2E=2E=2E=2E=2E=2E=2E=2E=2E=2E=2E=2E=2E=2E=2E=2E=2E=2E=2E=2E=2E=2E=2E=2E=2E=2E=2E=2E=2E=2E=2E=2E=2E=2E=2E=2E=2E=2E=2E=2E=2E=2E=2E=2E=2E=2E=2E=2E=2E=2E=2E=2E=2E=2E=2E=2E=2E=2E=2E=2E=2E=2E=2E=2E=2E=2E=2E=2E=2E=2E=2E=2E=2E=2E=2E=2E=2E=2E=2E=2E=2E=2E=2E=2E=2E=2E=2E=2E=2E=2E=2E=2E=2E=2E=2E=2E=2E=2E=2E=2E=2E=2E=2E=2E=2E=2E=2E=2E=2E=2E=2E=2E=2E=2E=2E=2E=2E=2E=2E=2E=2E=2E=2E=2E=2E=2E=2E=2E=2E=2E=2E=2E=2E=2E=2E=2E=2E=2E=2E=2E=2E=2E=2E=2E=2E=2E=2E=2E=2E=2E=2E=2E=2E=2E=2E=2E=2E=2E=2E': 2}))\n",
      "(309, FreqDist({'=2E=2E=2E=2E=2E=2E=2E=2E=2E=2E=2E=2E=2E=2E=2E=2E=2E=2E=2E=2E=2E=2E=2E=2E=2E=2E=2E=2E=2E=2E=2E=2E=2E=2E=2E=2E=2E=2E=2E=2E=2E=2E=2E=2E=2E=2E=2E=2E=2E=2E=2E=2E=2E=2E=2E=2E=2E=2E=2E=2E=2E=2E=2E=2E=2E=2E=2E=2E=2E=2E=2E=2E=2E=2E=2E=2E=2E=2E=2E=2E=2E=2E=2E=2E=2E=2E=2E=2E=2E=2E=2E=2E=2E=2E=2E=2E=2E=2E=2E=2E=2E=2E=2E': 2}))\n",
      "(189, FreqDist({'=2E=2E=2E=2E=2E=2E=2E=2E=2E=2E=2E=2E=2E=2E=2E=2E=2E=2E=2E=2E=2E=2E=2E=2E=2E=2E=2E=2E=2E=2E=2E=2E=2E=2E=2E=2E=2E=2E=2E=2E=2E=2E=2E=2E=2E=2E=2E=2E=2E=2E=2E=2E=2E=2E=2E=2E=2E=2E=2E=2E=2E=2E=2E': 2}))\n",
      "(519, FreqDist({'=2E=2E=2E=2E=2E=2E=2E=2E=2E=2E=2E=2E=2E=2E=2E=2E=2E=2E=2E=2E=2E=2E=2E=2E=2E=2E=2E=2E=2E=2E=2E=2E=2E=2E=2E=2E=2E=2E=2E=2E=2E=2E=2E=2E=2E=2E=2E=2E=2E=2E=2E=2E=2E=2E=2E=2E=2E=2E=2E=2E=2E=2E=2E=2E=2E=2E=2E=2E=2E=2E=2E=2E=2E=2E=2E=2E=2E=2E=2E=2E=2E=2E=2E=2E=2E=2E=2E=2E=2E=2E=2E=2E=2E=2E=2E=2E=2E=2E=2E=2E=2E=2E=2E=2E=2E=2E=2E=2E=2E=2E=2E=2E=2E=2E=2E=2E=2E=2E=2E=2E=2E=2E=2E=2E=2E=2E=2E=2E=2E=2E=2E=2E=2E=2E=2E=2E=2E=2E=2E=2E=2E=2E=2E=2E=2E=2E=2E=2E=2E=2E=2E=2E=2E=2E=2E=2E=2E=2E=2E=2E=2E=2E=2E=2E=2E=2E=2E=2E=2E=2E=2E=2E=2E': 2}))\n",
      "(393, FreqDist({'=2E=2E=2E=2E=2E=2E=2E=2E=2E=2E=2E=2E=2E=2E=2E=2E=2E=2E=2E=2E=2E=2E=2E=2E=2E=2E=2E=2E=2E=2E=2E=2E=2E=2E=2E=2E=2E=2E=2E=2E=2E=2E=2E=2E=2E=2E=2E=2E=2E=2E=2E=2E=2E=2E=2E=2E=2E=2E=2E=2E=2E=2E=2E=2E=2E=2E=2E=2E=2E=2E=2E=2E=2E=2E=2E=2E=2E=2E=2E=2E=2E=2E=2E=2E=2E=2E=2E=2E=2E=2E=2E=2E=2E=2E=2E=2E=2E=2E=2E=2E=2E=2E=2E=2E=2E=2E=2E=2E=2E=2E=2E=2E=2E=2E=2E=2E=2E=2E=2E=2E=2E=2E=2E=2E=2E=2E=2E=2E=2E=2E=2E': 2}))\n",
      "(44, FreqDist({'//news.bbc.co.uk/1/hi/world/europe/859479.s=': 19, '//en.wikipedia.org/wiki/Mikhail_Khodorkovsky': 6, '//uk.messenger.yahoo.com/download/index.html': 4, 'news.bbc.co.uk/1/hi/world/africa/3333557.stm': 4, 'news.bbc.co.uk/1/hi/world/africa/2278292.stm': 4, '//www.windowslive.fr/liveonecare/default.asp': 4, '//news.1chinastar.com/ll/english/61934.shtml': 3, '//www.cnn.com/health/9809/03/dr.mann.profile': 3, '/usr/local/cpanel/base/horde/imp/compose.php': 3, '=3Cmailto=3Achuksanths=40zwallet=2Ecom=3E=2E': 2, ...}))\n",
      "(46, FreqDist({'//news.bbc.co.uk/1/hi/world/africa/1935646.stm': 8, '//uk.rd.yahoo.com/mail/tagline_messenger/*http': 8, '//news.bbc.co.uk/1/hi/world/africa/1968300.stm': 8, '//news.bbc.co.uk/1/hi/world/africa/1063785.stm': 7, 'versionId=5d21c51a-b161-4314-9b0e-4911fb2b2e6d': 5, '-MOQ1144346298e8adbbf420c9ea119c8d05fad0638728': 4, '-MOQ1168417198cae30143d0d9d757c75fecfea5e31005': 4, 'ww.cnn.com/2000/US/02/01/alaska.airlines.list/': 3, '//us.rd.yahoo.com/mail_us/taglines/PMHM3/*http': 3, '=CE=D2=D3=D0=D2=BB=B8=F6=D0=C2=B5=C4=B5=E7=D3=': 3, ...}))\n",
      "(45, FreqDist({'//news.bbc.co.uk/1/hi/world/europe/859479.stm': 71, '//news.bbc.co.uk/1/hi/world/africa/918781.stm': 8, '//news.bbc.co.uk/1/hi/world/africa/715001.stm': 8, '//news.bbc.co.uk/1/hi/world/europe/859479.st=': 6, '//www.unwire.org/UNWire/20030716/449_6621.asp': 4, 'NextPart_Webmail_9m3u9jl4l_26941_1114397607_0': 4, '//news.bbc.co.uk/1/hi/world/europe/851119.stm': 4, '//news.bbc.co.uk/1/hi/world/africa/468903.stm': 3, '//channels.netscape.com/ns/search/install.jsp': 3, '//news.bbc.co.uk/2/hi/world/europe/672849.stm': 3, ...}))\n"
     ]
    }
   ],
   "source": [
    "for i in range(100):\n",
    "    print(s[i])"
   ]
  },
  {
   "cell_type": "code",
   "execution_count": 64,
   "metadata": {},
   "outputs": [
    {
     "name": "stdout",
     "output_type": "stream",
     "text": [
      "160\n"
     ]
    }
   ],
   "source": [
    "print(len(s))"
   ]
  },
  {
   "cell_type": "code",
   "execution_count": 65,
   "metadata": {},
   "outputs": [
    {
     "name": "stdout",
     "output_type": "stream",
     "text": [
      "(145, FreqDist({'//answers.yahoo.com/dir/_ylc=X3oDMTI5MGx2aThyBF9TAzIxMTU1MDAzNTIEX3MDMzk2NTQ1MTAzBHNlYwNCQUJwaWxsYXJfTklfMzYwBHNsawNQcm9kdWN0X3F1ZXN0aW9uX3BhZ2U-': 4}))\n",
      "(200, FreqDist({'VEdqSFQVM1kOlkygof1SqUVkAnlIsZU2lj.OOuizYAkuEqKVHaEoSKTZhG40ZlyhAr4ml.apzbv0WKlK.odhgatFrv7mc3vkW29Z0uM49NUg0kyOVq4WRoSIJ0JeerX6JXM5OwItzxemxjOZEdK.tt9K1oyATz46nue3P4CrEXHfu9nma8Um4_Kss801TFdLpw8lyDQ-': 1}))\n",
      "(122, FreqDist({'\\\\DOCUME~1\\\\user\\\\LOCALS~1\\\\Temp\\\\__SkypeIEToolbar_Cache\\\\e70d95847a8f5723cfca6b3fd9946506\\\\static\\\\inactive_a.compat.stat.w16.gif': 2}))\n",
      "(94, FreqDist({'fI0jeRwVM1lPUeoA6GEU9Lx9G0vqoJs4eRsi_Hl5.IT2ikCjUK6XMnKkTADNyVXPr_jQZ2RQGK9jZcFm1wTf8mOSkVlzlg': 2}))\n",
      "(148, FreqDist({'Details=2E=2E=2E=2E=2E=2E=2E=2E=2E=2E=2E=2E=2E=2E=2E=2E=2E=2E=2E=2E=2E=2E=2E=2E=2E=2E=2E=2E=2E=2E=2E=2E=2E=2E=2E=2E=2E=2E=2E=2E=2E=2E=2E=2E=2E=2E=2E': 1}))\n",
      "(153, FreqDist({'2=2ENationality=2E=2E=2E=2E=2E=2E=2E=2E=2E=2E=2E=2E=2E=2E=2E=2E=2E=2E=2E=2E=2E=2E=2E=2E=2E=2E=2E=2E=2E=2E=2E=2E=2E=2E=2E=2E=2E=2E=2E=2E=2E=2E=2E=2E=2E=2E': 1}))\n",
      "(121, FreqDist({'Name=2E=2E=2E=2E=2E=2E=2E=2E=2E=2E=2E=2E=2E=2E=2E=2E=2E=2E=2E=2E=2E=2E=2E=2E=2E=2E=2E=2E=2E=2E=2E=2E=2E=2E=2E=2E=2E=2E=2E': 1}))\n",
      "(300, FreqDist({'|~||~||~||~||~||~||~||~||~||~||~||~||~||~||~||~||~||~||~||~||~||~||~||~||~||~||~||~||~||~||~||~||~||~||~||~||~||~||~||~||~||~||~||~||~||~||~||~||~||~||~||~||~||~||~||~||~||~||~||~||~||~||~||~||~||~||~||~||~||~||~||~||~||~||~||~||~||~||~||~||~||~||~||~||~||~||~||~||~||~||~||~||~||~||~||~||~||~||~||~|': 2}))\n",
      "(134, FreqDist({'GJULQV8VM1ksiI72kPSsGH182dJJBfe_mMqaDS5ungPtQukh9nh5Cmf1zhG1WvUDcG2S2k9ggvmwlyP8M0in7PnXZaq6cyzk7r2AKks44kkv5qd1443.KxCQULQ6iZbth_TJVw': 1}))\n",
      "(142, FreqDist({'NAME=2E=2E=2E=2E=2E=2E=2E=2E=2E=2E=2E=2E=2E=2E=2E=2E=2E=2E=2E=2E=2E=2E=2E=2E=2E=2E=2E=2E=2E=2E=2E=2E=2E=2E=2E=2E=2E=2E=2E=2E=2E=2E=2E=2E=2E=2E': 1}))\n",
      "(195, FreqDist({'AGE=2E=2E=2E=2E=2E=2E=2E=2E=2E=2E=2E=2E=2E=2E=2E=2E=2E=2E=2E=2E=2E=2E=2E=2E=2E=2E=2E=2E=2E=2E=2E=2E=2E=2E=2E=2E=2E=2E=2E=2E=2E=2E=2E=2E=2E=2E=2E=2E=2E=2E=2E=2E=2E=2E=2E=2E=2E=2E=2E=2E=2E=2E=2E=2E': 1}))\n",
      "(132, FreqDist({'NUMBER=2E=2E=2E=2E=2E=2E=2E=2E=2E=2E=2E=2E=2E=2E=2E=2E=2E=2E=2E=2E=2E=2E=2E=2E=2E=2E=2E=2E=2E=2E=2E=2E=2E=2E=2E=2E=2E=2E=2E=2E=2E=2E': 1}))\n",
      "(140, FreqDist({'l0oQofIVM1m8iSIDQD0o_Z_uX.OALfmn3NM6w7vEwUJ9qPyjpeRAOFQR_1KTPC7dIC.fgnNZW_aKVauts6.emf7NmZ6ndTiqHnWEPdKbTmfHz.dsUIj2bDtJ8zhgnv7uGbm1p3KB0MJ0': 2, 'N=3B0=2E=2E=2E=2E=2E=2E=2E=2E=2E=2E=2E=2E=2E=2E=2E=2E=2E=2E=2E=2E=2E=2E=2E=2E=2E=2E=2E=2E=2E=2E=2E=2E=2E=2E=2E=2E=2E=2E=2E=2E=2E=2E=2E=2E=2E': 1, 'quhMmn0VM1n_sUDmzistUUBGeKoOdAX9P0rx.NSY3wL5YF8mN_bAkWvey8mKIkW65bL5gwyvjaq0ya3XBwDr6m236xFE1GvSKOXSXxNGKhRFRNvwC2u_INbVqxCxRq4DWrt3o8VzV8pm': 1}))\n",
      "(160, FreqDist({'NAME=2E=2E=2E=2E=2E=2E=2E=2E=2E=2E=2E=2E=2E=2E=2E=2E=2E=2E=2E=2E=2E=2E=2E=2E=2E=2E=2E=2E=2E=2E=2E=2E=2E=2E=2E=2E=2E=2E=2E=2E=2E=2E=2E=2E=2E=2E=2E=2E=2E=2E=2E=2E': 1}))\n",
      "(112, FreqDist({'NAME=2E=2E=2E=2E=2E=2E=2E=2E=2E=2E=2E=2E=2E=2E=2E=2E=2E=2E=2E=2E=2E=2E=2E=2E=2E=2E=2E=2E=2E=2E=2E=2E=2E=2E=2E=2E': 1}))\n",
      "(204, FreqDist({'=3Chttp=3A=2F=2Fnews=2Ebbc=2Eco=2Euk=2F2=2Fhi=2Fin=5Fdepth=2Fafrica=2F2004=2Fsudan=2Fdefault=2Estm=3E=3Chttp=3A=2F=2Fnews=2Ebbc=2Eco=2Euk=2F2=2Fhi=2Fin=5Fdepth=2Fafrica=2F2004=2Fsudan=2Fdefault=2Estmt=3Et': 1}))\n",
      "(117, FreqDist({'=3Chttp=3A=2F=2Fmail=2Eyahoo=2Ecom=2Fconfig=2Flogin=3F=2Fym=2FCompose=3FTo=3Dmm=5Fm=5F17johnson=40yahoo=2Ecom=2Eau=3E': 1, 'Sex=2E=2E=2E=2E=2E=2E=2E=2E=2E=2E=2E=2E=2E=2E=2E=2E=2E=2E=2E=2E=2E=2E=2E=2E=2E=2E=2E=2E=2E=2E=2E=2E=2E=2E=2E=2E=2E=2E': 1}))\n",
      "(128, FreqDist({'5eb47c4d13b991673cf965acf3ce773794f5150ab1c16ac04be4f309a0cc41dd43fa37d18275e69cb047146e862595bf350badd9bab72f9c350badd9bab72f9c': 1, 'o5zF8agVM1kf2ZRHeJhE9L.9FfycGHhAYGCciwwXk.dA7F_9us4NYZejoTZKwDh3DhhZcebUFvnyMsXOPJAP6..zMyVev.ejbTE4n5IQXepCIvUgMhDDHeE.iy1FLUI-': 1}))\n",
      "(123, FreqDist({'STATE=2FCOUNTRY=2E=2E=2E=2E=2E=2E=2E=2E=2E=2E=2E=2E=2E=2E=2E=2E=2E=2E=2E=2E=2E=2E=2E=2E=2E=2E=2E=2E=2E=2E=2E=2E=2E=2E=2E=2E': 3, '\\\\DOCUME~1\\\\green\\\\LOCALS~1\\\\Temp\\\\__SkypeIEToolbar_Cache\\\\e70d95847a8f5723cfca6b3fd9946506\\\\static\\\\inactive_a.compat.stat.w16.gif': 2}))\n",
      "(159, FreqDist({'STATUS=3A=2E=2E=2E=2E=2E=2E=2E=2E=2E=2E=2E=2E=2E=2E=2E=2E=2E=2E=2E=2E=2E=2E=2E=2E=2E=2E=2E=2E=2E=2E=2E=2E=2E=2E=2E=2E=2E=2E=2E=2E=2E=2E=2E=2E=2E=2E=2E=2E=2E=2E': 3}))\n",
      "(171, FreqDist({'AGE=3A=2E=2E=2E=2E=2E=2E=2E=2E=2E=2E=2E=2E=2E=2E=2E=2E=2E=2E=2E=2E=2E=2E=2E=2E=2E=2E=2E=2E=2E=2E=2E=2E=2E=2E=2E=2E=2E=2E=2E=2E=2E=2E=2E=2E=2E=2E=2E=2E=2E=2E=2E=2E=2E=2E=2E': 3, 'NUMBER=2E=2E=2E=2E=2E=2E=2E=2E=2E=2E=2E=2E=2E=2E=2E=2E=2E=2E=2E=2E=2E=2E=2E=2E=2E=2E=2E=2E=2E=2E=2E=2E=2E=2E=2E=2E=2E=2E=2E=2E=2E=2E=2E=2E=2E=2E=2E=2E=2E=2E=2E=2E=2E=2E=2E': 1}))\n",
      "(109, FreqDist({'ADDRESS=2E=2E=2E=2E=2E=2E=2E=2E=2E=2E=2E=2E=2E=2E=2E=2E=2E=2E=2E=2E=2E=2E=2E=2E=2E=2E=2E=2E=2E=2E=2E=2E=2E=2E': 2, '\\\\DOCUME~1\\\\green\\\\LOCALS~1\\\\Temp\\\\__SkypeIEToolbar_Cache\\\\e70d95847a8f5723cfca6b3fd9946506\\\\static\\\\famfamfam/CI.gif': 2}))\n",
      "(166, FreqDist({'NAME=2E=2E=2E=2E=2E=2E=2E=2E=2E=2E=2E=2E=2E=2E=2E=2E=2E=2E=2E=2E=2E=2E=2E=2E=2E=2E=2E=2E=2E=2E=2E=2E=2E=2E=2E=2E=2E=2E=2E=2E=2E=2E=2E=2E=2E=2E=2E=2E=2E=2E=2E=2E=2E=2E': 2}))\n",
      "(130, FreqDist({'b=i34uqQV6MMzpyVl4G8kwNbv1ERXCrshHjC11MQgb1a3Su2GVtLVHV9L4bnVBrYBZV1cDzcMWbgirHOV7xN31Sw/YdFhI1+5ZZ9vtpYMlK9po/5gtiSKMNFB+zcMd+EF5': 1, 'b=kazvoxkoRTQiLqvXd1GnxOvcA5f8vd2I9VnacqeNgsru+YzlMBoO4sFTR2XshChzLtHqWvOJWTkqieFBx/lEuhM1FrVL1x+air8hbsdrbLTUZG5i2M3izo+/3GAWUtLM': 1, 'b=LzYKlOX/DYlPDkGIzuKlr6iqyEyzsIKpH5G0NBLwK7YdS2q+GL5ct7qQL392ZeHKfVmEVtlwcqhNKmTleTLsPdHJVvDSbG7MbFdNCHarZuiCX38wyNH1KtQjlSd/r7NH': 1, 'b=qR+KOvQphlEa8OwzqPMRJah/8IJCJGIUdAByi6fIEi2+PqoLwcLMh+oXBHi4/OSaltup01OrB8l3M84RnqECAe2iatHaes6848AtgDkPp15Je8LGjzr8G+ngrsW7Iskq': 1, 'b=gv5ePGs3udxr3NR3o7BBzL+79cvKCI0btzEF2rH9jdw/L8okeGA0qTZdW/Rj/xK17tjI27g5L2syTtaxS6txbHHF6xqusl6iFF+Z4TWVNMS9+ZMr2bXZbA4iJPsokWcZ': 1, 'b=TIX66aONsyDJatC2TDvaVB7/P7lzBNHjFUmvHF3QT1yXQH78ZMSjRYRAqVjSZo6EAkfskGEh9Cj0ZgmCI+5T7BFqrwzSEwdENwL4UXMdjtZ1IwWxX8xx0X/Zf1G69VMg': 1, 'b=szVnkjsZ6oAmoUhKFrJsxpAPiC3pYezhJPqBMaWVT9eXK0S66w2xH0AdsdoFTCScn7BK2PkMjJ08qt0oBvnQsqQ/yDX4pseVe/w98oMNqViGuZ2LJ/7PkGicQkGojjVA': 1, 'b=QpZBqF49vOIaABwCqZUn4WaOcBXYz6esiqiJTmYE19H637obkkW1xBS30yp0QzgmLsqYYiJ+mK75Eps/1HAJ3UmBN2tSyrq3mGZDsaUJhS9CjOI6rDUOq3lrEgY5Oo+h': 1, 'b=XNT2jj8E6tGDBawpoc9CPqN9V7THBRlO4YFv9tY/j0SYVFl3xal2JomWm0FFVXF0Rczxsy9omyP9j4AucoQ9Kyg3FpL7DRHawbB9NDfBEy4iMHwdP1T1hAfwLvyDi6S6': 1, 'b=Yc+fD2ssLDCvI7KV2NNcLwhQsr1G7BRINingSp77h1HgaMJnbhs9ml2TsfdTUTp1w/bjX4iT2aRZpdZSlKXgEF3XrZhikI9jD33yfXY/J+1lHavXw8/JqdypG3+k+wKu': 1, ...}))\n",
      "(73, FreqDist({'=5F=5F=5F=5F=5F=5F=5F=5F=5F=5F=5F=5F=5F=5F=5F=5F=5F=5F=5F=5F=5F=5F=5F=5F=': 6, 'DETAILS=2E=2E=2E=2E=2E=2E=2E=2E=2E=2E=2E=2E=2E=2E=2E=2E=2E=2E=2E=2E=2E=2E': 2, '_ylc=X3oDMTE2bzVzaHJtBF9TAzk1OTQ5NjM2BHNlYwNtYWlsdGFnBHNsawNob2xpZGF5LTA1': 1, 'i-bin/AdWorks/sigimpress.cgi/www.rediff.com/signature-home.htm/1963059423': 1, 'color=2Ehttp=3A=2F=2Fwww=2Eunwire=2Eorg=2FUNWire=2F20030716=2F449=5F66=3E': 1, '_ylc=X3oDMTE1YW1jcXJ2BF9TAzk3MTA3MDc2BHNlYwNtYWlsdGFncwRzbGsDbmV3LWNhcnM-': 1, '=A0=A0=A0=A0=A0=A0=A0=A0=A0=A0=A0=A0=A0=A0=A0=A0=A0=A0=A0=A0=A0=A0=A0=A0=': 1}))\n",
      "(120, FreqDist({'AGE=3A=2E=2E=2E=2E=2E=2E=2E=2E=2E=2E=2E=2E=2E=2E=2E=2E=2E=2E=2E=2E=2E=2E=2E=2E=2E=2E=2E=2E=2E=2E=2E=2E=2E=2E=2E=2E=2E=2E': 1, 'iw1PdBoVM1luUopYwMSAgCUpEUthgRhvcD2EUcp0rZPih55xS_u7I4jS6Gg3BTJ3XBjHAfP.WREuT1MDUy2pds9SGO1zY49h2nrtXcKDrBNekR3kPtMS2ug-': 1, 'Tb.fKo8VM1l7KDGq9wk9Hm1jbPEGN5kRveVcGdLn7COfDWtZMxneiR4kCJTo.mprPgMCBHeSt21FuQ3Udclh5U36LQcJiOLezC98dpn2.KXxeYXmQCTJh94-': 1, '=2E=2E=2E=2E=2E=2E=2E=2E=2E=2E=2E=2E=2E=2E=2E=2E=2E=2E=2E=2E=2E=2E=2E=2E=2E=2E=2E=2E=2E=2E=2E=2E=2E=2E=2E=2E=2E=2E=2E=2E': 1, 'HfqMN1UVM1k834UK9b77nZ8Z7LsLPSCeKVd9.tYtemG19ZJw.aJqcMEXK.BjvUYrMOudBUHR07pA1OdTeDNk.ggj9VBY3TBV1rT_dCEGWI.9xtj56nRrnM8-': 1, 'SU78I3wVM1nyvEEWH2Zi_.fnySv9OZTSGpckVJbPjtn2c9mvsLMkkUaZD0SMMeIliGmAr2JHMTPvqWjYx3.ESiJ.Iz23ZznY_PPNa9xxqOZwctoGbzxX3aQ-': 1}))\n",
      "(118, FreqDist({'NAME=2E=2E=2E=2E=2E=2E=2E=2E=2E=2E=2E=2E=2E=2E=2E=2E=2E=2E=2E=2E=2E=2E=2E=2E=2E=2E=2E=2E=2E=2E=2E=2E=2E=2E=2E=2E=2E=2E': 1}))\n",
      "(79, FreqDist({'_ylc=X3oDMTFhN2hucjlpBF9TAzk3NDA3NTg5BHBvcwM1BHNlYwNncm91cHMEc2xrA2VtYWlsLW5jbQ': 2, 'http=3A=2F=2Fwww=2Eusatoday=2Ecom=2Fnews=2Fworld=2F2003-07-15-liberia=5Fx=2Ehtm': 1, 'UK=3Ahttp=3A=2F=2Fnews=2Ebbc=2Eco=2Euk=2F1=2Fhi=2Fworld=2Feurope=2F859479=2Estm': 1, 'NAME=2E=2E=2E=2E=2E=2E=2E=2E=2E=2E=2E=2E=2E=2E=2E=2E=2E=2E=2E=2E=2E=2E=2E=2E=2E': 1, 'site=3A=3Chttp=3A=2F=2Fwww=2Erte=2Eie=2Fnews=2F2000=2F0418=2Fzimbabwe=2Ehtml=3E': 1}))\n",
      "(77, FreqDist({'website=3Ahttp=3A=2F=2Fnews=2Ebbc=2Eco=2Euk=2F2=2Fhi=2Fafrica=2F2269238=2Estm': 4, '_ylc=X3oDMTE5cDF2bXZzBF9TAzk3MTA3MDc2BHNlYwNtYWlsdGFncwRzbGsDZ3JlZW4tY2VudGVy': 3}))\n",
      "(86, FreqDist({'=3Chttp=3A=2F=2Fwww=2Ecnn=2Ecom=2F2000=2FUS=2F02=2F01=2Falaska=2Eairlines=2Elist=2F=3E': 2}))\n",
      "(89, FreqDist({'Iran=28http=3A=2F=2Fnews=2Ebbc=2Eco=2Euk=2F1=2Fhi=2Ftalking=5Fpoint=2F3350195=2Estm=29=2E': 1, '122920060920.28687.4594DDCC0001BD110000700F219791332903010CD2079C080C03BF979B9B9A9C039A03': 1}))\n",
      "(126, FreqDist({'STATE=2FCOUNTRY=2E=2E=2E=2E=2E=2E=2E=2E=2E=2E=2E=2E=2E=2E=2E=2E=2E=2E=2E=2E=2E=2E=2E=2E=2E=2E=2E=2E=2E=2E=2E=2E=2E=2E=2E=2E=2E': 1, 'NUMBER=2E=2E=2E=2E=2E=2E=2E=2E=2E=2E=2E=2E=2E=2E=2E=2E=2E=2E=2E=2E=2E=2E=2E=2E=2E=2E=2E=2E=2E=2E=2E=2E=2E=2E=2E=2E=2E=2E=2E=2E': 1, 'sukGaWsVM1lw1RLTLC2eJZR5B_evChNeh85e7bd27WTsVGPGSkETlAuzXvG9pCGVt7wgYgGkiSCxpKWmDiI5VABEddRp3HCVQLbJhK5ZbK1BlJZvA2XftCiAPgffVA': 1, 'yTpMU34VM1nKjqBUXpEXJ5vaa4.5rdR3E4oyIMOKQAxpgcut_9OtRdhubFcivTucaFDYfrAw6ZsLzACKbblmt1Cc839bgDr1MmsqbaZJ1PJMFJV4n_hILjzZ_ANOEw': 1}))\n",
      "(141, FreqDist({'STATUS=3A=2E=2E=2E=2E=2E=2E=2E=2E=2E=2E=2E=2E=2E=2E=2E=2E=2E=2E=2E=2E=2E=2E=2E=2E=2E=2E=2E=2E=2E=2E=2E=2E=2E=2E=2E=2E=2E=2E=2E=2E=2E=2E=2E=2E': 1}))\n",
      "(139, FreqDist({'NAME=2E=2E=2E=2E=2E=2E=2E=2E=2E=2E=2E=2E=2E=2E=2E=2E=2E=2E=2E=2E=2E=2E=2E=2E=2E=2E=2E=2E=2E=2E=2E=2E=2E=2E=2E=2E=2E=2E=2E=2E=2E=2E=2E=2E=2E': 1}))\n",
      "(114, FreqDist({'=3C=3C=3Chttp=3A=2F=2Fwww=2Echannelnewsasia=2Ecom=2Fstories=2Fafp=5Fworld=5Fbusiness=2Fview=2F112302=2F1=2F=2Eh=3E': 2, 'STATUS=3A=2E=2E=2E=2E=2E=2E=2E=2E=2E=2E=2E=2E=2E=2E=2E=2E=2E=2E=2E=2E=2E=2E=2E=2E=2E=2E=2E=2E=2E=2E=2E=2E=2E=2E=2E': 1, 'NUMBER=2E=2E=2E=2E=2E=2E=2E=2E=2E=2E=2E=2E=2E=2E=2E=2E=2E=2E=2E=2E=2E=2E=2E=2E=2E=2E=2E=2E=2E=2E=2E=2E=2E=2E=2E=2E': 1}))\n",
      "(110, FreqDist({'target=3D=5Fblankhttp=3A=2F=2Fwww=2Eforbes=2Ecom=2Fhome=2Ffeeds=2Fap=2F2004=2F10=2F18=2Fap1595717=2Ehtml=3E=3E': 2, 'POSITION=2E=2E=2E=2E=2E=2E=2E=2E=2E=2E=2E=2E=2E=2E=2E=2E=2E=2E=2E=2E=2E=2E=2E=2E=2E=2E=2E=2E=2E=2E=2E=2E=2E=2E': 2, '//us.lrd.yahoo.com/_ylc=X3oDMTFqODRtdXQ4BF9TAzMyOTc1MDIEX3MDOTY2ODgxNjkEcG9zAzEEc2VjA21haWwtZm9vdGVyBHNsawNmYw': 1}))\n",
      "(111, FreqDist({'target=3D=5Fblankhttp=3A=2F=2Fmoney=2Ecnn=2Ecom=2F2004=2F10=2F18=2Fnews=2Finternational=2Fyukos=2Ereut=2F=3E=3E': 2, '//www.chargershop.co.uk/www.bankofamerica.com/www.bankofamerica.com/Update/Securelogin/onlinebanking/index.html': 1}))\n",
      "(107, FreqDist({'=3C=3Chttp=3A=2F=2Fwww=2Emercurynews=2Ecom=2Fmld=2Fmercurynews=2Fnews=2Fbreaking=5Fnews=2F9950187=2Eh=3E=3E': 2, 'N=3B0=2E=2E=2E=2E=2E=2E=2E=2E=2E=2E=2E=2E=2E=2E=2E=2E=2E=2E=2E=2E=2E=2E=2E=2E=2E=2E=2E=2E=2E=2E=2E=2E=2E=2E': 1}))\n",
      "(106, FreqDist({'target=3D=5Fblankhttp=3A=2F=2Fwww=2Emosnews=2Ecom=2Fmoney=2F2004=2F10=2F18=2Fyuganskneftegaz=2Eshtml=3E=3E': 2, 'ADDRESS=2E=2E=2E=2E=2E=2E=2E=2E=2E=2E=2E=2E=2E=2E=2E=2E=2E=2E=2E=2E=2E=2E=2E=2E=2E=2E=2E=2E=2E=2E=2E=2E=2E': 1, 'NAME=2E=2E=2E=2E=2E=2E=2E=2E=2E=2E=2E=2E=2E=2E=2E=2E=2E=2E=2E=2E=2E=2E=2E=2E=2E=2E=2E=2E=2E=2E=2E=2E=2E=2E': 1}))\n",
      "(96, FreqDist({'href=3D=22http=3A=2F=2Fwww=2Emosnews=2Ecom=2Fmoney=2F2004=2F10=2F18=2Fyuganskneftegaz=2Eshtml=22': 2, 'http=3A=2F=2Fwww=2Echinadaily=2Ecom=2Ecn=2Fenglish=2Fdoc=2F2004-11=2F30=2Fcontent=5F396081=2Ehtm': 2, 'NUMBER=2E=2E=2E=2E=2E=2E=2E=2E=2E=2E=2E=2E=2E=2E=2E=2E=2E=2E=2E=2E=2E=2E=2E=2E=2E=2E=2E=2E=2E=2E': 1, 'http=3A=2F=2Fwww=2Echinadaily=2Ecom=2Ecn=2Fenglish=2Fdoc=2F2005-02=2F06=2Fcontent=5F415563=2Ehtm': 1, 'http=3A=2F=2Fwww=2Ecnn=2Ecom=2F2006=2FWORLD=2Fafrica=2F03=2F29=2Ftaylor=2Enigeria=2Findex=2Ehtml': 1}))\n",
      "(85, FreqDist({'href=3D=22http=3A=2F=2Fnewsfromrussia=2Ecom=2Fmain=2F2003=2F11=2F13=2F51215=2Ehtml=22': 2, 'NUMBERS=2E=2E=2E=2E=2E=2E=2E=2E=2E=2E=2E=2E=2E=2E=2E=2E=2E=2E=2E=2E=2E=2E=2E=2E=2E=2E': 1, '=3Chttp=3A=2F=2Fwww=2Enativefederation=2Eorg=2Fhistory=2Fpeople=2FmThompson=2Ehtml=3E': 1}))\n",
      "(97, FreqDist({'=3C=3Chttp=3A=2F=2Fwww=2Ewashingtonpost=2Ecom=2Fwp-dyn=2Farticles=2FA28041-2004Oct12=2Ehtml=3E=3E': 1, '=3Chttp=3A=2F=2Fus=2Ef302=2Email=2Eyahoo=2Ecom=2Fym=2FCompose=3FTo=3Deddy37sure=40she=2Ecom=3E=29': 1}))\n",
      "(108, FreqDist({'target=3D=5Fblankhttp=3A=2F=2Fwww=2Ewashingtonpost=2Ecom=2Fwp-dyn=2Farticles=2FA28041-2004Oct12=2Ehtml=3E=3E': 2, '//banner.eresmas.com/adclick/CID=0000642ec858344d00000000/site=ERESMAS/area=ERESMAS.CORREO/aamsz=PIE_WEBMAIL': 2, '\\\\DOCUME~1\\\\user\\\\LOCALS~1\\\\Temp\\\\__SkypeIEToolbar_Cache\\\\e70d95847a8f5723cfca6b3fd9946506\\\\static\\\\famfamfam/BF.gif': 2, '=3C=3Chttp=3A=2F=2Fwww=2Echannelnewsasia=2Ecom=2Fstories=2Fafp=5Fworld=5Fbusiness=2Fview=2F112302=2F1=2F=2Eh': 1, '//banner.eresmas.com/adclick/CID=0000647cc858344d00000000/site=ERESMAS/area=ERESMAS.CORREO/aamsz=PIE_WEBMAIL': 1, 'AGE=3A=2E=2E=2E=2E=2E=2E=2E=2E=2E=2E=2E=2E=2E=2E=2E=2E=2E=2E=2E=2E=2E=2E=2E=2E=2E=2E=2E=2E=2E=2E=2E=2E=2E=2E': 1, 'NUMBER=2E=2E=2E=2E=2E=2E=2E=2E=2E=2E=2E=2E=2E=2E=2E=2E=2E=2E=2E=2E=2E=2E=2E=2E=2E=2E=2E=2E=2E=2E=2E=2E=2E=2E': 1, 'Status=2E=2E=2E=2E=2E=2E=2E=2E=2E=2E=2E=2E=2E=2E=2E=2E=2E=2E=2E=2E=2E=2E=2E=2E=2E=2E=2E=2E=2E=2E=2E=2E=2E=2E': 1}))\n",
      "(90, FreqDist({'=3C=3Chttp=3A=2F=2Fwww=2Enewratings=2Ecom=2Fanalyst=5Fnews=2Farticle=5F496642=2Ehtml=3E=3E': 1, '//us.lrd.yahoo.com/_ylc=X3oDMTE0bG4ybmRjBF9TAzk1OTQ5NjM2BHNlYwNtYWlsdGFnBHNsawNhdWN0aW9ucw': 1, 'http=3A=2F=2Fwww=2Etimeinc=2Enet=2Fasiaweek=2Fmagazine=2F2000=2F0505=2Fedit=2Eflush=2Ehtml': 1, 'STATE=2FCOUNTRY=2E=2E=2E=2E=2E=2E=2E=2E=2E=2E=2E=2E=2E=2E=2E=2E=2E=2E=2E=2E=2E=2E=2E=2E=2E': 1, 'RPDID=7374723D303030312E30413031303230332E34344437383931452E303032312C73733D322C6667733D30': 1, 'b=CaDFNpqtkzyp2Mu5GMmUT/x+NCx0u9z5hAom7IeqNxwkW5UtvsqXd8mZYenhebuaUeyIix9CD5DKg9DlH6BxLQ==': 1, 'calendar-contact.ifbdu3lsonzg643fl5wwwylnmfptembqfuytcobwguytgojxgy3dgnzqgmytqnbr-rrrrr=UM': 1, 'RPDID=7374723D303030312E30413031303230372E34364242303738452E303046452C73733D312C6667733D30': 1}))\n",
      "(99, FreqDist({'=3Chttp=3A=2F=2Fwww=2Ecnn=2Ecom=2F2003=2FWORLD=2Fafrica=2F07=2F20=2Fkenya=2Ecrash=2Findex=2Ehtml=3E': 2, '=3C=3Chttp=3A=2F=2Fwww=2Eforbes=2Ecom=2Fhome=2Ffeeds=2Fap=2F2004=2F10=2F18=2Fap1595717=2Ehtml=3E=3E': 1}))\n",
      "(81, FreqDist({'=3Chttp=3A=2F=2Fnews=2Ebbc=2Eco=2Euk=2F1=2Fhi=2Fworld=2Fafrica=2F2134220=2Estm=3E': 2, '=3C=3Chttp=3A=2F=2Fnews=2Ebbc=2Eco=2Euk=2F1=2Fhi=2Fbusiness=2F3753804=2Estm=3E=3E': 1, 'http=3A=2F=2Fwww=2Ecnn=2Ecom=2FUS=2F9911=2F02=2Fegyptair990=2Elist=2Findex=2Ehtml': 1}))\n",
      "(101, FreqDist({'href=3D=22http=3A=2F=2Fmoney=2Ecnn=2Ecom=2F2004=2F10=2F18=2Fnews=2Finternational=2Fyukos=2Ereut=2F=22': 2, 'target=3D=5Fblankhttp=3A=2F=2Fwww=2Enewratings=2Ecom=2Fanalyst=5Fnews=2Farticle=5F496642=2Ehtml=3E=3E': 2, '=3Chttp=3A=2F=2Fwww=2Emercurynews=2Ecom=2Fmld=2Fmercurynews=2Fnews=2Fbreaking=5Fnews=2F9950187=2Eh=3E': 1, 'http=3A=2F=2Fnews=2Ebbc=2Eco=2Euk=2Fgo=2Fpr=2Ffr=2F-=2F1=2Fhi=2Fworld=2Fmiddle=5Feast=2F3970619=2Estm': 1}))\n",
      "(80, FreqDist({'http=3A=2F=2Fwww=2Ecnn=2Ecom=2F2000=2FUS=2F02=2F01=2Falaska=2Eairlines=2Elist=2F': 2, '=3Chttp=3A=2F=2Fnews=2Ebbc=2Eco=2Euk=2F1=2Fhi=2Fin=5Fpictures=2F4737661=2Estm=3E': 1, '=3Chttp=3A=2F=2Fnews=2Ebbc=2Eco=2Euk=2F2=2Fhi=2Fmiddle=5Feast=2F2988455=2Estm=3E': 1, 'SGVsbG8gU2lyLA0KSSBnb3QgeW91ciBjb250YWN0IGVtYWlsIGFkZHJlc3MgdGhyb3VnaCBhIHBlcnNv': 1, 'bmFsIHNlYXJjaCBhbmQgZGVjaWRlZCB0byBsZXQgeW91IGtub3cgYWJvdXQgdGhpcyBwYWNrYWdlZCBm': 1, 'aW5hbmNpYWwgdHJhbnNhY3Rpb24uSSBhbSBNci5KZXJyeSBNZW5zYWgsb25lIG9mIHRoZSByZWdpb25h': 1, 'bCBicmFuY2ggbWFuYWdlciBvZiBJbnRlcm5hdGlvbmFsIENvbW1lcmNpYWwgQmFuayBvZiBHaGFuYSBM': 1, 'dGQgQWNjcmEtR2hhbmEuDQpPbiB0aGUgY291cnNlIG9mIGxhc3QgeWVhciAyMDA1LzIwMDYgYnVzaW5l': 1, 'c3MgcmVwb3J0LEkgZGlzY292ZXJlZCB0aGF0IG15IGJyYW5jaCBtYWRlIGV4Y2VzcyBwcm9maXQgb2Yg': 1, 'VHdlbHZlIE1pbGxpb24sIFNldmVuIEh1bmRyZWQsIFRob3VzYW5kIERvbGxhcnMgKCQxMiw3MDAsMDAw': 1, ...}))\n",
      "(88, FreqDist({'=3Chttp=3A=2F=2Fwww=2Ecnn=2Ecom=2FWORLD=2Feurope=2F9902=2F09=2Fgermany=2Eholocaust=2F=3E': 2, '========================================================================================': 2, 'OCCUPATION=2E=2E=2E=2E=2E=2E=2E=2E=2E=2E=2E=2E=2E=2E=2E=2E=2E=2E=2E=2E=2E=2E=2E=2E=2E=2E': 1}))\n",
      "(116, FreqDist({'FederalConstituency=2C=28=3Chttp=3A=2F=2Fwww=2Enigeria=2Egov=2Eng=2Fgovernment=2FNationalass=2Ehtm=29=2Emember=3E=2C': 1}))\n",
      "(102, FreqDist({'target=3D=5Fblankhttp=3A=2F=2Fwww=2Ethemoscowtimes=2Ecom=2Fstories=2F2004=2F10=2F18=2F041=2Ehtml=3E=3E': 2, 'target=3D=5Fblankhttp=3A=2F=2Fwashingtontimes=2Ecom=2Fupi-breaking=2F20041017-064951-5424r=2Ehtm=3E=3E': 2, 'CNN=2EWEBSITE=2Ehttp=3A=2F=2Fwww=2Ecnn=2Ecom=2F2002=2FUS=2F03=2F21=2Fntsb=2Eegypt=2Eair=2Findex=2Ehtml': 1, 'STATE=2FCOUNTRY=2E=2E=2E=2E=2E=2E=2E=2E=2E=2E=2E=2E=2E=2E=2E=2E=2E=2E=2E=2E=2E=2E=2E=2E=2E=2E=2E=2E=2E': 1, 'STATUS=3A=2E=2E=2E=2E=2E=2E=2E=2E=2E=2E=2E=2E=2E=2E=2E=2E=2E=2E=2E=2E=2E=2E=2E=2E=2E=2E=2E=2E=2E=2E=2E': 1}))\n",
      "(150, FreqDist({'=5F=5F=5F=5F=5F=5F=5F=5F=5F=5F=5F=5F=5F=5F=5F=5F=5F=5F=5F=5F=5F=5F=5F=5F=5F=5F=5F=5F=5F=5F=5F=5F=5F=5F=5F=5F=5F=5F=5F=5F=5F=5F=5F=5F=5F=5F=5F=5F=5F=5F': 2}))\n",
      "(216, FreqDist({'=5F=5F=5F=5F=5F=5F=5F=5F=5F=5F=5F=5F=5F=5F=5F=5F=5F=5F=5F=5F=5F=5F=5F=5F=5F=5F=5F=5F=5F=5F=5F=5F=5F=5F=5F=5F=5F=5F=5F=5F=5F=5F=5F=5F=5F=5F=5F=5F=5F=5F=5F=5F=5F=5F=5F=5F=5F=5F=5F=5F=5F=5F=5F=5F=5F=5F=5F=5F=5F=5F=5F=5F': 8}))\n",
      "(56, FreqDist({'//www.nativefederation.org/history/people/mThompson.html': 10, '//toolbar.msn.click-url.com/go/onm00200415ave/direct/01/': 7, '//www.nationmaster.com/encyclopedia/Mikhail-Khodorkovsky': 6, 'DQoNCllvdXJzIHRydWx5LCANCkRyLiBEYW5pZWwgU29sb3cNCiAgICA=': 2, '//edition.cnn.com/2002/WORLD/europe/01/04/england.plane/': 2, '//www.pbs.org/newshour/bb/africa/liberia/taylor-bio.html': 1, 'address=2E=2E=2E=2Eelisabethkabba=40yahoo=2Eco=2Euk=2Ein': 1, 'news=2Ebbc=2Eco=2Euk=2F1=2Fhi=2Fbusiness=2F3213505=2Estm': 1, 'BANK=2E=2E=2E=2E=2E=2E=2E=2E=2E=2E=2E=2E=2E=2E=2E=2E=2E=': 1, 'lonelyplanet.com/destinations/africa/ghana/printable.htm': 1, ...}))\n",
      "(82, FreqDist({'http=3A=2F=2Fwww=2Ecnn=2Ecom=2FWORLD=2Feurope=2F9902=2F09=2Fgermany=2Eholocaust=2F': 3, 'href=3D=22http=3A=2F=2Fnews=2Ebbc=2Eco=2Euk=2F1=2Fhi=2Fbusiness=2F3753804=2Estm=22': 2, '__________________________________________________________________________________': 2, 'http=3A=2F=2Fnews=2Ebbc=2Eco=2Euk=2F2=2Fhi=2Fprogrammes=2Fpanorama=2F4007191=2Estm': 1}))\n",
      "(78, FreqDist({'=3Chttp=3A=2F=2Fnewsfromrussia=2Ecom=2Fmain=2F2003=2F11=2F13=2F51215=2Ehtml=3E': 5, 'topics.nytimes.com/top/reference/timestopics/people/a/moshood_k_o_abiola/index': 1}))\n",
      "(69, FreqDist({'//ad.tiscali.com/adclick/CID=3D0002ceb4c6efdc0e00000000/SITE=3DCZ.TI=': 5, '_____________________________________________________________________': 1, '//www.dailytimesofnigeria.com/DailyTimes/2003/December/4/N29bnscam.a=': 1, '//www.dailytimesofnigeria.com/SundayTimes/2003/December/14/HowAfolab=': 1, '=2E=2E=2E=2E=2E=2E=2E=2E=2E=2E=2E=2E=2E=2E=2E=2E=2E=2E=3CBR=3ECOUNTRY': 1, 'href=3D=22http=3A//banner=2Eeresmas=2Ecom/adclick/CID=3D0000642fc858=': 1, '=3CBR=3E=3C/P=3E=3C/td=3E=3C/tr=3E=3C/table=3E=3Cbr=3E=3Cbr=3E=3Cspa=': 1, 'href=3D=22http=3A//banner=2Eeresmas=2Ecom/adclick/CID=3D000064c2c858=': 1, 'style=3D=22font-family=3Averdana=3Bfont-size=3A11px=3B=22=3EEncuentr=': 1, '//www.lycos.es/advertising/graphics/telefonica/160605_footer-mail.gif': 1, ...}))\n",
      "(66, FreqDist({'__________________________________________________________________': 38, '5DScNyMVM1lUOZvQ4VWjZgqMoiz1By5pWlD6OERTZwrXM1pUH1QAOtZmfcKUfd3Ndg': 2, '//www.cnn.com/2005/WORLD/africa/10/23/obasanjo.obituary/index.html': 1, 'b=PEF8LxeYzNa8GhiVW5avXu3sKG8JtdNrRaYX6n4S4xOgYoluwPvZq8WJly5PCuog': 1, '//us.rd.yahoo.com/mail/uk/taglines/yahoo_co_uk/mobile/alerts/*http': 1, 'b=jgs+A1eqFKuJmD/KjNuKVm/9v5DwjlhwEKMrOlTKyDxQCRyBNEZlVO8MderFwoGg': 1, '//edition.cnn.com/SPECIALS/2001/memorial/lists/by-name/page95.html': 1, '//us.rd.yahoo.com/mail/uk/taglines/hotmail_com/nowyoucan/rss/*http': 1, '4oVq9rsVM1myXFakAdTciPigQwlaVoJg66L7bLUyqaynYjEEp0mBEXH91xIdeuiaZw': 1, 'a=f729527c996a0c3315ecf0878ea8795cd2c34f4b9494ad8c504cf7f58c09bd3c': 1, ...}))\n",
      "(53, FreqDist({'//www.cnn.com/WORLD/europe/9902/09/germany.holocaust/': 7, '//www.polity.org.za/html/govdocs/pr/2001/pr1003b.html': 2, '//fs.real-net.sk/usbank.com/logon/logon.asp/index.php': 2, '//us.rd.yahoo.com/mail/uk/taglines/default/cars/*http': 2, '//www.zenpageweavers.com/malikahti/journal/flight.htm': 1, '=2E=2E=2E=2E=2E=2E=2E=2E=2E=2E=3CBR=3EBENEFICIARY=92S': 1, 'href=3D=22http=3A//banner=2Eeresmas=2Ecom/adclick/CI=': 1, '//www.detnews.com/2003/nation/0310/09/a19e-292811.htm': 1, '//archives.cnn.com/2000/US/02/01/alaska.airlines.list': 1, 'www=2Ecnn=2Ecom/2003/WORLD/africa/12/26/benin=2Ecrash': 1, ...}))\n",
      "(62, FreqDist({'_=__=_XaM3_.1152679179.2A.896183.42.21118.52.42.007.1331066590': 4, '_=__=_XaM3_.1157179613.2A.429828.42.13687.52.42.007.1423203046': 4, '_=__=_XaM3_.1165357674.2A.528813.42.25366.52.42.007.2088878738': 4, '_=__=_XaM3_.1165358363.2A.726964.42.32441.52.42.007.1795816056': 4, '_=__=_XaM3_.1165358367.2A.190481.42.32496.52.42.007.1578073404': 4, '//www.september11victims.com/september11Victims/VictimInfo.asp': 3, '//news.bbc.co.uk/go/pr/fr/-/1/hi/world/middle_east/3970619.stm': 2, '//www.guardian.co.uk/international/story/0,3604,795364,00.html': 2, '//en.facebox.com/go/nomails/invite/email=-cmFkZXZAdW1pY2guZWR1': 2, 'Cache\\\\acff02a98e444a2cfc8e6580c12ac345\\\\static\\\\famfamfam/CI.gif': 2, ...}))\n",
      "(91, FreqDist({'===========================================================================================': 2, 'href=3D=22http=3A=2F=2Fwww=2Enewratings=2Ecom=2Fanalyst=5Fnews=2Farticle=5F496642=2Ehtml=22': 2, '___________________________________________________________________________________________': 1, '=3C=3Chttp=3A=2F=2Fwww=2Ethemoscowtimes=2Ecom=2Fstories=2F2004=2F10=2F18=2F041=2Ehtml=3E=3E': 1, '=3C=3Chttp=3A=2F=2Fwashingtontimes=2Ecom=2Fupi-breaking=2F20041017-064951-5424r=2Ehtm=3E=3E': 1, '=3C=3Chttp=3A=2F=2Fwww=2Eusatoday=2Ecom=2Fnews=2Fworld=2F2003-07-15-liberia=5Fx=2Ehtm=3E=3E': 1}))\n",
      "(100, FreqDist({'http=3A=2F=2Fnews=2Ebbc=2Eco=2Euk=2Fhi=2Fenglish=2Fworld=2Fafrica=2Fnewsid=5F1839000=2F1839252=2Estm': 5, 'NUMBERS=2E=2E=2E=2E=2E=2E=2E=2E=2E=2E=2E=2E=2E=2E=2E=2E=2E=2E=2E=2E=2E=2E=2E=2E=2E=2E=2E=2E=2E=2E=2E': 3, 'href=3D=22http=3A=2F=2Fwww=2Eforbes=2Ecom=2Fhome=2Ffeeds=2Fap=2F2004=2F10=2F18=2Fap1595717=2Ehtml=22': 2, '=3C=3Chttp=3A=2F=2Fmoney=2Ecnn=2Ecom=2F2004=2F10=2F18=2Fnews=2Finternational=2Fyukos=2Ereut=2F=3E=3E': 1, 'Occupation=2E=2E=2E=2E=2E=2E=2E=2E=2E=2E=2E=2E=2E=2E=2E=2E=2E=2E=2E=2E=2E=2E=2E=2E=2E=2E=2E=2E=2E=2E': 1, 'qa31PaAVM1lb6Nrg1dMDdoT5iVbzaxYw6wSt6SVFeec_Su2Ip7oWdZd9wob27dQfQN7yWjjNuRLBF4ET_.K40L7.F3L7sogIl00_': 1, 'Dna3IwUVM1mDzeMtlWTv0Dy9p9rD_alvXWZLjqIl8HNISxewq5qdQ5JxJ.yYHAFdSJo3ppKobuDWB5lb.99pQyW2q4x4nqcpvoQ-': 1}))\n",
      "(92, FreqDist({'=3Chttp=3A=2F=2Fwww=2Ecbsnews=2Ecom=2Fstories=2F1999=2F11=2F01=2Firan=2Fmain49778=2Eshtml=3E': 8, 'this=2CWEB-SITE=28www=2Ecnn=2Ecom=2Fus=2F9911=2F02=2Fegyptair990=2Elist=2Findex=2Ehtml=29=2E': 2, 'href=3D=22http=3A=2F=2Fwww=2Ethemoscowtimes=2Ecom=2Fstories=2F2004=2F10=2F18=2F041=2Ehtml=22': 2, 'target=3D=5Fblankhttp=3A=2F=2Fnews=2Ebbc=2Eco=2Euk=2F1=2Fhi=2Fbusiness=2F3753804=2Estm=3E=3E': 2, 'href=3D=22http=3A=2F=2Fwashingtontimes=2Ecom=2Fupi-breaking=2F20041017-064951-5424r=2Ehtm=22': 2, '6K9x12wVM1nE4CUtY37IKtjhyPJ9BbRQC.ZaS2zH7gixPvMDxEKZoQOYLOLErklgJavVhhFWNvRyv2iaFcxumvzE8317': 1, '____________________________________________________________________________________________': 1, '082220072054.6658.46CCA2580008CD7800001A02219791280203010CD2079C080C03BF0100020707050E9C0E9B': 1}))\n",
      "(98, FreqDist({'http=3A=2F=2Fnews=2Ebbc=2Eco=2Euk=2Fhi=2Fenglish=2Fworld=2Fafrica=2Fnewsid=5F909000=2F909972=2Estm': 5, 'http=3A=2F=2Fnews=2Ebbc=2Eco=2Euk=2Fhi=2Fenglish=2Fworld=2Fafrica=2Fnewsid=5F877000=2F877113=2Estm': 5, 'href=3D=22http=3A=2F=2Fwww=2Ewashingtonpost=2Ecom=2Fwp-dyn=2Farticles=2FA28041-2004Oct12=2Ehtml=22': 2, 'jEH7WB4VM1kG54yvuLgbna3rGkGVVp2YwtV10ziL2os77LA7Vlp_IkdfzlEX_HU.n46VeT9693WfLE12P5bDIMYbsdc980f7gw': 1, 'y24Eq6EVM1lz_efMxSnTl9Ow3rFL7HA0Zgdxog9HrFLSgdFLACl1XO18GonhXeJRiT8BgO85xgWu18ONI74LEbvhmRfI_qDvkA': 1, 'LNGEMHAVM1l0akzjD6T7nYYsbnVgB5UIVUjSI.GO126PKaYke243D09WHiMhPIAekPsF0qviV5CX1I2.vXw4H7n9WkElCrNlFQ': 1, 'NvPK_g8VM1l1gWSiTj3TA.kO5UXhNkoYzO8Z4HKKX.UGchRJUYgOqAwrmZ6dgx1ZMmbpMbx42RjSu.URpTbuw661A4mw.JXR3A': 1, 'DuKu_JYVM1kssMCTGA_rQH15V4zS7Vxp8WYSuWtOF_gQfypif4UlC3ObNirlfKAmAuS7ANjy_BeMBeocpR5yj812m47ZPjyS1w': 1}))\n",
      "(75, FreqDist({'___________________________________________________________________________': 119, '===========================================================================': 4, '=3CP=3E=3CBR=3E=26nbsp=3B=3C/P=3E=3C/td=3E=3C/tr=3E=3C/table=3E=3Cbr=3E=3C=': 2, '=3CP=3E=26nbsp=3B=3C/P=3E=3C/td=3E=3C/tr=3E=3C/table=3E=3Cbr=3E=3Cbr=3E=3C=': 2, '=3CBODY=3E=3CP=3E=3CBR=3E=3CBR=3E=3CBR=3E=3CBR=3E=3CBR=3E=26nbsp=3BDEAR=3C=': 1, 'http=3A=2F=2Fnews=2Ebbc=2Eco=2Euk=2F1=2Fhi=2Fworld=2Fafrica=2F1935646=2Estm': 1, 'http=3A=2F=2Fnews=2Ebbc=2Eco=2Euk=2F1=2Fhi=2Fworld=2Fafrica=2F3493958=2Estm': 1, 'p=3B=26nbsp=3B=26nbsp=3B=26nbsp=3B=26nbsp=3B=26nbsp=3B=26nbsp=3B=26nbsp=3B=': 1, 'd=2Ees=2Edoubleclick=2Enet/clk=3B15339847=3B11200040=3Br=3Fhttp=3A//www=2E=': 1, '255=3B7829128=3Bz=3Fhttp=3A//ad=2Ees=2Edoubleclick=2Enet/clk=3B15339847=3B=': 1, ...}))\n",
      "(49, FreqDist({'//www.cnn.com/2000/US/02/01/alaska.airlines.list/': 25, '//www.cnn.com/2003/WORLD/africa/12/26/benin.crash': 4, 'LONDON=2CSWITZERLAND=2CLUXEMBIURG=2CLIECHTENSTEIN': 3, '_________________________________________________': 3, '//us.rd.yahoo.com/mail_us/taglines/postman5/*http': 3, '//news.bbc.co.uk/1/hi/england/bristol/4153821.stm': 2, '=3Chttp=3A=2F=2Fwww=2Eswissbankclaims=2Ecom=2F=3E': 2, '//us.rd.yahoo.com/mail_us/taglines/postman3/*http': 2, '//us.rd.yahoo.com/mail_us/taglines/postman7/*http': 2, 'EMAIL=3Aoffice=2ERevricharddavid=40katamail=2Ecom': 2, ...}))\n",
      "(68, FreqDist({'latinmail.com_ltwebml02.localdomain_7750cf6fefc9663bc80625ff92d56d42': 24, 'latinmail.com_ltwebml02.localdomain_715505e7e76b9146aa646782138e69e3': 12, '********************************************************************': 6, 'latinmail.com_ltwebml03.localdomain_2f34889cd8049927844ddfb46d77b08b': 6, 'IA0KDQpZb3VycyBmYWl0aGZ1bGx5LCANCg0KTVIuIElCUkFISU0gQkFBSkkgICAgIA==': 5, 'latinmail.com_ltwebml01.localdomain_710f126d223c8eddc895915af553cd65': 3, 'latinmail.com_ltwebml03.localdomain_d9f2fb05354ab68b049ad89376637370': 3, 'latinmail.com_ltwebml03.localdomain_f728b1eaf87b866d4f6d33f88a14d759': 3, 'latinmail.com_ltwebml02.localdomain_2aabc046ecb3d68b1f056497f05e5441': 3, 'latinmail.com_ltwebml03.localdomain_50c99bf8175b9d34ad8c3eab948495ff': 3, ...}))\n",
      "(55, FreqDist({'//search.msn.click-url.com/go/onm00200636ave/direct/01/': 10, '//lists.sourceforge.net/lists/listinfo/nutch-developers': 9, '_=__=_XaM3_.1065796321.2A.51871.42.24117.52.42.007.1401': 4, '//us.rd.yahoo.com/messenger/mail_taglines/yahoofr/*http': 4, '//us.rd.yahoo.com/messenger/mail_taglines/hotmail/*http': 4, '//us.rd.yahoo.com/messenger/mail_taglines/wanadoo/*http': 3, '==Multipart_Boundary_xff93b252ec67027c713b2b07565dc314x': 3, '//www.opendemocracy.net/debates/article-3-56-1409.jspor': 2, '//clk.atdmt.com/MRT/go/mcrssaub0050001411mrt/direct/01/': 2, 'address=3A=28adekunle=5Fsmithmike=40hotmail=2Ecom=29=2E': 1, ...}))\n",
      "(93, FreqDist({'=3D=3D=3D=3D=3D=3D=3D=3D=3D=3D=3D=3D=3D=3D=3D=3D=3D=3D=3D=3D=3D=3D=3D=3D=3D=3D=3D=3D=3D=3D=3D': 2, '=3Chttp=3A=2F=2Fedition=2Ecnn=2Ecom=2F2002=2FWORLD=2Feurope=2F01=2F04=2Fengland=2Eplane=2F=3E': 1}))\n",
      "(48, FreqDist({'//www.tiscali.co.uk/products/broadband/home.html': 10, '________________________________________________': 9, '//yahoo.shaadi.com/india-matrimony/community.php': 6, '//www.cnn.com/2000/US/02/01/alaska.airlines.list': 5, '//www.cnn.com/WORLD/9708/06/guam.passenger.list/': 4, 'www.cnn.com/2003/WORLD/africa/12/26/benin.crash/': 4, '//news.bbc.co.uk/1/hi/world/europe/859479.stm=20': 4, 'incrowd_6506e2e6636163656626f7892e636f26d05b3743': 3, '//www.roaringpenguin.com/mimedefang/enduser.php3': 2, '//us.rd.yahoo.com/mail/in/mailanswersshare/*http': 2, ...}))\n",
      "(72, FreqDist({'AAAAAAAAAAAAAAAAAAAAAAAAAAAAAAAAAAAAAAAAAAAAAAAAAAAAAAAAAAAAAAAAAAAAAAAA': 60, '________________________________________________________________________': 12, 'DQpEZWFyIFNpci9NYWRhbSwNCiANCkkgYW0gTXIuIElicmFoaW0gQmFhamkgKFNBTikgLSBh': 5, 'biBhdHRvcm5leSBvZiB0aGUgU3VwcmVtZSBDb3VydCBvZiBOaWdlcmlhLiBJIGFtIHRoZSBw': 5, 'ZXJzb25hbCBhdHRvcm5leSB0byBNci4gQWxsZW4gWm9vaywgYSBuYXRpb25hbCBvZiBVbml0': 5, 'ZWQgU3RhdGVzLCB3aG8gd29ya2VkIHdpdGggU2hlbGwgRGV2ZWxvcG1lbnQgQ29tcGFueSBv': 5, 'ZiBOaWdlcmlhIGluLWNoYXJnZSBvZiBjcnVkZSBvaWwgZXhwbG9yYXRpb24sIGhlcmVpbiBh': 5, 'ZnRlciByZWZlcnJlZCB0byBhcyBteSBjbGllbnQuIA0KDQpJIGNhbWUgdG8ga25vdyBhYm91': 5, 'dCB5b3UgaW4gbXkgcHJpdmF0ZSBzZWFyY2ggZm9yIGEgcmVsaWFibGUgcGVyc29uL2NvbXBh': 5, 'bnkgdG8gaGFuZGxlIGEgY29uZmlkZW50aWFsIHRyYW5zYWN0aW9uIG9uIG15IGJlaGFsZiBh': 5, ...}))\n",
      "(74, FreqDist({'_________________________________________________________________________=': 16, 'http=3A=2F=2Fnews=2Ebbc=2Eco=2Euk=2F1=2Fhi=2Fworld=2Fafrica=2F468903=2Estm': 6, 'http=3A=2F=2Fnews=2Ebbc=2Eco=2Euk=2F1=2Fhi=2Fworld=2Feurope=2F859479=2Estm': 4, '*************************************************************************=': 4, 'www=2Ecnn=2Ecom=2Fus=2F9911=2F02=2Fegyptair990=2Elist=2Findex=2Ehtml=29=2E': 2, '=3Chttp=3A=2F=2Fwww=2Egov=2Eza=2Fgol=2Fgcis=5Fprofile=2Ejsp=3Fid=3D1068=3E': 2, '=26nbsp=3B=26nbsp=3B=26nbsp=3B=26nbsp=3B=26nbsp=3B=26nbsp=3B=26nbsp=3B=26=': 2, '344d00000000/site=3DERESMAS/area=3DERESMAS=2ECORREO/aamsz=3DPIE=5FWEBMAIL=': 2, 'http=3A//news=2Ebbc=2Eco=2Euk/go/pr/fr/-/1/hi/world/middle=5Feast/3970619=': 2, 'lbar_Cache\\\\acff02a98e444a2cfc8e6580c12ac345\\\\static\\\\inactive_a.compat.stat=': 2, ...}))\n",
      "(63, FreqDist({'_______________________________________________________________': 3, '//www.cnn.com/2006/WORLD/africa/03/29/taylor.nigeria/index.html': 2, '//www.cwn.org.uk/business/a-z/a/agco/2002/01/020104-air-crash.=': 2, 'Adams=0D=0A=0D=0A=0D=0A=0D=0A=0D=0A=0D=0A=0D=0A=0D=0A=0D=0A=0D=': 1, 'http=3A=2F=2Fallafrica=2Ecom=2Fstories=2F200203180074=2Ehtml=2E': 1, '//www.tiscali.co.uk/travel/competitions/brilliant_weekends.html': 1, '042520050253.26941.426C5BA70001D1110000693D220588644204080E0D9C': 1, '=3B=26nbsp=3B=26nbsp=3B=26nbsp=3B=26nbsp=3B=26nbsp=3B=26nbsp=3B': 1, 'href=3D=22mailto=3Aavingg=40hotmail=2Ecom=22=3Eavingg=40hotmai=': 1, '//g-images.amazon.com/images/G/01/nav/amazon/amzn-logo-118w.gif': 1, ...}))\n",
      "(70, FreqDist({'______________________________________________________________________': 6, '000000/site=3DERESMAS/area=3DERESMAS=2ECORREO/aamsz=3DPIE=5FWEBMAIL=22': 1, '//www.pbs.org/frontlineworld/stories/moscow/khodorkovskyinterview.html': 1, 'target=3D=22=5Fblank=22=3Ehttp=3A//ad=2Edoubleclick=2Enet/clk=3B16697=': 1, 'target=3D=22=5Fblank=22=3Ehttp=3A//www=2Eportae=2Ecom=3C/a=3E=3C/span=': 1, 'style=3D=22font-family=3Averdana=3Bfont-size=3A11px=3B=22=3EEncuentra=': 1, 'February2002=2E=28http=3A=2F=2Fwww=2Eempereur=2Ecom=2Fangola=2Ehtml=29': 1, 'http=3A=2F=2Fwww=2Euslaboragainstwar=2Eorg=2Farticle=2Ephp=3Fid=3D6979': 1, '12=2C2001=2Ewww=2Ecnn=2Ecom=2F2001=2FUS=2F11=2F12=2Fnewyork=2Ecrash=2F': 1, '//edition.cnn.com/2005/WORLD/africa/10/23/obasanjo.obituary/index.html': 1, ...}))\n",
      "(52, FreqDist({'//lists.sourceforge.net/lists/listinfo/nutch-general': 6, '//www.cnn.com/us/9911/02/egyptair990.list/index.html': 4, 'EXCITEBOUNDARY_000__45d2b4f92536b6c7f80c7cd307ee2b63': 4, 'EXCITEBOUNDARY_000__7cad2071234786aefad8e5736a1e8a5c': 4, '//transcripts.cnn.com/TRANSCRIPTS/0008/23/bn.08.html': 4, '//www.themoscowtimes.com/stories/2005/04/11/041.html': 3, 'E-mail=3Amijez2001=5Fnnpc=40zwallet=2Ecom=2EThanking': 2, '//www.cnn.com/US/9911/02/egyptair990.list/index.html': 2, 'bmVzdC4KClJlZ2FyZHMsCgpKb3NlIE1hcnRpbmV6IEd1em1hbgoK': 2, '****************************************************': 1, ...}))\n",
      "(61, FreqDist({'_=__=_XaM3_.1146880494.2A.241642.42.22828.52.42.007.201631836': 4, '_=__=_XaM3_.1151342783.2A.181441.42.2910.52.42.007.1234260522': 4, '_=__=_XaM3_.1152278328.2A.935303.42.28406.52.42.007.851466660': 4, '_=__=_XaM3_.1152467406.2A.790239.42.21699.52.42.007.215216246': 4, '_=__=_XaM3_.1152902300.2A.100767.42.25687.52.42.007.967491932': 4, '_=__=_XaM3_.1153390075.2A.492067.42.7731.52.42.007.1312796314': 4, '_=__=_XaM3_.1154012662.2A.694789.42.22851.52.42.007.679615548': 4, '_____________________________________________________________': 3, '//www.hinduonnet.com/thehindu/2001/10/06/stories/0306000k.htm': 2, '//pr.atwola.com/promoclk/100122638x1081283466x1074645346/aol=': 2, ...}))\n",
      "(486, FreqDist({'=2E=2E=2E=2E=2E=2E=2E=2E=2E=2E=2E=2E=2E=2E=2E=2E=2E=2E=2E=2E=2E=2E=2E=2E=2E=2E=2E=2E=2E=2E=2E=2E=2E=2E=2E=2E=2E=2E=2E=2E=2E=2E=2E=2E=2E=2E=2E=2E=2E=2E=2E=2E=2E=2E=2E=2E=2E=2E=2E=2E=2E=2E=2E=2E=2E=2E=2E=2E=2E=2E=2E=2E=2E=2E=2E=2E=2E=2E=2E=2E=2E=2E=2E=2E=2E=2E=2E=2E=2E=2E=2E=2E=2E=2E=2E=2E=2E=2E=2E=2E=2E=2E=2E=2E=2E=2E=2E=2E=2E=2E=2E=2E=2E=2E=2E=2E=2E=2E=2E=2E=2E=2E=2E=2E=2E=2E=2E=2E=2E=2E=2E=2E=2E=2E=2E=2E=2E=2E=2E=2E=2E=2E=2E=2E=2E=2E=2E=2E=2E=2E=2E=2E=2E=2E=2E=2E=2E=2E=2E=2E=2E=2E': 2}))\n",
      "(432, FreqDist({'=2E=2E=2E=2E=2E=2E=2E=2E=2E=2E=2E=2E=2E=2E=2E=2E=2E=2E=2E=2E=2E=2E=2E=2E=2E=2E=2E=2E=2E=2E=2E=2E=2E=2E=2E=2E=2E=2E=2E=2E=2E=2E=2E=2E=2E=2E=2E=2E=2E=2E=2E=2E=2E=2E=2E=2E=2E=2E=2E=2E=2E=2E=2E=2E=2E=2E=2E=2E=2E=2E=2E=2E=2E=2E=2E=2E=2E=2E=2E=2E=2E=2E=2E=2E=2E=2E=2E=2E=2E=2E=2E=2E=2E=2E=2E=2E=2E=2E=2E=2E=2E=2E=2E=2E=2E=2E=2E=2E=2E=2E=2E=2E=2E=2E=2E=2E=2E=2E=2E=2E=2E=2E=2E=2E=2E=2E=2E=2E=2E=2E=2E=2E=2E=2E=2E=2E=2E=2E=2E=2E=2E=2E=2E=2E': 2}))\n",
      "(295, FreqDist({'DATE=2E=2E=2E=2E=2E=2E=2E=2E=2E=2E=2E=2E=2E=2E=2E=2E=2E=2E=2E=2E=2E=2E=2E=2E=2E=2E=2E=2E=2E=2E=2E=2E=2E=2E=2E=2E=2E=2E=2E=2E=2E=2E=2E=2E=2E=2E=2E=2E=2E=2E=2E=2E=2E=2E=2E=2E=2E=2E=2E=2E=2E=2E=2E=2E=2E=2E=2E=2E=2E=2E=2E=2E=2E=2E=2E=2E=2E=2E=2E=2E=2E=2E=2E=2E=2E=2E=2E=2E=2E=2E=2E=2E=2E=2E=2E=2E=2E': 2}))\n",
      "(231, FreqDist({'=2E=2E=2E=2E=2E=2E=2E=2E=2E=2E=2E=2E=2E=2E=2E=2E=2E=2E=2E=2E=2E=2E=2E=2E=2E=2E=2E=2E=2E=2E=2E=2E=2E=2E=2E=2E=2E=2E=2E=2E=2E=2E=2E=2E=2E=2E=2E=2E=2E=2E=2E=2E=2E=2E=2E=2E=2E=2E=2E=2E=2E=2E=2E=2E=2E=2E=2E=2E=2E=2E=2E=2E=2E=2E=2E=2E=2E': 2}))\n",
      "(294, FreqDist({'=2E=2E=2E=2E=2E=2E=2E=2E=2E=2E=2E=2E=2E=2E=2E=2E=2E=2E=2E=2E=2E=2E=2E=2E=2E=2E=2E=2E=2E=2E=2E=2E=2E=2E=2E=2E=2E=2E=2E=2E=2E=2E=2E=2E=2E=2E=2E=2E=2E=2E=2E=2E=2E=2E=2E=2E=2E=2E=2E=2E=2E=2E=2E=2E=2E=2E=2E=2E=2E=2E=2E=2E=2E=2E=2E=2E=2E=2E=2E=2E=2E=2E=2E=2E=2E=2E=2E=2E=2E=2E=2E=2E=2E=2E=2E=2E=2E=2E': 2}))\n",
      "(213, FreqDist({'=2E=2E=2E=2E=2E=2E=2E=2E=2E=2E=2E=2E=2E=2E=2E=2E=2E=2E=2E=2E=2E=2E=2E=2E=2E=2E=2E=2E=2E=2E=2E=2E=2E=2E=2E=2E=2E=2E=2E=2E=2E=2E=2E=2E=2E=2E=2E=2E=2E=2E=2E=2E=2E=2E=2E=2E=2E=2E=2E=2E=2E=2E=2E=2E=2E=2E=2E=2E=2E=2E=2E': 2}))\n",
      "(196, FreqDist({'OFFICER=2E=2E=2E=2E=2E=2E=2E=2E=2E=2E=2E=2E=2E=2E=2E=2E=2E=2E=2E=2E=2E=2E=2E=2E=2E=2E=2E=2E=2E=2E=2E=2E=2E=2E=2E=2E=2E=2E=2E=2E=2E=2E=2E=2E=2E=2E=2E=2E=2E=2E=2E=2E=2E=2E=2E=2E=2E=2E=2E=2E=2E=2E=2E': 2}))\n",
      "(144, FreqDist({'=2E=2E=2E=2E=2E=2E=2E=2E=2E=2E=2E=2E=2E=2E=2E=2E=2E=2E=2E=2E=2E=2E=2E=2E=2E=2E=2E=2E=2E=2E=2E=2E=2E=2E=2E=2E=2E=2E=2E=2E=2E=2E=2E=2E=2E=2E=2E=2E': 2, 'AGE=3A=2E=2E=2E=2E=2E=2E=2E=2E=2E=2E=2E=2E=2E=2E=2E=2E=2E=2E=2E=2E=2E=2E=2E=2E=2E=2E=2E=2E=2E=2E=2E=2E=2E=2E=2E=2E=2E=2E=2E=2E=2E=2E=2E=2E=2E=2E': 1}))\n",
      "(192, FreqDist({'=2E=2E=2E=2E=2E=2E=2E=2E=2E=2E=2E=2E=2E=2E=2E=2E=2E=2E=2E=2E=2E=2E=2E=2E=2E=2E=2E=2E=2E=2E=2E=2E=2E=2E=2E=2E=2E=2E=2E=2E=2E=2E=2E=2E=2E=2E=2E=2E=2E=2E=2E=2E=2E=2E=2E=2E=2E=2E=2E=2E=2E=2E=2E=2E': 2}))\n",
      "(483, FreqDist({'=2E=2E=2E=2E=2E=2E=2E=2E=2E=2E=2E=2E=2E=2E=2E=2E=2E=2E=2E=2E=2E=2E=2E=2E=2E=2E=2E=2E=2E=2E=2E=2E=2E=2E=2E=2E=2E=2E=2E=2E=2E=2E=2E=2E=2E=2E=2E=2E=2E=2E=2E=2E=2E=2E=2E=2E=2E=2E=2E=2E=2E=2E=2E=2E=2E=2E=2E=2E=2E=2E=2E=2E=2E=2E=2E=2E=2E=2E=2E=2E=2E=2E=2E=2E=2E=2E=2E=2E=2E=2E=2E=2E=2E=2E=2E=2E=2E=2E=2E=2E=2E=2E=2E=2E=2E=2E=2E=2E=2E=2E=2E=2E=2E=2E=2E=2E=2E=2E=2E=2E=2E=2E=2E=2E=2E=2E=2E=2E=2E=2E=2E=2E=2E=2E=2E=2E=2E=2E=2E=2E=2E=2E=2E=2E=2E=2E=2E=2E=2E=2E=2E=2E=2E=2E=2E=2E=2E=2E=2E=2E=2E': 4}))\n",
      "(495, FreqDist({'=2E=2E=2E=2E=2E=2E=2E=2E=2E=2E=2E=2E=2E=2E=2E=2E=2E=2E=2E=2E=2E=2E=2E=2E=2E=2E=2E=2E=2E=2E=2E=2E=2E=2E=2E=2E=2E=2E=2E=2E=2E=2E=2E=2E=2E=2E=2E=2E=2E=2E=2E=2E=2E=2E=2E=2E=2E=2E=2E=2E=2E=2E=2E=2E=2E=2E=2E=2E=2E=2E=2E=2E=2E=2E=2E=2E=2E=2E=2E=2E=2E=2E=2E=2E=2E=2E=2E=2E=2E=2E=2E=2E=2E=2E=2E=2E=2E=2E=2E=2E=2E=2E=2E=2E=2E=2E=2E=2E=2E=2E=2E=2E=2E=2E=2E=2E=2E=2E=2E=2E=2E=2E=2E=2E=2E=2E=2E=2E=2E=2E=2E=2E=2E=2E=2E=2E=2E=2E=2E=2E=2E=2E=2E=2E=2E=2E=2E=2E=2E=2E=2E=2E=2E=2E=2E=2E=2E=2E=2E=2E=2E=2E=2E=2E=2E': 2}))\n",
      "(261, FreqDist({'=2E=2E=2E=2E=2E=2E=2E=2E=2E=2E=2E=2E=2E=2E=2E=2E=2E=2E=2E=2E=2E=2E=2E=2E=2E=2E=2E=2E=2E=2E=2E=2E=2E=2E=2E=2E=2E=2E=2E=2E=2E=2E=2E=2E=2E=2E=2E=2E=2E=2E=2E=2E=2E=2E=2E=2E=2E=2E=2E=2E=2E=2E=2E=2E=2E=2E=2E=2E=2E=2E=2E=2E=2E=2E=2E=2E=2E=2E=2E=2E=2E=2E=2E=2E=2E=2E=2E': 2}))\n",
      "(174, FreqDist({'=2E=2E=2E=2E=2E=2E=2E=2E=2E=2E=2E=2E=2E=2E=2E=2E=2E=2E=2E=2E=2E=2E=2E=2E=2E=2E=2E=2E=2E=2E=2E=2E=2E=2E=2E=2E=2E=2E=2E=2E=2E=2E=2E=2E=2E=2E=2E=2E=2E=2E=2E=2E=2E=2E=2E=2E=2E=2E': 2, 'b=r67mf5Bm3eFE7AyRmOXpMaUOFBQealhGKOvW++mn3rvtdId60Iso1ReoLrU7eS7Tjxf4VtoG7temnHQI56NvIRpsXUwUIU3nqG1jJ1jqOP19/AFrErdKNDSIx445rpqgjlWho401A4rOIyBCOlaVejc6rOZb2aSmtxk7FEE/V68=': 2, 'b=mqJsx2LyhUHFqgI2gKmT5B3hhK2sQ+7sCEqRC0PKNyBQ/U3l+pe/m03vTaUkZApz+qCcnuo6FWEq/QH/hp/2I6y2Mb+ykAhGwsmruYyaXE3AQAyBEizooFCIjeAB0CbDJsgcOAT9Fp5v0cPnqOWrTEXn0poFVoIWJl536XN1hfw=': 2, 'b=Rx9Q2PZipgw/p62txvrznZcknlfoQ39WowUArQl2mbIv7D0IyCVKIxcHZk0qbYDfCCtCVEM7VfRuX0icPQcMYRYMnZjZ1ySyY9uZDmgMbSkEUItV/Wqbxg0orDLNCuovRf4XZUGzdwjv3fFdG0p7SBv62DFmsPa2EjVmq/BcBtE=': 2, 'b=jkQ4fxj1gg3x+Td48K0Eraa+bZamg+4Jo8vPsN7dk94K47WwuITs0zBmWO8zbgy2UbJ7naQOdCheGPGtZdIKIWgGmH2mtF8hKTIy6Gpe1NUXMMLBfKJyhNg9FZeJWO1P5OyeWu6EsukS3QwiCFFIU+GvEj5cTJkEH/0EcFJ/ads=': 2, 'b=IJnyqMd+W4ECml8yLlMLOmfBXrh9c1VFiFMaSLnuslYfSPK4Ht2kAbtuTwwzyUAPWhCZIWjFfW3u/BiTzvcYByACbmiph7GoEUSY53lB64xcaMqYKkcrMghgwOe35HaGXMoq44Y8O/9vMYGOEwNMx89rGGMO5dEaxk42h5YSbJw=': 2, 'b=JUDLlFCHKh7OTexLf10aK8fykm7J1Pp9gaTy0xrueO21F216H3bObmhLWn3YGjW+pYcilQWQK5mu2PVY6w7m397lc1D6hgt/7oYQYSY7RDeR3swiKdWbWqMcn2leQvzQZVx6eH2mZBVD30kFadrIuFxIm3ledH1DVCZlxD079xs=': 2, 'b=sg0wuUiwjU/r1bzQvsteCq7HL1VbtwkZWPKCLiq34mIrkyL3K56NtqedJIdkQeOt3ErNpO6ApCkJtTu6GeImaYCqu/08cB781QQijU52/02o1WNWKj4yHsnKBaOdUyM61JVANto6pje4+P+AEaAB2Rs2iipXMJUsE2m7TwP9yzM=': 2, 'b=sjwdcyJClcssbHIzjMZYwute6h16PaQ/CFLlYZelNVpHBmy7nMu1tLbAWt/YxedqUd86ZRyuFfqR+WMDTRRjKvdfY2igZrbjTkLGaawQFfhRmN+/TRULu5GZHHrooWZuo0x5ZhiLA7lKb8GkAObJBzDtJ5ExGCs3LtvW/yOUfM8=': 1, 'b=rGikztvgyuWWhZF1cnb4aJIH0uNFpEtvJItaBblUEmhUtzFxTd9vQZTpSzS4G51d3IYWeRTX0E5d35m8LxwJSRuCIzUmvqQjx7sPjNNr67jf8FQkhI7ApU4QeaTZ4JfIWXv0NWO64HbvO8L/mCKLh3qCM8u43xFpKiB+kWt45Yo=': 1, ...}))\n",
      "(303, FreqDist({'=2E=2E=2E=2E=2E=2E=2E=2E=2E=2E=2E=2E=2E=2E=2E=2E=2E=2E=2E=2E=2E=2E=2E=2E=2E=2E=2E=2E=2E=2E=2E=2E=2E=2E=2E=2E=2E=2E=2E=2E=2E=2E=2E=2E=2E=2E=2E=2E=2E=2E=2E=2E=2E=2E=2E=2E=2E=2E=2E=2E=2E=2E=2E=2E=2E=2E=2E=2E=2E=2E=2E=2E=2E=2E=2E=2E=2E=2E=2E=2E=2E=2E=2E=2E=2E=2E=2E=2E=2E=2E=2E=2E=2E=2E=2E=2E=2E=2E=2E=2E=2E': 2}))\n",
      "(198, FreqDist({'=2E=2E=2E=2E=2E=2E=2E=2E=2E=2E=2E=2E=2E=2E=2E=2E=2E=2E=2E=2E=2E=2E=2E=2E=2E=2E=2E=2E=2E=2E=2E=2E=2E=2E=2E=2E=2E=2E=2E=2E=2E=2E=2E=2E=2E=2E=2E=2E=2E=2E=2E=2E=2E=2E=2E=2E=2E=2E=2E=2E=2E=2E=2E=2E=2E=2E': 2}))\n",
      "(465, FreqDist({'=2E=2E=2E=2E=2E=2E=2E=2E=2E=2E=2E=2E=2E=2E=2E=2E=2E=2E=2E=2E=2E=2E=2E=2E=2E=2E=2E=2E=2E=2E=2E=2E=2E=2E=2E=2E=2E=2E=2E=2E=2E=2E=2E=2E=2E=2E=2E=2E=2E=2E=2E=2E=2E=2E=2E=2E=2E=2E=2E=2E=2E=2E=2E=2E=2E=2E=2E=2E=2E=2E=2E=2E=2E=2E=2E=2E=2E=2E=2E=2E=2E=2E=2E=2E=2E=2E=2E=2E=2E=2E=2E=2E=2E=2E=2E=2E=2E=2E=2E=2E=2E=2E=2E=2E=2E=2E=2E=2E=2E=2E=2E=2E=2E=2E=2E=2E=2E=2E=2E=2E=2E=2E=2E=2E=2E=2E=2E=2E=2E=2E=2E=2E=2E=2E=2E=2E=2E=2E=2E=2E=2E=2E=2E=2E=2E=2E=2E=2E=2E=2E=2E=2E=2E=2E=2E': 2}))\n",
      "(522, FreqDist({'=2E=2E=2E=2E=2E=2E=2E=2E=2E=2E=2E=2E=2E=2E=2E=2E=2E=2E=2E=2E=2E=2E=2E=2E=2E=2E=2E=2E=2E=2E=2E=2E=2E=2E=2E=2E=2E=2E=2E=2E=2E=2E=2E=2E=2E=2E=2E=2E=2E=2E=2E=2E=2E=2E=2E=2E=2E=2E=2E=2E=2E=2E=2E=2E=2E=2E=2E=2E=2E=2E=2E=2E=2E=2E=2E=2E=2E=2E=2E=2E=2E=2E=2E=2E=2E=2E=2E=2E=2E=2E=2E=2E=2E=2E=2E=2E=2E=2E=2E=2E=2E=2E=2E=2E=2E=2E=2E=2E=2E=2E=2E=2E=2E=2E=2E=2E=2E=2E=2E=2E=2E=2E=2E=2E=2E=2E=2E=2E=2E=2E=2E=2E=2E=2E=2E=2E=2E=2E=2E=2E=2E=2E=2E=2E=2E=2E=2E=2E=2E=2E=2E=2E=2E=2E=2E=2E=2E=2E=2E=2E=2E=2E=2E=2E=2E=2E=2E=2E=2E=2E=2E=2E=2E=2E': 2}))\n",
      "(309, FreqDist({'=2E=2E=2E=2E=2E=2E=2E=2E=2E=2E=2E=2E=2E=2E=2E=2E=2E=2E=2E=2E=2E=2E=2E=2E=2E=2E=2E=2E=2E=2E=2E=2E=2E=2E=2E=2E=2E=2E=2E=2E=2E=2E=2E=2E=2E=2E=2E=2E=2E=2E=2E=2E=2E=2E=2E=2E=2E=2E=2E=2E=2E=2E=2E=2E=2E=2E=2E=2E=2E=2E=2E=2E=2E=2E=2E=2E=2E=2E=2E=2E=2E=2E=2E=2E=2E=2E=2E=2E=2E=2E=2E=2E=2E=2E=2E=2E=2E=2E=2E=2E=2E=2E=2E': 2}))\n",
      "(189, FreqDist({'=2E=2E=2E=2E=2E=2E=2E=2E=2E=2E=2E=2E=2E=2E=2E=2E=2E=2E=2E=2E=2E=2E=2E=2E=2E=2E=2E=2E=2E=2E=2E=2E=2E=2E=2E=2E=2E=2E=2E=2E=2E=2E=2E=2E=2E=2E=2E=2E=2E=2E=2E=2E=2E=2E=2E=2E=2E=2E=2E=2E=2E=2E=2E': 2}))\n",
      "(519, FreqDist({'=2E=2E=2E=2E=2E=2E=2E=2E=2E=2E=2E=2E=2E=2E=2E=2E=2E=2E=2E=2E=2E=2E=2E=2E=2E=2E=2E=2E=2E=2E=2E=2E=2E=2E=2E=2E=2E=2E=2E=2E=2E=2E=2E=2E=2E=2E=2E=2E=2E=2E=2E=2E=2E=2E=2E=2E=2E=2E=2E=2E=2E=2E=2E=2E=2E=2E=2E=2E=2E=2E=2E=2E=2E=2E=2E=2E=2E=2E=2E=2E=2E=2E=2E=2E=2E=2E=2E=2E=2E=2E=2E=2E=2E=2E=2E=2E=2E=2E=2E=2E=2E=2E=2E=2E=2E=2E=2E=2E=2E=2E=2E=2E=2E=2E=2E=2E=2E=2E=2E=2E=2E=2E=2E=2E=2E=2E=2E=2E=2E=2E=2E=2E=2E=2E=2E=2E=2E=2E=2E=2E=2E=2E=2E=2E=2E=2E=2E=2E=2E=2E=2E=2E=2E=2E=2E=2E=2E=2E=2E=2E=2E=2E=2E=2E=2E=2E=2E=2E=2E=2E=2E=2E=2E': 2}))\n",
      "(393, FreqDist({'=2E=2E=2E=2E=2E=2E=2E=2E=2E=2E=2E=2E=2E=2E=2E=2E=2E=2E=2E=2E=2E=2E=2E=2E=2E=2E=2E=2E=2E=2E=2E=2E=2E=2E=2E=2E=2E=2E=2E=2E=2E=2E=2E=2E=2E=2E=2E=2E=2E=2E=2E=2E=2E=2E=2E=2E=2E=2E=2E=2E=2E=2E=2E=2E=2E=2E=2E=2E=2E=2E=2E=2E=2E=2E=2E=2E=2E=2E=2E=2E=2E=2E=2E=2E=2E=2E=2E=2E=2E=2E=2E=2E=2E=2E=2E=2E=2E=2E=2E=2E=2E=2E=2E=2E=2E=2E=2E=2E=2E=2E=2E=2E=2E=2E=2E=2E=2E=2E=2E=2E=2E=2E=2E=2E=2E=2E=2E=2E=2E=2E=2E': 2}))\n",
      "(44, FreqDist({'//news.bbc.co.uk/1/hi/world/europe/859479.s=': 19, '//en.wikipedia.org/wiki/Mikhail_Khodorkovsky': 6, '//uk.messenger.yahoo.com/download/index.html': 4, 'news.bbc.co.uk/1/hi/world/africa/3333557.stm': 4, 'news.bbc.co.uk/1/hi/world/africa/2278292.stm': 4, '//www.windowslive.fr/liveonecare/default.asp': 4, '//news.1chinastar.com/ll/english/61934.shtml': 3, '//www.cnn.com/health/9809/03/dr.mann.profile': 3, '/usr/local/cpanel/base/horde/imp/compose.php': 3, '=3Cmailto=3Achuksanths=40zwallet=2Ecom=3E=2E': 2, ...}))\n",
      "(46, FreqDist({'//news.bbc.co.uk/1/hi/world/africa/1935646.stm': 8, '//uk.rd.yahoo.com/mail/tagline_messenger/*http': 8, '//news.bbc.co.uk/1/hi/world/africa/1968300.stm': 8, '//news.bbc.co.uk/1/hi/world/africa/1063785.stm': 7, 'versionId=5d21c51a-b161-4314-9b0e-4911fb2b2e6d': 5, '-MOQ1144346298e8adbbf420c9ea119c8d05fad0638728': 4, '-MOQ1168417198cae30143d0d9d757c75fecfea5e31005': 4, 'ww.cnn.com/2000/US/02/01/alaska.airlines.list/': 3, '//us.rd.yahoo.com/mail_us/taglines/PMHM3/*http': 3, '=CE=D2=D3=D0=D2=BB=B8=F6=D0=C2=B5=C4=B5=E7=D3=': 3, ...}))\n",
      "(45, FreqDist({'//news.bbc.co.uk/1/hi/world/europe/859479.stm': 71, '//news.bbc.co.uk/1/hi/world/africa/918781.stm': 8, '//news.bbc.co.uk/1/hi/world/africa/715001.stm': 8, '//news.bbc.co.uk/1/hi/world/europe/859479.st=': 6, '//www.unwire.org/UNWire/20030716/449_6621.asp': 4, 'NextPart_Webmail_9m3u9jl4l_26941_1114397607_0': 4, '//news.bbc.co.uk/1/hi/world/europe/851119.stm': 4, '//news.bbc.co.uk/1/hi/world/africa/468903.stm': 3, '//channels.netscape.com/ns/search/install.jsp': 3, '//news.bbc.co.uk/2/hi/world/europe/672849.stm': 3, ...}))\n",
      "(59, FreqDist({'___________________________________________________________': 42, '//messenger.msn.click-url.com/go/onm00200471ave/direct/01/=': 8, '//news.ft.com/cms/4bb9612a-d254-11d8-b661-00000e2511c8.html': 6, 'www.dailynews.co.zw/daily/2001/December/December4/3891.htm1': 2, 'http=3A//www=2Eiol=2Ept/correio/rodape=2Ephp=3Fdst=3D07011=': 2, 'PAN=3E=3C/td=3E=3C/tr=3E=3C/table=3E=3Cbr=3E=3Cbr=3E=3Cspan': 1, 'le=3D=22font-family=3Averdana=3Bfont-size=3A11px=3B=22=3EYa': 1, 'ALTERNATIVE-MAIL=3A=28mr=5Fgideonkwami=40yahoo=2Eco=2Euk=29': 1, '//edition.cnn.com/2005/WORLD/africa/10/23/obasanjo.obituary': 1, '//us.rd.yahoo.com/mail/uk/taglines/default/trueswitch/*http': 1, ...}))\n",
      "(43, FreqDist({'//www.tiscali.co.uk/products/broadbandhome/': 22, '//us.rd.yahoo.com/mail/in/mailcricket/*http': 10, 'Boundary-=_145719e1154e31aa6988914f25336d24': 6, '___________________________________________': 5, '=_NextPart_eRvCQ3XZVU2vryjq7KWhDClTv8iEVA8E': 4, 'MTc5ODk3MDUxOTQwMDg1MTE2NDI2MDc2NQ===HTML==': 4, 'Boundary-=_f15a8a4353d05bd74c5226d91272d10f': 4, 'Boundary-=_9b04a983c456bddd6d64907819a113a1': 3, 'Boundary-=_cb127db60d089d5927e76767c0d4c027': 3, 'Boundary-=_b18ab32eaa9900a93de0785054972295': 3, ...}))\n",
      "(71, FreqDist({'_______________________________________________________________________': 1, '=======================================================================': 1, '//specials.divertissements.fr.msn.com/lessimpsonlefilm/economiseur.asp=': 1}))\n",
      "(64, FreqDist({'________________________________________________________________': 10, 'AAAAAAAAAAAAAAAAAAAAAAAAAAAgAAAAAAAAACAAAAAAEAAAABwAAAAgAAAAJgAA': 4, '//ads.sify.com/RealMedia/ads/click_nx.ads/mail.sify.com/sentmail': 2, '//www.september11victims.com/september11Victims/victims_list.htm': 2, '================================================================': 2, 'http=3A//www=2Euslaboragainstwar=2Eorg/article=2Ephp=3Fid=3D6979': 2, '//moneycentral.msn.com/content/Banking/Betterbanking/P123123.asp': 2, '//www.cnn.com/2003/WORLD/africa/02/03/lagos.explosion/index.html': 1, 'HELLO=20FROM=20ALI=20=20ASITA=20=20=20=20URGENT=20REPLY=20PLS=20': 1, '//us.rd.yahoo.com/mail/uk/taglines/default/security_centre/*http': 1, ...}))\n",
      "(84, FreqDist({'website=3A=28www=2Ecnn=2Ecom=2Fus=2F9911=2F02=2Fegyptair990=2Elist=2Findex=2Ehtml=29': 4, '=3C=3Chttp=3A=2F=2Fnewsfromrussia=2Ecom=2Fmain=2F2003=2F11=2F13=2F51215=2Ehtml=3E=3E': 1, '____________________________________________________________________________________': 1}))\n",
      "(67, FreqDist({'//news.bbc.co.uk/hi/english/world/africa/newsid_1839000/1839252.stm': 7, '___________________________________________________________________': 3, '=C4=FA=CF=D6=D4=DA=BF=C9=D2=D4=B7=A2=B5=E7=D7=D3=D3=CA=BC=FE=B8=F8=': 3, 'news=2Eairwise=2Ecom=2Fairlines=2Farchive=2F2000=2Fkenya2000=2Ehtml': 2, '//cnnstudentnews.cnn.com/WORLD/americas/9809/05/swissair.transcript': 2, 'http=3A=2F=2Fnews=2Ebbc=2Eco=2Euk=2F2=2Fhi=2Fafrica=2F3249161=2Estm': 2, '//ads.sify.com/RealMedia/ads/adstream_nx.ads/mail.sify.com/sentmail': 2, 'acker=2Easp=3Fmedio=3DWANP=26cod=3DDG044=3C/a=3E=3C/span=3E=3Cbr=3E': 1, 'hty=2Eco=2Eza=22=3Eauditoredward=40mighty=2Eco=2Eza=3C/A=3E=3C/P=3E': 1, 'http=3A=2F=2Fnews=2Ebbc=2Eco=2Euk=2F2=2Fhi=2Fafrica=2F3338023=2Estm': 1, ...}))\n",
      "(76, FreqDist({'CkFzc2FsYW11YWxhaWt1bQoKTXkgbmFtZSBpcyBBbWluYSBIYW5uYWggSGF0bGViZXJnIGZyb20g': 6, 'QW1lcmljYS4gSSBhbSB0aGUgc3Vydml2aW5nCkRhdWdodGVyIG9mIERyLiBhbmQgTXJzIEhhdGxl': 6, 'YmVyZyB3aG8gZGllZCBhcyBhIHJlc3VsdCBvZiBwbGFuZSBjcmFzaCBvZiAKQWxhc2thIEFpcmxp': 6, 'bmVzIEZsaWdodCAyNjEgd2hpY2ggY3Jhc2hlZCBvbiBKYW51YXJ5IDMxIDIwMDAuIE15IGZhbWls': 6, 'eQpjb252ZXJ0ZWQgdG8gSXNsYW0gaW4gMTk5OC4gV2hlbiBteSBsYXRlIFBhcmVudCB3ZXJlIGFs': 6, 'aXZlLCBteSBmYXRoZXIKZGVwb3NpdGVkIHRoZSBzdW0gb2YkOC41IE1pbGxpb24gKGVpZ2h0IG1p': 6, 'bGxpb24gZml2ZSBodW5kcmVkIHRob3VzYW5kClUuUy4gRG9sbGFycykgd2l0aCBJbnRlcm5hdGlv': 6, 'bmFsIERpcGxvbWF0aWMgc2VydmljZSBmaXJtIGluIHNvdXRoIGVhc3QKQXNpYSB3aXRoIHB1cnBv': 6, 'c2UgdG8gaW52ZXN0IHRoZSBmdW5kIGluIElzbGFtaWMgZm91bmRhdGlvbiBpbiBBc2lhCmJlZm9y': 6, 'ZSBkZWF0aCB0b29rIGhpbSwgVGhlIGZ1bmQgaXMgc3RpbGwgdW5kZXIgc2FmZSBrZWVwaW5nIHdp': 6, ...}))\n",
      "(83, FreqDist({'Http=3A=2F=2FWww=2ETime=2ECom=2FTime=2FEurope=2FMagazine=2F2000=2F27=2FSwiss=2EHtml': 2, 'website=3Ahttp=3A=2F=2F=28news=2Ebbc=2Eco=2Euk=2F2=2Fhi=2Fafrica=2F2269238=2Estm=29': 1, '//atmst.net/o~Newnewsletter~ed67e6cff9a645c9cf2102f25724a816~sQrtPHaoDxBoEiDtrx.gif': 1}))\n",
      "(60, FreqDist({'/usr/local/cpanel/base/3rdparty/squirrelmail/src/compose.php': 29, '____________________________________________________________': 26, '//www.cnn.com/2003/WORLD/africa/12/26/benin.crash/index.html': 15, '//www.cnn.com/2003/WORLD/africa/07/20/kenya.crash/index.html': 10, '_=__=_XaM3_.1146100702.2A.664392.42.7954.52.42.007.754236804': 4, '_=__=_XaM3_.1149808305.2A.909025.42.9282.52.42.007.748195070': 4, '_=__=_XaM3_.1149908713.2A.620668.42.4862.52.42.007.985841875': 4, '_=__=_XaM3_.1150915796.2A.582810.42.3108.52.42.007.281411493': 4, '_=__=_XaM3_.1160240021.2A.557835.42.18505.52.42.007.49741737': 4, '/9j/4AAQSkZJRgABAQEAlgCWAAD/4QAWRXhpZgAASUkqAAgAAAAAAAAAAAD/': 4, ...}))\n",
      "(35, FreqDist({'//www.msn.fr/newhotmail/Default.asp': 42, '//www.tiscali.co.uk/travel/flights/': 30, '//yahoo.shaadi.com/india-matrimony/': 14, '=_Part_30735_24267576.1073609051783': 8, '//terramail.terra.com.mx/TerraMail/': 8, '=_Part_23006_16104466.1073351626850': 6, '26=2C500=2C000=2E00=2C=28Twenty-six': 5, '//fr.rd.yahoo.com/evt=3D42054/*http': 5, '=_Part_16287_14929308.1068038230057': 4, '=_Part_23837_10121851.1071017274325': 4, ...}))\n",
      "(95, FreqDist({'=3Chttp=3A=2F=2Flw15fd=2Elaw15=2Ehotmail=2Emsn=2Ecom=2Fcgi-bin=2Fcompose=3Fcurmbox=3DF000000001': 4, 'target=3D=5Fblankhttp=3A=2F=2Fnewsfromrussia=2Ecom=2Fmain=2F2003=2F11=2F13=2F51215=2Ehtml=3E=3E': 2, '=3C=3Chttp=3A=2F=2Fwww=2Emosnews=2Ecom=2Fmoney=2F2004=2F10=2F18=2Fyuganskneftegaz=2Eshtml=3E=3E': 1}))\n",
      "(37, FreqDist({'//www.rediff.com/uim/common/trans.gif': 20, '=_NextPart_000_0000_01C6527E.AE8904D0': 12, '//www.terra.com.mx/acceso/suscribete/': 8, '=_NextPart_000_0362_01C5E654.BF014520': 8, '_____________________________________': 5, '//www.ideas.live.com/programpage.aspx': 5, '=_NextPart_001_0007_2C040077.840C0165': 4, '=_NextPart_000_0034_01C221EC.6C64F7B0': 4, '=_NextPart_000_0000_D1C40648.B44929C6': 4, '=_NextPart_001_0001_C47D52EF.4F4CDF3A': 4, ...}))\n",
      "(65, FreqDist({'_________________________________________________________________': 326, 'wanadoo.es_ltwebml03.localdomain_3e1c06f5532612c28c6dbe2ff9180e59': 6, '//news.bbc.co.uk/hi/english/world/africa/newsid_741000/741506.stm': 3, '=================================================================': 2, '//news.bbc.co.uk/hi/english/world/africa/newsid_909000/909972.stm': 1, '//news.bbc.co.uk/hi/english/world/africa/newsid_877000/877113.stm': 1, '//www.cnn.com/2003/WORLD/africa/08/11/taylor.warcrimes/index.html': 1, '//us.rd.yahoo.com/mail/uk/taglines/default/nowyoucan/pc_mag/*http': 1}))\n",
      "(103, FreqDist({'_______________________________________________________________________________________________________': 1, 'NUMBERS=2E=2E=2E=2E=2E=2E=2E=2E=2E=2E=2E=2E=2E=2E=2E=2E=2E=2E=2E=2E=2E=2E=2E=2E=2E=2E=2E=2E=2E=2E=2E=2E': 1, '//us.rd.yahoo.com/evt=38382/_ylc=X3oDMTEzNWFva2Y2BF9TAzk3MTA3MDc2BHNlYwNtYWlsdGFncwRzbGsDMmF1dG9z/*http': 1, 'http=3A=2F=2Fwww=2Eusatoday=2Ecom=2Fnews=2Fopinion=2Fcolumnists=2Fwickham=2F2002-04-19-wickham=2Ehtm=2E': 1}))\n",
      "(42, FreqDist({'/us.yimg.com/i/us/pim/gr/gr_announce_1.gif': 29, '//news.bbc.co.uk/1/hi/business/3213505.stm': 10, 'wellsfargo.biz.jsessionid=5QWBU8TLSM01.pif': 7, 'Message-Boundary-by-Mail-Sender-1141561891': 3, 'Message-Boundary-by-Mail-Sender-1149035062': 3, 'com/2002/WORLD/europe/01/04/england.plane/': 3, '//www.rediff.com/money/2006/jun/26spec.htm': 3, '//en.facebox.com/go/register/id=1531345088': 3, '=3Cmailto=3Abolaharry1=40kukamail=2Ecom=3E': 2, '5778175.1057715532340.JavaMail.idrisumar94': 2, ...}))\n",
      "(40, FreqDist({'________________________________________': 11, '//in.rd.yahoo.com/specials/mailtg2/*http': 10, 'style=3D=22font-family=3Amonospace=22=3E': 8, '//news.bbc.co.uk/2/hi/africa/3348109.stm': 7, '//us.rd.yahoo.com/mail_it/taglines/*http': 5, '//news.bbc.co.uk/2/hi/africa/2963086.stm': 4, 'address=28mic=2Eezra2006=40yahoo=2Efr=29': 4, '//eragon-heroic-fantasy.spaces.live.com/': 4, 'foreignoperations=40cititrust-bank=2Ecom': 2, '58958.80.179.249.164.1086034555.squirrel': 2, ...}))\n",
      "(31, FreqDist({'/base/3rdparty/squirrelmail/src': 29, '//antispam.yahoo.com/domainkeys': 18, '//mobile.live.fr/messenger/ten/': 9, 'uk/1/hi/world/europe/859479.stm': 7, 'ns1.bandits-home-on-the-web.com': 6, '=2FPresident=2FCEO=2CCacao-Cafe': 5, '//www.live.com/getstarted.aspx=': 5, 'server100.easyhostsolutions.net': 4, 'webedge20-101-1106-101-20040924': 4, 'ForeignOilConsultant/Contractor': 3, ...}))\n",
      "(32, FreqDist({'//www.bestsellers.indiatimes.com': 34, '//im.live.com/messenger/im/home/': 11, '//www.dawodu.com/kanocrash02.htm': 8, 'ismtp7.priv2.mail.entelchile.net': 7, 'ismtp5.priv2.mail.entelchile.net': 6, 'ismtp8.priv2.mail.entelchile.net': 5, 'X-AtHome-MailScanner-Information': 5, 'mijez2001=5Fnnpc=40zwallet=2Ecom': 4, 'ismtp4.priv2.mail.entelchile.net': 4, 'www.gov.za/profiles/shabangu.htm': 4, ...}))\n",
      "(47, FreqDist({'//newsfromrussia.com/main/2003/11/13/51215.html': 25, '_______________________________________________': 15, '//news.bbc.co.uk/1/hi/world/americas/502503.stm': 13, '//mail.lycos.co.uk/Images/Mail/_content/dot.gif': 13, '//www.cnn.com/WORLD/9708/06/guam.passenger.list': 8, '//newsfromrussia.com/main/2005/03/29/58914.html': 7, '***********************************************': 6, '=_NextPart_336af786_0a47_4811_881e_f0b70a10921f': 4, '=_NextPart_b013880e_f519_4a03_956f_2963d9d43302': 4, '=_NextPart_742e193a_fff1_4c68_bd5f_a123e0d69010': 4, ...}))\n",
      "(33, FreqDist({'//www.123.com/sp/chat/section.php': 22, '//us.rd.yahoo.com/evt=40705/*http': 9, '//us.rd.yahoo.com/evt=41244/*http': 8, '//smallbusiness.yahoo.com/r-index': 8, '_=_NextPart_001_01C71DF4.6900FE02': 8, '//us.rd.yahoo.com/evt=39666/*http': 6, '//rd.yahoo.com/mail/mailsig/*http': 4, '_=_NextPart_001_01C7577E.A2E79C8E': 4, '=_Part_1213_3837102.1182326210678': 4, '//us.rd.yahoo.com/evt=47093/*http': 4, ...}))\n",
      "(41, FreqDist({'Email=3Adavidchambers=40katamail=2Ecom=2E': 8, '//lists.si.UM/mailman/admindb/researchers': 7, '//www.rte.ie/news/2000/0418/zimbabwe.html': 6, '//i.yimg.jp/i/jp/pim/gr/gr_announce_1.gif': 5, '=28joe=5Fmokoena=40fastermail=2Ecom=29=2E': 3, '25f2baccada04cfb13b6cd9831caf084-Boundary': 3, '5d5c59fc88a713b6f5cf91e9c0af9baf-Boundary': 3, '2bc391a9aae216fe2c31367615ba7d3b-Boundary': 3, '9c5f7c95db2be73b72b691c144250b2a-Boundary': 3, 'f7d7ee110b62e1c3440ccf123f7a30ea-Boundary': 3, ...}))\n",
      "(54, FreqDist({'______________________________________________________': 24, '//www.usatoday.com/news/world/2003-07-15-liberia_x.htm': 12, '=3Cmailto=3Adr=2E=2Eabdull=2Erasaq=40caramail=2Ecom=3E': 8, '//archives.cnn.com/2000/US/02/01/alaska.airlines.list/': 6, 'www.windowslive-hotmail.com/learnmore/personalize.html': 6, 'MB_8C98536EF3248E1_C20_7DC_WEBMAIL-MB10.sysops.aol.com': 4, '//promotions.yahoo.com/new_mail/static/efficiency.html': 3, '//www.armsdeal-vpo.co.za/articles00/govt_reserves.html': 2, '//movies.yahoo.com/movies/feature/jibjabinaugural.html': 2, '//promotions.yahoo.com/new_mail/static/protection.html': 2, ...}))\n"
     ]
    },
    {
     "name": "stdout",
     "output_type": "stream",
     "text": [
      "(28, FreqDist({'ng=3D=228=22=3E=3Ctr=3E=3Ctd': 11, '/fr.beta.messenger.yahoo.com': 11, '//www.zwallet.com/index.html': 10, 'E-Loan-Appraiser-Results.pif': 7, 'websolutions.adulthost4u.net': 6, 'envelope-from=jasonleceister': 5, 'church=2Corphanages=2Cwidows': 4, '0-60592429-1077217264=:22625': 4, 'hassounodhiambo12=40z6=2Ecom': 4, 'server23.integrityserver.net': 4, ...}))\n",
      "(30, FreqDist({'sigmod-pods06-webmaster-errors': 77, '1173150563-3d63005e0000-9ftx55': 50, '//www.msn.fr/msger/default.asp': 18, '//in.sports.yahoo.com/cricket/': 11, '0-1429893984-1090503983=:70249': 8, '0-1967126765-1170338255=:94144': 8, '0-1886643039-1172150314=:46608': 8, '0-1552369249-1178398298=:55890': 8, '______________________________': 6, '=EA=E1=E9=ED=EF=FD=F1=E3=E9=E1': 6, ...}))\n",
      "(51, FreqDist({'___________________________________________________': 21, 'MYWAYBOUNDARY_000__b63d3cb6a526464ff5963b71824a0b55': 8, '//us.rd.yahoo.com/mail/in/mailmobilemessenger/*http': 4, '//www.propertyworld.com/sub_page.cfm/title/Marbella': 4, 'MB_8C91D723A17D6DE_152C_533C_FWM-M38.sysops.aol.com': 4, 'MYWAYBOUNDARY_000__70c56870840e670334641037b667e1d4': 4, 'MB_8C9860D95B7EC9F_1A3C_8424_FWM-D32.sysops.aol.com': 4, '//go.msn.fr/10-channel/80-security/spam/default.asp': 2, '//news.bbc.co.uk/1/hi/world/middle_east/3479937.stm': 2, '//news.bbc.co.uk/1/hi/world/middle_east/3995769.stm': 2, ...}))\n",
      "(36, FreqDist({'//www.tiscali.co.uk/travel/holidays/': 30, '=3Adavidchambers=40katamail=2Ecom=2E': 8, '____________________________________': 8, '6dea1291-bd30-4769-8523-a4dfe790d0de': 6, '3febc2e5-40ae-419d-888a-c596c43265bb': 6, 'd6b9cac0-c60a-11d8-8772-0004aca2aa72': 6, 'c2281d88-a547-4b67-bf90-b3d0370b5333': 6, '7ffe5039-12fe-4fdb-b55b-5248df2227b3': 6, '3246ef71-deeb-4cb2-88a7-03be4b4a8f82': 6, '9fb843fb-a9a9-4239-a364-76f336375b92': 6, ...}))\n",
      "(57, FreqDist({'_________________________________________________________': 10, '//www.amarillonet.com/stories/031500/usn_LA0703.001.shtml': 7, '_=__=_XaM3_.1065796588.2A.373670.42.25817.52.42.007.18300': 4, '_=__=_XaM3_.1065796661.2A.457031.42.26172.52.42.007.27827': 4, '//www.cbsnews.com/stories/1999/11/01/iran/main49778.shtml': 4, 'MB_8C8FE3F58D138FA_10C0_10806_WEBMAIL-MB19.sysops.aol.com': 4, '//secure.caramail.lycos.fr/services/content/advdetail.jsp': 2, '/=3E=3Co=3Ap=3E=3C/o=3Ap=3E=3C/FONT=3E=3C/FONT=3E=3C/P=3E': 1, '//www.vanguardngr.com/articles/2002/cover/f214102004.html': 1, '=2E=2E=2E=2E=2E=2E=2E=2E=2E=2E=2E=2E=2E=2E=2E=3CBR=3EYOUR': 1, ...}))\n",
      "(39, FreqDist({'dr=2E=2Eabdull=2Erasaq=40caramail=2Ecom': 12, '//in.rd.yahoo.com/specials/mailtg/*http': 10, '//adsl.alice.it/servizi/alicebasic.html': 9, '//www.npr.org/templates/story/story.php': 6, '_______________________________________': 6, '//sourceforge.net/mailarchive/forum.php': 5, '//www.wral.com/news/2345844/detail.html': 5, '_===278961294====mail01.infosat.net===_': 4, '=_NextPart_Caramail_0034851038336838_ID': 3, '=_NextPart_Caramail_0262011038673940_ID': 3, ...}))\n",
      "(34, FreqDist({'/usr/local/cpanel/3rdparty/bin/php': 64, '__________________________________': 21, '=_NextPart_Lycos_14605778138216_ID': 6, '=_NextPart_Lycos_27571779448169_ID': 6, '//uk.docs.yahoo.com/nowyoucan.html': 5, '//get.live.com/messenger/overview=': 5, '=_Part_3945_11365429.1067342384894': 4, '=_Part_1063_31790249.1067504386719': 4, '=_Part_1081_16460484.1069469526891': 4, '=_Part_2967_17616563.1070204591974': 4, ...}))\n",
      "(26, FreqDist({'//airsahara.indiatimes.com': 34, 'fistfulofdollars.mr.itd.UM': 17, 'secure.securespace4u.co.uk': 12, 'Mrs=2EAmina=2EA=2EBello=2E': 10, 'web2.direct-webhosting.net': 8, '//photomail.mail.yahoo.com': 7, '//beta.messenger.yahoo.com': 6, 'straightnochaser.mr.itd.UM': 5, 'www=2Engrguardiannew=2Ecom': 5, 'Commission=28NDDC=29-which': 5, ...}))\n",
      "(50, FreqDist({'__________________________________________________': 59, 'www.cnn.com/us/9911/02/egyptair990.list/index.html': 4, '//www.geocities.com/capitolhill/5260/passlist.html': 2, '***********************************************=0D': 2, '//www.cnn.com/2003/WORLD/africa/12/26/benin.crash/': 2, '//news.bbc.co.uk/1/hi/world/americas/502503.stm=20': 2, '==================================================': 1, 'Website=3Ahttp=3A=2F=2Fwww=2Enewswatchngr=2Ecom=5D': 1, '//www.shop4tech.com/z/Inkjet_Cartridges/9_108_r285': 1, 'reply=2E=3Co=3Ap=3E=3C/o=3Ap=3E=3C/SPAN=3E=3C/P=3E': 1, ...}))\n",
      "(24, FreqDist({'application/octet-stream': 44, 'X-Authentication-Warning': 31, '//uk.messenger.yahoo.com': 20, 'probate=2Fadministration': 18, 'Gauge=XXXXXXXXXIIIIIIIII': 12, '//au.messenger.yahoo.com': 12, 'CONFIDENTIAL/COOPERATION': 11, '//www.hoovers.com/yukos/': 11, 'nutch-developers-request': 9, '/free-co-factsheet.xhtml': 8, ...}))\n",
      "(29, FreqDist({'//mail.yahoo.com/config/login': 17, '//mrd.mail.yahoo.com/try_beta': 11, 'rebels=28R=2EU=2EF=29attacked': 9, '===_Lenthe_000_2cmsidcipdbofx': 8, '===_LikeYe_888_2fqhkpbulkeeyu': 8, '0-298434412-1086814984=:70850': 8, 'server145.webdomainserver.com': 8, '0-930567302-1099896484=:25288': 8, '0-808196063-1163159407=:78797': 8, 'doc.cresson.grenoble.archi.fr': 8, ...}))\n",
      "(21, FreqDist({'multipart/alternative': 496, 'X-OriginalArrivalTime': 449, 'consultant/contractor': 84, 'lists.sourceforge.net': 56, 'neartoearth.mr.itd.UM': 26, 'schemas-microsoft-com': 25, 'MSGID_FROM_MTA_HEADER': 24, 'magnumforce.mr.itd.UM': 17, '//www.ideas.live.com/': 13, 'church=2Forganisation': 12, ...}))\n",
      "(38, FreqDist({'______________________________________': 9, 'http=3A=2F=2Fwww=2Ekataweb=2Eit=2Ffoto': 8, '_9d3b7bd7-70a5-4e4b-8411-5a685fcf5f87_': 8, '_abf2b294-3cf9-457c-b81c-ba2f8334ffae_': 8, '//www.interfax.ru/e/B/politics/28.html': 7, '//www.the-idler.com/IDLER-02/3-16.html': 6, '=3DTXT_TAGLM_HMWL_reten_addcolor_0607=': 6, 'SCALI/AREA=3DNEWSLETTER..HOME/POS=3DL2': 5, '=_NextPart_000_5B90E_01C37A80.189DC060': 4, '=_NextPart_000_5B27A_01C37A86.83A68300': 4, ...}))\n",
      "(58, FreqDist({'//messenger.msn.click-url.com/go/onm00200471ave/direct/01/': 31, '//us.i1.yimg.com/us.yimg.com/i/us/pim/gr/gr_announce_1.gif': 27, '__________________________________________________________': 18, '//cnnstudentnews.cnn.com/WORLD/9809/swissair.victims.list/': 3, 'www.cnn.com/2003/WORLD/africa/07/20/kenya.crash/index.html': 3, '=3C=2E=2E=2Fsrc=2Fcompose=2Ephp=3Fsend=5Fto=3Dpaul=5Fmills': 2, '//us.rd.yahoo.com/mail/uk/taglines/default/messenger/*http': 2, 'style=3D=22font-family=3Averdana=3Bfont-size=3A11px=3B=22=': 1, 'href=3D=22mailto=3Adnaminu=40yahoo=2Eco=2Ein=22=3Ednaminu=': 1, 'href=3D=22http=3A//www=2Eopendemocracy=2Enet/debates/arti=': 1, ...}))\n",
      "(23, FreqDist({'sigmod-pods06-webmaster': 39, 'consultant=2Fcontractor': 33, \"style='background-color\": 25, 'credentials/particulars': 18, '__HAS_OUTLOOK_IN_MAILER': 16, '__MSGID_BEFORE_RECEIVED': 9, 'http-equiv=Content-Type': 8, 'contractors=2Fsuppliers': 8, 'country=28Liberia=29=2E': 8, 'information=2Fdocuments': 7, ...}))\n",
      "(18, FreqDist({'charset=iso-8859-1': 1162, 'charset=ISO-8859-1': 117, 'smtp.latinmail.com': 87, 'FORGED_MUA_OUTLOOK': 86, 'LINES_OF_YELLING_2': 48, 'confidentiality=2C': 45, 'awakenings.mail.UM': 45, 'confidentiality=2E': 44, 'beneficiary=2Fnext': 40, 'X-Originating-User': 40, ...}))\n",
      "(22, FreqDist({'undisclosed-recipients': 475, 'probate/administration': 57, 'X-Spam-Checker-Version': 42, '__CTYPE_CHARSET_QUOTED': 41, '//email.indiatimes.com': 34, 'pinkcadillac.mr.itd.UM': 23, 'spacecowboys.mr.itd.UM': 22, 'threefriends.mr.itd.UM': 20, 'perfectworld.mr.itd.UM': 19, 'suddenimpact.mr.itd.UM': 16, ...}))\n",
      "(19, FreqDist({'X-Originating-Email': 372, 'Content-Disposition': 203, 'Content-disposition': 66, '//www.latinchat.com': 45, 'SquirrelMail/1.4.9a': 43, 'charset=iso-2022-jp': 38, '25=2C000=2C000=2E00': 28, 'FROM_HAS_ULINE_NUMS': 25, 'truecrime.mr.itd.UM': 24, 'DomainKey-Signature': 23, ...}))\n",
      "(13, FreqDist({'investigation': 684, 'communication': 678, 'latinmail.com': 413, 'international': 399, 'format=flowed': 380, 'International': 309, 'unfortunately': 277, 'organizations': 234, 'X-Spam-Status': 196, 'tiscali.co.uk': 193, ...}))\n",
      "(17, FreqDist({'Originator/Caller': 163, 'X-MSMail-Priority': 147, 'class=3DMsoNormal': 144, 'X-Accept-Language': 115, 'FROM_ENDS_IN_NUMS': 61, 'barris_jose_marri': 56, 'MIME_QP_LONG_LINE': 55, 'mso-ansi-language': 45, 'participation=2CI': 44, '__NIGERIAN_BODY_7': 39, ...}))\n",
      "(16, FreqDist({'quoted-printable': 2321, 'X-Originating-IP': 495, 'charset=us-ascii': 321, 'background-color': 92, 'LINES_OF_YELLING': 73, 'charset=US-ASCII': 68, '__TO_MALFORMED_2': 65, '__MIME_TEXT_ONLY': 65, 'beneficiary/next': 63, 'Content-language': 63, ...}))\n",
      "(20, FreqDist({'X-MIME-Autoconverted': 225, 'acl-webmaster-errors': 170, 'RATWARE_OE_MALFORMED': 70, 'style=3D=22MARGIN=3A': 40, 'transaction/business': 29, 'charset=windows-1250': 24, 'cryforhelp.mr.itd.UM': 22, 'MSGID_FROM_MTA_SHORT': 22, 'brokenways.mr.itd.UM': 19, 'idoldancer.mr.itd.UM': 19, ...}))\n",
      "(25, FreqDist({'Content-Transfer-Encoding': 4168, 'mailserver-ng.cs.umbc.edu': 124, 'Content-transfer-encoding': 87, 'www.freeserve.com/anytime': 27, 'heartbreakridge.mr.itd.UM': 12, '=_NextPart_AF_000021C_01E': 12, '//netwinsite.com/refw.htm': 11, 'www=2Ethisdayonline=2Ecom': 10, '=_NextPart_AF_000021C_01C': 9, '__FROM_HAS_UNDERLINE_NUMS': 8, ...}))\n",
      "(12, FreqDist({'Content-Type': 5426, 'MIME-Version': 3084, 'confidential': 1142, 'Mime-Version': 883, 'CONFIDENTIAL': 656, 'netscape.net': 603, 'co-operation': 601, 'disbursement': 365, 'relationship': 315, 'yahoo.com.hk': 307, ...}))\n",
      "(14, FreqDist({'5.00.2919.6900': 964, 'transaction=2E': 365, 'NIGERIAN_BODY1': 184, 'correspondence': 173, 'X-Spam-Summary': 143, 'NIGERIAN_BODY2': 143, 'representative': 139, 'rediffmail.com': 137, 'indiatimes.com': 129, 'documentations': 111, ...}))\n",
      "(6, FreqDist({'Status': 3988, 'family': 2682, 'Please': 2533, 'father': 2277, 'before': 1918, 'assist': 1855, 'Africa': 1781, 'United': 1722, 'amount': 1649, 'please': 1580, ...}))\n",
      "(5, FreqDist({'money': 10115, 'which': 4619, 'funds': 3215, 'Sieve': 2885, 'email': 2493, 'claim': 2317, 'after': 2211, 'would': 2181, 'where': 2096, 'shall': 2069, ...}))\n",
      "(27, FreqDist({'qzsoft_directmail_seperator': 174, 'Disposition-Notification-To': 26, 'www.windowslivemessenger.fr': 12, '/usr/local/apache/bin/httpd': 11, '//www.freeserve.com/anytime': 10, '=E4=E9=E5=FD=E8=F5=ED=F3=E7': 9, '//abbonati.tiscali.it/adsl/': 8, 'distributionid=000000000066': 6, 'www.modellbolt.hu/index.php': 6, '===============1062096546==': 5, ...}))\n",
      "(10, FreqDist({'text/plain': 3775, 'assistance': 2525, 'Message-Id': 1922, 'investment': 1830, 'Message-ID': 1423, 'government': 1202, 'discovered': 1163, 'interested': 1044, 'Government': 1008, 'contacting': 829, ...}))\n",
      "(9, FreqDist({'deposited': 1669, 'yahoo.com': 1632, 'foreigner': 1608, 'documents': 1533, 'telephone': 1193, 'Microsoft': 1185, 'necessary': 1162, 'boundary=': 884, 'unclaimed': 719, 'therefore': 709, ...}))\n",
      "(7, FreqDist({'account': 7402, 'Subject': 4306, 'country': 4168, 'contact': 3804, 'because': 3335, 'X-Sieve': 2936, 'foreign': 2903, 'through': 2876, 'company': 2680, 'address': 2118, ...}))\n",
      "(15, FreqDist({'confidentiality': 704, 'multipart/mixed': 388, 'class=MsoNormal': 147, 'mailman-bounces': 90, 'CONFIDENTIALITY': 89, '__CT_TEXT_PLAIN': 67, 'bluewhale.cs.CU': 64, 'Consequently=2C': 59, '20.00000Million': 56, 'john_kenedy_418': 56, ...}))\n",
      "(11, FreqDist({'transaction': 4614, 'Return-Path': 3905, 'information': 2095, 'immediately': 1609, 'hotmail.com': 1586, 'beneficiary': 1188, 'X-AntiAbuse': 815, 'transferred': 806, 'yahoo.co.uk': 752, 'consignment': 713, ...}))\n",
      "(8, FreqDist({'business': 4536, 'transfer': 3742, 'Reply-To': 2659, 'security': 2128, 'charset=': 2096, 'X-Mailer': 1787, 'deceased': 1377, 'response': 1294, 'proposal': 1270, 'interest': 1228, ...}))\n",
      "(2, FreqDist({'to': 61022, 'of': 52775, 'in': 33413, 'my': 21500, 'as': 17585, \"''\": 17074, 'is': 16381, 'be': 14142, '--': 13858, 'me': 13268, ...}))\n",
      "(3, FreqDist({'the': 73559, 'and': 41094, 'you': 32375, 'for': 23175, 'THE': 9389, 'not': 7828, 'his': 7754, 'was': 7199, 'AND': 6097, 'our': 5778, ...}))\n",
      "(1, FreqDist({':': 71292, ',': 58638, '>': 53896, '<': 52993, '.': 51579, 'I': 40160, 'a': 25509, ';': 23208, '@': 22386, '&': 13233, ...}))\n",
      "(4, FreqDist({'this': 26732, 'your': 22474, 'that': 19080, 'will': 18786, 'with': 13922, 'nbsp': 11353, 'have': 10945, 'From': 8895, 'from': 7984, 'bank': 5212, ...}))\n"
     ]
    }
   ],
   "source": [
    "for i in range(len(s)):\n",
    "    print(s[i])"
   ]
  },
  {
   "cell_type": "code",
   "execution_count": 66,
   "metadata": {},
   "outputs": [
    {
     "ename": "IndexError",
     "evalue": "pop from empty list",
     "output_type": "error",
     "traceback": [
      "\u001b[0;31m---------------------------------------------------------------------------\u001b[0m",
      "\u001b[0;31mIndexError\u001b[0m                                Traceback (most recent call last)",
      "\u001b[0;32m<ipython-input-66-98e0b39982ed>\u001b[0m in \u001b[0;36m<module>\u001b[0;34m\u001b[0m\n\u001b[1;32m      9\u001b[0m             \u001b[0mtag\u001b[0m \u001b[0;34m=\u001b[0m \u001b[0mi\u001b[0m\u001b[0;34m\u001b[0m\u001b[0m\n\u001b[1;32m     10\u001b[0m             \u001b[0mcount\u001b[0m \u001b[0;34m+=\u001b[0m\u001b[0;36m1\u001b[0m\u001b[0;34m\u001b[0m\u001b[0m\n\u001b[0;32m---> 11\u001b[0;31m     \u001b[0ms\u001b[0m\u001b[0;34m.\u001b[0m\u001b[0mpop\u001b[0m\u001b[0;34m(\u001b[0m\u001b[0mtag\u001b[0m\u001b[0;34m)\u001b[0m\u001b[0;34m\u001b[0m\u001b[0m\n\u001b[0m\u001b[1;32m     12\u001b[0m \u001b[0mprint\u001b[0m\u001b[0;34m(\u001b[0m\u001b[0mlen\u001b[0m\u001b[0;34m(\u001b[0m\u001b[0ms\u001b[0m\u001b[0;34m)\u001b[0m\u001b[0;34m)\u001b[0m\u001b[0;34m\u001b[0m\u001b[0m\n",
      "\u001b[0;31mIndexError\u001b[0m: pop from empty list"
     ]
    }
   ],
   "source": [
    "pattern = '[a-zA-z]+'\n",
    "count = 1\n",
    "while(count != 0):\n",
    "    for i in range(len(s)):\n",
    "        count = 0\n",
    "        temp = str(s[i][0])\n",
    "        match = re.search(pattern, temp)\n",
    "        if match != True:\n",
    "            tag = i\n",
    "            count +=1\n",
    "    s.pop(tag)    \n",
    "print(len(s))\n"
   ]
  },
  {
   "cell_type": "code",
   "execution_count": null,
   "metadata": {},
   "outputs": [],
   "source": []
  },
  {
   "cell_type": "code",
   "execution_count": null,
   "metadata": {},
   "outputs": [],
   "source": []
  },
  {
   "cell_type": "code",
   "execution_count": null,
   "metadata": {},
   "outputs": [],
   "source": []
  },
  {
   "cell_type": "code",
   "execution_count": null,
   "metadata": {},
   "outputs": [],
   "source": []
  },
  {
   "cell_type": "code",
   "execution_count": null,
   "metadata": {},
   "outputs": [],
   "source": []
  },
  {
   "cell_type": "code",
   "execution_count": null,
   "metadata": {},
   "outputs": [],
   "source": []
  },
  {
   "cell_type": "code",
   "execution_count": null,
   "metadata": {},
   "outputs": [],
   "source": []
  },
  {
   "cell_type": "code",
   "execution_count": null,
   "metadata": {},
   "outputs": [],
   "source": []
  },
  {
   "cell_type": "code",
   "execution_count": null,
   "metadata": {},
   "outputs": [],
   "source": []
  },
  {
   "cell_type": "code",
   "execution_count": null,
   "metadata": {},
   "outputs": [],
   "source": []
  },
  {
   "cell_type": "code",
   "execution_count": null,
   "metadata": {},
   "outputs": [],
   "source": []
  },
  {
   "cell_type": "code",
   "execution_count": null,
   "metadata": {},
   "outputs": [],
   "source": []
  },
  {
   "cell_type": "code",
   "execution_count": null,
   "metadata": {},
   "outputs": [],
   "source": []
  },
  {
   "cell_type": "code",
   "execution_count": null,
   "metadata": {},
   "outputs": [],
   "source": []
  },
  {
   "cell_type": "code",
   "execution_count": null,
   "metadata": {},
   "outputs": [],
   "source": []
  },
  {
   "cell_type": "code",
   "execution_count": null,
   "metadata": {},
   "outputs": [],
   "source": []
  },
  {
   "cell_type": "code",
   "execution_count": null,
   "metadata": {},
   "outputs": [],
   "source": []
  },
  {
   "cell_type": "code",
   "execution_count": null,
   "metadata": {},
   "outputs": [],
   "source": []
  },
  {
   "cell_type": "code",
   "execution_count": null,
   "metadata": {},
   "outputs": [],
   "source": []
  },
  {
   "cell_type": "code",
   "execution_count": null,
   "metadata": {},
   "outputs": [],
   "source": []
  },
  {
   "cell_type": "code",
   "execution_count": null,
   "metadata": {},
   "outputs": [],
   "source": []
  },
  {
   "cell_type": "code",
   "execution_count": null,
   "metadata": {},
   "outputs": [],
   "source": []
  },
  {
   "cell_type": "code",
   "execution_count": null,
   "metadata": {},
   "outputs": [],
   "source": []
  },
  {
   "cell_type": "code",
   "execution_count": null,
   "metadata": {},
   "outputs": [],
   "source": []
  }
 ],
 "metadata": {
  "kernelspec": {
   "display_name": "Python 3",
   "language": "python",
   "name": "python3"
  },
  "language_info": {
   "codemirror_mode": {
    "name": "ipython",
    "version": 3
   },
   "file_extension": ".py",
   "mimetype": "text/x-python",
   "name": "python",
   "nbconvert_exporter": "python",
   "pygments_lexer": "ipython3",
   "version": "3.6.5"
  }
 },
 "nbformat": 4,
 "nbformat_minor": 2
}

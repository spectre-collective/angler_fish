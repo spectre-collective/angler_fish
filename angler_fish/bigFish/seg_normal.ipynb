{
 "cells": [
  {
   "cell_type": "code",
   "execution_count": 1,
   "metadata": {},
   "outputs": [],
   "source": [
    "import re\n",
    "\n",
    "f = open('enron3.txt', 'r')\n",
    "\n",
    "corpus = [item for item in f]"
   ]
  },
  {
   "cell_type": "code",
   "execution_count": 2,
   "metadata": {
    "scrolled": true
   },
   "outputs": [],
   "source": [
    "#print(corpus[0:100])"
   ]
  },
  {
   "cell_type": "code",
   "execution_count": 3,
   "metadata": {},
   "outputs": [],
   "source": [
    "def split_enron_set(corps):\n",
    "    \n",
    "    data_set = []\n",
    "    j = 0\n",
    "    \n",
    "    flag1 = False\n",
    "    falg2 = False\n",
    "    \n",
    "    anchor = 0\n",
    "    cap = 0\n",
    "    \n",
    "    temp = \"\"\n",
    "    \n",
    "    pattern = '((X-FileName: \\w*)|(X-Origin: \\w*))'\n",
    "    \n",
    "    for i in range(len(corps)):\n",
    "        \n",
    "        line = str(corps[i])\n",
    "        \n",
    "        match = re.search(pattern, line)\n",
    "        \n",
    "        if(match and flag1 == False):\n",
    "            \n",
    "            anchor = i\n",
    "            \n",
    "            flag1 = True\n",
    "        \n",
    "        elif(match and flag1 == True):\n",
    "            \n",
    "            cap = [i]\n",
    "            \n",
    "            data_set.append(temp)\n",
    "            \n",
    "            j += 1\n",
    "            \n",
    "            temp = \"\"\n",
    "            \n",
    "            flag1 = False\n",
    "            \n",
    "        else:\n",
    "            \n",
    "            temp += line\n",
    "            \n",
    "    return data_set"
   ]
  },
  {
   "cell_type": "code",
   "execution_count": 4,
   "metadata": {},
   "outputs": [],
   "source": [
    "x = split_enron_set(corpus)"
   ]
  },
  {
   "cell_type": "code",
   "execution_count": 5,
   "metadata": {},
   "outputs": [],
   "source": [
    "#print(x[0])"
   ]
  },
  {
   "cell_type": "code",
   "execution_count": 6,
   "metadata": {},
   "outputs": [],
   "source": [
    "#print(x[1])"
   ]
  },
  {
   "cell_type": "code",
   "execution_count": 7,
   "metadata": {},
   "outputs": [],
   "source": [
    "#print(x[2])"
   ]
  },
  {
   "cell_type": "code",
   "execution_count": 8,
   "metadata": {},
   "outputs": [],
   "source": [
    "#print(x[3])"
   ]
  },
  {
   "cell_type": "code",
   "execution_count": 9,
   "metadata": {},
   "outputs": [],
   "source": [
    "#for i in range(10): \n",
    "    #print(x[i+3])\n",
    "    #print(' NEW EMAIL')"
   ]
  },
  {
   "cell_type": "code",
   "execution_count": 10,
   "metadata": {},
   "outputs": [
    {
     "name": "stdout",
     "output_type": "stream",
     "text": [
      "done.\n"
     ]
    }
   ],
   "source": [
    "print('done.')"
   ]
  },
  {
   "cell_type": "code",
   "execution_count": null,
   "metadata": {},
   "outputs": [],
   "source": []
  }
 ],
 "metadata": {
  "kernelspec": {
   "display_name": "Python 3",
   "language": "python",
   "name": "python3"
  },
  "language_info": {
   "codemirror_mode": {
    "name": "ipython",
    "version": 3
   },
   "file_extension": ".py",
   "mimetype": "text/x-python",
   "name": "python",
   "nbconvert_exporter": "python",
   "pygments_lexer": "ipython3",
   "version": "3.8.5"
  }
 },
 "nbformat": 4,
 "nbformat_minor": 2
}
